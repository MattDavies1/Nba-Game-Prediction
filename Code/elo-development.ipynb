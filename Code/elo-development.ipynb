{
 "metadata": {
  "language_info": {
   "codemirror_mode": {
    "name": "ipython",
    "version": 3
   },
   "file_extension": ".py",
   "mimetype": "text/x-python",
   "name": "python",
   "nbconvert_exporter": "python",
   "pygments_lexer": "ipython3",
   "version": "3.8.3-final"
  },
  "orig_nbformat": 2,
  "kernelspec": {
   "name": "python3",
   "display_name": "Python 3.8.3 64-bit ('base': conda)",
   "metadata": {
    "interpreter": {
     "hash": "14873b134a6df6bdbe73dbc09885064bffe4aa7cbeeab256e9c51fc6a1e52a68"
    }
   }
  }
 },
 "nbformat": 4,
 "nbformat_minor": 2,
 "cells": [
  {
   "cell_type": "code",
   "execution_count": 2,
   "metadata": {},
   "outputs": [],
   "source": [
    "import pandas as pd\n",
    "import os\n",
    "from datetime import datetime, timedelta"
   ]
  },
  {
   "cell_type": "code",
   "execution_count": 3,
   "metadata": {},
   "outputs": [
    {
     "output_type": "execute_result",
     "data": {
      "text/plain": [
       "'../Resources/games.csv'"
      ]
     },
     "metadata": {},
     "execution_count": 3
    }
   ],
   "source": [
    "# Set route to data\n",
    "games_data = os.path.join(\"..\", \"Resources\", \"games.csv\")\n",
    "games_data"
   ]
  },
  {
   "cell_type": "code",
   "execution_count": 4,
   "metadata": {},
   "outputs": [
    {
     "output_type": "execute_result",
     "data": {
      "text/plain": [
       "      GAME_DATE_EST   GAME_ID GAME_STATUS_TEXT  HOME_TEAM_ID  VISITOR_TEAM_ID  \\\n",
       "0        2020-12-19  12000047            Final    1610612753       1610612766   \n",
       "1        2020-12-19  12000048            Final    1610612764       1610612765   \n",
       "2        2020-12-19  12000049            Final    1610612763       1610612737   \n",
       "3        2020-12-18  12000039            Final    1610612754       1610612755   \n",
       "4        2020-12-18  12000040            Final    1610612761       1610612748   \n",
       "...             ...       ...              ...           ...              ...   \n",
       "23515    2014-10-06  11400007            Final    1610612737       1610612740   \n",
       "23516    2014-10-06  11400004            Final    1610612741       1610612764   \n",
       "23517    2014-10-06  11400005            Final    1610612747       1610612743   \n",
       "23518    2014-10-05  11400002            Final    1610612761       1610612758   \n",
       "23519    2014-10-04  11400001            Final    1610612748       1610612740   \n",
       "\n",
       "       SEASON  TEAM_ID_home  PTS_home  FG_PCT_home  FT_PCT_home  ...  \\\n",
       "0        2020    1610612753     120.0        0.433        0.792  ...   \n",
       "1        2020    1610612764      99.0        0.427        0.625  ...   \n",
       "2        2020    1610612763     116.0        0.400        0.744  ...   \n",
       "3        2020    1610612754     107.0        0.371        0.692  ...   \n",
       "4        2020    1610612761     105.0        0.380        0.737  ...   \n",
       "...       ...           ...       ...          ...          ...  ...   \n",
       "23515    2014    1610612737      93.0        0.419        0.821  ...   \n",
       "23516    2014    1610612741      81.0        0.338        0.719  ...   \n",
       "23517    2014    1610612747      98.0        0.448        0.682  ...   \n",
       "23518    2014    1610612761      99.0        0.440        0.771  ...   \n",
       "23519    2014    1610612748      86.0        0.431        0.679  ...   \n",
       "\n",
       "       AST_home  REB_home  TEAM_ID_away  PTS_away  FG_PCT_away  FT_PCT_away  \\\n",
       "0          23.0      50.0    1610612766     117.0        0.444        0.864   \n",
       "1          24.0      45.0    1610612765      96.0        0.402        0.647   \n",
       "2          21.0      43.0    1610612737     117.0        0.422        0.837   \n",
       "3          19.0      45.0    1610612755     113.0        0.533        0.629   \n",
       "4          27.0      37.0    1610612748     117.0        0.534        0.741   \n",
       "...         ...       ...           ...       ...          ...          ...   \n",
       "23515      24.0      50.0    1610612740      87.0        0.366        0.643   \n",
       "23516      18.0      40.0    1610612764      85.0        0.411        0.636   \n",
       "23517      29.0      45.0    1610612743      95.0        0.387        0.659   \n",
       "23518      21.0      30.0    1610612758      94.0        0.469        0.725   \n",
       "23519      18.0      42.0    1610612740      98.0        0.462        0.706   \n",
       "\n",
       "       FG3_PCT_away  AST_away  REB_away  HOME_TEAM_WINS  \n",
       "0             0.439      21.0      52.0               1  \n",
       "1             0.326      18.0      51.0               1  \n",
       "2             0.297      24.0      47.0               0  \n",
       "3             0.355      23.0      48.0               0  \n",
       "4             0.514      30.0      51.0               0  \n",
       "...             ...       ...       ...             ...  \n",
       "23515         0.375      17.0      43.0               1  \n",
       "23516         0.267      17.0      47.0               0  \n",
       "23517         0.500      19.0      43.0               1  \n",
       "23518         0.385      18.0      45.0               1  \n",
       "23519         0.438      19.0      42.0               0  \n",
       "\n",
       "[23520 rows x 21 columns]"
      ],
      "text/html": "<div>\n<style scoped>\n    .dataframe tbody tr th:only-of-type {\n        vertical-align: middle;\n    }\n\n    .dataframe tbody tr th {\n        vertical-align: top;\n    }\n\n    .dataframe thead th {\n        text-align: right;\n    }\n</style>\n<table border=\"1\" class=\"dataframe\">\n  <thead>\n    <tr style=\"text-align: right;\">\n      <th></th>\n      <th>GAME_DATE_EST</th>\n      <th>GAME_ID</th>\n      <th>GAME_STATUS_TEXT</th>\n      <th>HOME_TEAM_ID</th>\n      <th>VISITOR_TEAM_ID</th>\n      <th>SEASON</th>\n      <th>TEAM_ID_home</th>\n      <th>PTS_home</th>\n      <th>FG_PCT_home</th>\n      <th>FT_PCT_home</th>\n      <th>...</th>\n      <th>AST_home</th>\n      <th>REB_home</th>\n      <th>TEAM_ID_away</th>\n      <th>PTS_away</th>\n      <th>FG_PCT_away</th>\n      <th>FT_PCT_away</th>\n      <th>FG3_PCT_away</th>\n      <th>AST_away</th>\n      <th>REB_away</th>\n      <th>HOME_TEAM_WINS</th>\n    </tr>\n  </thead>\n  <tbody>\n    <tr>\n      <th>0</th>\n      <td>2020-12-19</td>\n      <td>12000047</td>\n      <td>Final</td>\n      <td>1610612753</td>\n      <td>1610612766</td>\n      <td>2020</td>\n      <td>1610612753</td>\n      <td>120.0</td>\n      <td>0.433</td>\n      <td>0.792</td>\n      <td>...</td>\n      <td>23.0</td>\n      <td>50.0</td>\n      <td>1610612766</td>\n      <td>117.0</td>\n      <td>0.444</td>\n      <td>0.864</td>\n      <td>0.439</td>\n      <td>21.0</td>\n      <td>52.0</td>\n      <td>1</td>\n    </tr>\n    <tr>\n      <th>1</th>\n      <td>2020-12-19</td>\n      <td>12000048</td>\n      <td>Final</td>\n      <td>1610612764</td>\n      <td>1610612765</td>\n      <td>2020</td>\n      <td>1610612764</td>\n      <td>99.0</td>\n      <td>0.427</td>\n      <td>0.625</td>\n      <td>...</td>\n      <td>24.0</td>\n      <td>45.0</td>\n      <td>1610612765</td>\n      <td>96.0</td>\n      <td>0.402</td>\n      <td>0.647</td>\n      <td>0.326</td>\n      <td>18.0</td>\n      <td>51.0</td>\n      <td>1</td>\n    </tr>\n    <tr>\n      <th>2</th>\n      <td>2020-12-19</td>\n      <td>12000049</td>\n      <td>Final</td>\n      <td>1610612763</td>\n      <td>1610612737</td>\n      <td>2020</td>\n      <td>1610612763</td>\n      <td>116.0</td>\n      <td>0.400</td>\n      <td>0.744</td>\n      <td>...</td>\n      <td>21.0</td>\n      <td>43.0</td>\n      <td>1610612737</td>\n      <td>117.0</td>\n      <td>0.422</td>\n      <td>0.837</td>\n      <td>0.297</td>\n      <td>24.0</td>\n      <td>47.0</td>\n      <td>0</td>\n    </tr>\n    <tr>\n      <th>3</th>\n      <td>2020-12-18</td>\n      <td>12000039</td>\n      <td>Final</td>\n      <td>1610612754</td>\n      <td>1610612755</td>\n      <td>2020</td>\n      <td>1610612754</td>\n      <td>107.0</td>\n      <td>0.371</td>\n      <td>0.692</td>\n      <td>...</td>\n      <td>19.0</td>\n      <td>45.0</td>\n      <td>1610612755</td>\n      <td>113.0</td>\n      <td>0.533</td>\n      <td>0.629</td>\n      <td>0.355</td>\n      <td>23.0</td>\n      <td>48.0</td>\n      <td>0</td>\n    </tr>\n    <tr>\n      <th>4</th>\n      <td>2020-12-18</td>\n      <td>12000040</td>\n      <td>Final</td>\n      <td>1610612761</td>\n      <td>1610612748</td>\n      <td>2020</td>\n      <td>1610612761</td>\n      <td>105.0</td>\n      <td>0.380</td>\n      <td>0.737</td>\n      <td>...</td>\n      <td>27.0</td>\n      <td>37.0</td>\n      <td>1610612748</td>\n      <td>117.0</td>\n      <td>0.534</td>\n      <td>0.741</td>\n      <td>0.514</td>\n      <td>30.0</td>\n      <td>51.0</td>\n      <td>0</td>\n    </tr>\n    <tr>\n      <th>...</th>\n      <td>...</td>\n      <td>...</td>\n      <td>...</td>\n      <td>...</td>\n      <td>...</td>\n      <td>...</td>\n      <td>...</td>\n      <td>...</td>\n      <td>...</td>\n      <td>...</td>\n      <td>...</td>\n      <td>...</td>\n      <td>...</td>\n      <td>...</td>\n      <td>...</td>\n      <td>...</td>\n      <td>...</td>\n      <td>...</td>\n      <td>...</td>\n      <td>...</td>\n      <td>...</td>\n    </tr>\n    <tr>\n      <th>23515</th>\n      <td>2014-10-06</td>\n      <td>11400007</td>\n      <td>Final</td>\n      <td>1610612737</td>\n      <td>1610612740</td>\n      <td>2014</td>\n      <td>1610612737</td>\n      <td>93.0</td>\n      <td>0.419</td>\n      <td>0.821</td>\n      <td>...</td>\n      <td>24.0</td>\n      <td>50.0</td>\n      <td>1610612740</td>\n      <td>87.0</td>\n      <td>0.366</td>\n      <td>0.643</td>\n      <td>0.375</td>\n      <td>17.0</td>\n      <td>43.0</td>\n      <td>1</td>\n    </tr>\n    <tr>\n      <th>23516</th>\n      <td>2014-10-06</td>\n      <td>11400004</td>\n      <td>Final</td>\n      <td>1610612741</td>\n      <td>1610612764</td>\n      <td>2014</td>\n      <td>1610612741</td>\n      <td>81.0</td>\n      <td>0.338</td>\n      <td>0.719</td>\n      <td>...</td>\n      <td>18.0</td>\n      <td>40.0</td>\n      <td>1610612764</td>\n      <td>85.0</td>\n      <td>0.411</td>\n      <td>0.636</td>\n      <td>0.267</td>\n      <td>17.0</td>\n      <td>47.0</td>\n      <td>0</td>\n    </tr>\n    <tr>\n      <th>23517</th>\n      <td>2014-10-06</td>\n      <td>11400005</td>\n      <td>Final</td>\n      <td>1610612747</td>\n      <td>1610612743</td>\n      <td>2014</td>\n      <td>1610612747</td>\n      <td>98.0</td>\n      <td>0.448</td>\n      <td>0.682</td>\n      <td>...</td>\n      <td>29.0</td>\n      <td>45.0</td>\n      <td>1610612743</td>\n      <td>95.0</td>\n      <td>0.387</td>\n      <td>0.659</td>\n      <td>0.500</td>\n      <td>19.0</td>\n      <td>43.0</td>\n      <td>1</td>\n    </tr>\n    <tr>\n      <th>23518</th>\n      <td>2014-10-05</td>\n      <td>11400002</td>\n      <td>Final</td>\n      <td>1610612761</td>\n      <td>1610612758</td>\n      <td>2014</td>\n      <td>1610612761</td>\n      <td>99.0</td>\n      <td>0.440</td>\n      <td>0.771</td>\n      <td>...</td>\n      <td>21.0</td>\n      <td>30.0</td>\n      <td>1610612758</td>\n      <td>94.0</td>\n      <td>0.469</td>\n      <td>0.725</td>\n      <td>0.385</td>\n      <td>18.0</td>\n      <td>45.0</td>\n      <td>1</td>\n    </tr>\n    <tr>\n      <th>23519</th>\n      <td>2014-10-04</td>\n      <td>11400001</td>\n      <td>Final</td>\n      <td>1610612748</td>\n      <td>1610612740</td>\n      <td>2014</td>\n      <td>1610612748</td>\n      <td>86.0</td>\n      <td>0.431</td>\n      <td>0.679</td>\n      <td>...</td>\n      <td>18.0</td>\n      <td>42.0</td>\n      <td>1610612740</td>\n      <td>98.0</td>\n      <td>0.462</td>\n      <td>0.706</td>\n      <td>0.438</td>\n      <td>19.0</td>\n      <td>42.0</td>\n      <td>0</td>\n    </tr>\n  </tbody>\n</table>\n<p>23520 rows × 21 columns</p>\n</div>"
     },
     "metadata": {},
     "execution_count": 4
    }
   ],
   "source": [
    "# Create Games Dataframe\n",
    "games_df = pd.read_csv(games_data)\n",
    "games_df"
   ]
  },
  {
   "cell_type": "code",
   "execution_count": 5,
   "metadata": {},
   "outputs": [],
   "source": [
    "# CHange dates to datetime64 data type\n",
    "games_df.GAME_DATE_EST = games_df.GAME_DATE_EST.astype('datetime64')"
   ]
  },
  {
   "source": [
    "# Pull out variables needed for calculating ELO\n",
    "relevant_df = games_df[['GAME_DATE_EST', 'HOME_TEAM_ID', 'VISITOR_TEAM_ID', 'SEASON', 'TEAM_ID_home', 'PTS_home', 'PTS_away', 'HOME_TEAM_WINS']]\n",
    "relevant_df"
   ],
   "cell_type": "code",
   "metadata": {},
   "execution_count": 6,
   "outputs": [
    {
     "output_type": "execute_result",
     "data": {
      "text/plain": [
       "      GAME_DATE_EST  HOME_TEAM_ID  VISITOR_TEAM_ID  SEASON  TEAM_ID_home  \\\n",
       "0        2020-12-19    1610612753       1610612766    2020    1610612753   \n",
       "1        2020-12-19    1610612764       1610612765    2020    1610612764   \n",
       "2        2020-12-19    1610612763       1610612737    2020    1610612763   \n",
       "3        2020-12-18    1610612754       1610612755    2020    1610612754   \n",
       "4        2020-12-18    1610612761       1610612748    2020    1610612761   \n",
       "...             ...           ...              ...     ...           ...   \n",
       "23515    2014-10-06    1610612737       1610612740    2014    1610612737   \n",
       "23516    2014-10-06    1610612741       1610612764    2014    1610612741   \n",
       "23517    2014-10-06    1610612747       1610612743    2014    1610612747   \n",
       "23518    2014-10-05    1610612761       1610612758    2014    1610612761   \n",
       "23519    2014-10-04    1610612748       1610612740    2014    1610612748   \n",
       "\n",
       "       PTS_home  PTS_away  HOME_TEAM_WINS  \n",
       "0         120.0     117.0               1  \n",
       "1          99.0      96.0               1  \n",
       "2         116.0     117.0               0  \n",
       "3         107.0     113.0               0  \n",
       "4         105.0     117.0               0  \n",
       "...         ...       ...             ...  \n",
       "23515      93.0      87.0               1  \n",
       "23516      81.0      85.0               0  \n",
       "23517      98.0      95.0               1  \n",
       "23518      99.0      94.0               1  \n",
       "23519      86.0      98.0               0  \n",
       "\n",
       "[23520 rows x 8 columns]"
      ],
      "text/html": "<div>\n<style scoped>\n    .dataframe tbody tr th:only-of-type {\n        vertical-align: middle;\n    }\n\n    .dataframe tbody tr th {\n        vertical-align: top;\n    }\n\n    .dataframe thead th {\n        text-align: right;\n    }\n</style>\n<table border=\"1\" class=\"dataframe\">\n  <thead>\n    <tr style=\"text-align: right;\">\n      <th></th>\n      <th>GAME_DATE_EST</th>\n      <th>HOME_TEAM_ID</th>\n      <th>VISITOR_TEAM_ID</th>\n      <th>SEASON</th>\n      <th>TEAM_ID_home</th>\n      <th>PTS_home</th>\n      <th>PTS_away</th>\n      <th>HOME_TEAM_WINS</th>\n    </tr>\n  </thead>\n  <tbody>\n    <tr>\n      <th>0</th>\n      <td>2020-12-19</td>\n      <td>1610612753</td>\n      <td>1610612766</td>\n      <td>2020</td>\n      <td>1610612753</td>\n      <td>120.0</td>\n      <td>117.0</td>\n      <td>1</td>\n    </tr>\n    <tr>\n      <th>1</th>\n      <td>2020-12-19</td>\n      <td>1610612764</td>\n      <td>1610612765</td>\n      <td>2020</td>\n      <td>1610612764</td>\n      <td>99.0</td>\n      <td>96.0</td>\n      <td>1</td>\n    </tr>\n    <tr>\n      <th>2</th>\n      <td>2020-12-19</td>\n      <td>1610612763</td>\n      <td>1610612737</td>\n      <td>2020</td>\n      <td>1610612763</td>\n      <td>116.0</td>\n      <td>117.0</td>\n      <td>0</td>\n    </tr>\n    <tr>\n      <th>3</th>\n      <td>2020-12-18</td>\n      <td>1610612754</td>\n      <td>1610612755</td>\n      <td>2020</td>\n      <td>1610612754</td>\n      <td>107.0</td>\n      <td>113.0</td>\n      <td>0</td>\n    </tr>\n    <tr>\n      <th>4</th>\n      <td>2020-12-18</td>\n      <td>1610612761</td>\n      <td>1610612748</td>\n      <td>2020</td>\n      <td>1610612761</td>\n      <td>105.0</td>\n      <td>117.0</td>\n      <td>0</td>\n    </tr>\n    <tr>\n      <th>...</th>\n      <td>...</td>\n      <td>...</td>\n      <td>...</td>\n      <td>...</td>\n      <td>...</td>\n      <td>...</td>\n      <td>...</td>\n      <td>...</td>\n    </tr>\n    <tr>\n      <th>23515</th>\n      <td>2014-10-06</td>\n      <td>1610612737</td>\n      <td>1610612740</td>\n      <td>2014</td>\n      <td>1610612737</td>\n      <td>93.0</td>\n      <td>87.0</td>\n      <td>1</td>\n    </tr>\n    <tr>\n      <th>23516</th>\n      <td>2014-10-06</td>\n      <td>1610612741</td>\n      <td>1610612764</td>\n      <td>2014</td>\n      <td>1610612741</td>\n      <td>81.0</td>\n      <td>85.0</td>\n      <td>0</td>\n    </tr>\n    <tr>\n      <th>23517</th>\n      <td>2014-10-06</td>\n      <td>1610612747</td>\n      <td>1610612743</td>\n      <td>2014</td>\n      <td>1610612747</td>\n      <td>98.0</td>\n      <td>95.0</td>\n      <td>1</td>\n    </tr>\n    <tr>\n      <th>23518</th>\n      <td>2014-10-05</td>\n      <td>1610612761</td>\n      <td>1610612758</td>\n      <td>2014</td>\n      <td>1610612761</td>\n      <td>99.0</td>\n      <td>94.0</td>\n      <td>1</td>\n    </tr>\n    <tr>\n      <th>23519</th>\n      <td>2014-10-04</td>\n      <td>1610612748</td>\n      <td>1610612740</td>\n      <td>2014</td>\n      <td>1610612748</td>\n      <td>86.0</td>\n      <td>98.0</td>\n      <td>0</td>\n    </tr>\n  </tbody>\n</table>\n<p>23520 rows × 8 columns</p>\n</div>"
     },
     "metadata": {},
     "execution_count": 6
    }
   ]
  },
  {
   "cell_type": "code",
   "execution_count": 7,
   "metadata": {},
   "outputs": [
    {
     "output_type": "execute_result",
     "data": {
      "text/plain": [
       "      GAME_DATE_EST  HOME_TEAM_ID  VISITOR_TEAM_ID  SEASON  TEAM_ID_home  \\\n",
       "22102    2015-06-16    1610612739       1610612744    2014    1610612739   \n",
       "22103    2015-06-14    1610612744       1610612739    2014    1610612744   \n",
       "22104    2015-06-11    1610612739       1610612744    2014    1610612739   \n",
       "22105    2015-06-09    1610612739       1610612744    2014    1610612739   \n",
       "22106    2015-06-07    1610612744       1610612739    2014    1610612744   \n",
       "...             ...           ...              ...     ...           ...   \n",
       "23515    2014-10-06    1610612737       1610612740    2014    1610612737   \n",
       "23516    2014-10-06    1610612741       1610612764    2014    1610612741   \n",
       "23517    2014-10-06    1610612747       1610612743    2014    1610612747   \n",
       "23518    2014-10-05    1610612761       1610612758    2014    1610612761   \n",
       "23519    2014-10-04    1610612748       1610612740    2014    1610612748   \n",
       "\n",
       "       PTS_home  PTS_away  HOME_TEAM_WINS  \n",
       "22102      97.0     105.0               0  \n",
       "22103     104.0      91.0               1  \n",
       "22104      82.0     103.0               0  \n",
       "22105      96.0      91.0               1  \n",
       "22106      93.0      95.0               0  \n",
       "...         ...       ...             ...  \n",
       "23515      93.0      87.0               1  \n",
       "23516      81.0      85.0               0  \n",
       "23517      98.0      95.0               1  \n",
       "23518      99.0      94.0               1  \n",
       "23519      86.0      98.0               0  \n",
       "\n",
       "[1418 rows x 8 columns]"
      ],
      "text/html": "<div>\n<style scoped>\n    .dataframe tbody tr th:only-of-type {\n        vertical-align: middle;\n    }\n\n    .dataframe tbody tr th {\n        vertical-align: top;\n    }\n\n    .dataframe thead th {\n        text-align: right;\n    }\n</style>\n<table border=\"1\" class=\"dataframe\">\n  <thead>\n    <tr style=\"text-align: right;\">\n      <th></th>\n      <th>GAME_DATE_EST</th>\n      <th>HOME_TEAM_ID</th>\n      <th>VISITOR_TEAM_ID</th>\n      <th>SEASON</th>\n      <th>TEAM_ID_home</th>\n      <th>PTS_home</th>\n      <th>PTS_away</th>\n      <th>HOME_TEAM_WINS</th>\n    </tr>\n  </thead>\n  <tbody>\n    <tr>\n      <th>22102</th>\n      <td>2015-06-16</td>\n      <td>1610612739</td>\n      <td>1610612744</td>\n      <td>2014</td>\n      <td>1610612739</td>\n      <td>97.0</td>\n      <td>105.0</td>\n      <td>0</td>\n    </tr>\n    <tr>\n      <th>22103</th>\n      <td>2015-06-14</td>\n      <td>1610612744</td>\n      <td>1610612739</td>\n      <td>2014</td>\n      <td>1610612744</td>\n      <td>104.0</td>\n      <td>91.0</td>\n      <td>1</td>\n    </tr>\n    <tr>\n      <th>22104</th>\n      <td>2015-06-11</td>\n      <td>1610612739</td>\n      <td>1610612744</td>\n      <td>2014</td>\n      <td>1610612739</td>\n      <td>82.0</td>\n      <td>103.0</td>\n      <td>0</td>\n    </tr>\n    <tr>\n      <th>22105</th>\n      <td>2015-06-09</td>\n      <td>1610612739</td>\n      <td>1610612744</td>\n      <td>2014</td>\n      <td>1610612739</td>\n      <td>96.0</td>\n      <td>91.0</td>\n      <td>1</td>\n    </tr>\n    <tr>\n      <th>22106</th>\n      <td>2015-06-07</td>\n      <td>1610612744</td>\n      <td>1610612739</td>\n      <td>2014</td>\n      <td>1610612744</td>\n      <td>93.0</td>\n      <td>95.0</td>\n      <td>0</td>\n    </tr>\n    <tr>\n      <th>...</th>\n      <td>...</td>\n      <td>...</td>\n      <td>...</td>\n      <td>...</td>\n      <td>...</td>\n      <td>...</td>\n      <td>...</td>\n      <td>...</td>\n    </tr>\n    <tr>\n      <th>23515</th>\n      <td>2014-10-06</td>\n      <td>1610612737</td>\n      <td>1610612740</td>\n      <td>2014</td>\n      <td>1610612737</td>\n      <td>93.0</td>\n      <td>87.0</td>\n      <td>1</td>\n    </tr>\n    <tr>\n      <th>23516</th>\n      <td>2014-10-06</td>\n      <td>1610612741</td>\n      <td>1610612764</td>\n      <td>2014</td>\n      <td>1610612741</td>\n      <td>81.0</td>\n      <td>85.0</td>\n      <td>0</td>\n    </tr>\n    <tr>\n      <th>23517</th>\n      <td>2014-10-06</td>\n      <td>1610612747</td>\n      <td>1610612743</td>\n      <td>2014</td>\n      <td>1610612747</td>\n      <td>98.0</td>\n      <td>95.0</td>\n      <td>1</td>\n    </tr>\n    <tr>\n      <th>23518</th>\n      <td>2014-10-05</td>\n      <td>1610612761</td>\n      <td>1610612758</td>\n      <td>2014</td>\n      <td>1610612761</td>\n      <td>99.0</td>\n      <td>94.0</td>\n      <td>1</td>\n    </tr>\n    <tr>\n      <th>23519</th>\n      <td>2014-10-04</td>\n      <td>1610612748</td>\n      <td>1610612740</td>\n      <td>2014</td>\n      <td>1610612748</td>\n      <td>86.0</td>\n      <td>98.0</td>\n      <td>0</td>\n    </tr>\n  </tbody>\n</table>\n<p>1418 rows × 8 columns</p>\n</div>"
     },
     "metadata": {},
     "execution_count": 7
    }
   ],
   "source": [
    "# For sake of development, pull ONE seasons games\n",
    "s2014_df = relevant_df.loc[relevant_df.SEASON == 2014]\n",
    "s2014_df"
   ]
  },
  {
   "cell_type": "code",
   "execution_count": 8,
   "metadata": {},
   "outputs": [
    {
     "output_type": "execute_result",
     "data": {
      "text/plain": [
       "Empty DataFrame\n",
       "Columns: [1610612739, 1610612744, 1610612745, 1610612737, 1610612764, 1610612763, 1610612741, 1610612746, 1610612751, 1610612749, 1610612759, 1610612757, 1610612738, 1610612742, 1610612740, 1610612761, 1610612750, 1610612752, 1610612755, 1610612747, 1610612754, 1610612756, 1610612766, 1610612748, 1610612760, 1610612762, 1610612758, 1610612765, 1610612743, 1610612753]\n",
       "Index: []\n",
       "\n",
       "[0 rows x 30 columns]"
      ],
      "text/html": "<div>\n<style scoped>\n    .dataframe tbody tr th:only-of-type {\n        vertical-align: middle;\n    }\n\n    .dataframe tbody tr th {\n        vertical-align: top;\n    }\n\n    .dataframe thead th {\n        text-align: right;\n    }\n</style>\n<table border=\"1\" class=\"dataframe\">\n  <thead>\n    <tr style=\"text-align: right;\">\n      <th></th>\n      <th>1610612739</th>\n      <th>1610612744</th>\n      <th>1610612745</th>\n      <th>1610612737</th>\n      <th>1610612764</th>\n      <th>1610612763</th>\n      <th>1610612741</th>\n      <th>1610612746</th>\n      <th>1610612751</th>\n      <th>1610612749</th>\n      <th>...</th>\n      <th>1610612754</th>\n      <th>1610612756</th>\n      <th>1610612766</th>\n      <th>1610612748</th>\n      <th>1610612760</th>\n      <th>1610612762</th>\n      <th>1610612758</th>\n      <th>1610612765</th>\n      <th>1610612743</th>\n      <th>1610612753</th>\n    </tr>\n  </thead>\n  <tbody>\n  </tbody>\n</table>\n<p>0 rows × 30 columns</p>\n</div>"
     },
     "metadata": {},
     "execution_count": 8
    }
   ],
   "source": [
    "# Create list iof team IDs\n",
    "team_ids = list(s2014_df.HOME_TEAM_ID.unique())\n",
    "\n",
    "# Initialize ELO table\n",
    "elo_by_date_df = pd.DataFrame(columns=team_ids)\n",
    "elo_by_date_df"
   ]
  },
  {
   "cell_type": "code",
   "execution_count": 9,
   "metadata": {},
   "outputs": [],
   "source": [
    "# Define function to estimate ELO based on previous season record\n",
    "def elo_estimater(wins):\n",
    "    return round((0.0029*(wins**3))-(0.3574*(wins**2))+(24.208*wins)+(907.97),2)"
   ]
  },
  {
   "cell_type": "code",
   "execution_count": 10,
   "metadata": {},
   "outputs": [],
   "source": [
    "# Import record of each team from 2013\n",
    "from nbapy import game, shot_chart, player, scoreboard, team\n",
    "east = scoreboard.Scoreboard(month=6, day=30, year=2014, league_id='00', offset=0).east_conf_standings_by_day()\n",
    "east = east[[\"TEAM_ID\", \"TEAM\", \"W\"]]\n",
    "west = scoreboard.Scoreboard(month=6, day=30, year=2014, league_id='00', offset=0).west_conf_standings_by_day()\n",
    "west = west[[\"TEAM_ID\", \"TEAM\", \"W\"]]\n",
    "standings = pd.concat([east, west])"
   ]
  },
  {
   "cell_type": "code",
   "execution_count": 11,
   "metadata": {},
   "outputs": [
    {
     "output_type": "execute_result",
     "data": {
      "text/plain": [
       "       TEAM_ID           TEAM   W      ELO\n",
       "0   1610612754        Indiana  56  1652.10\n",
       "1   1610612748          Miami  54  1629.67\n",
       "2   1610612741        Chicago  48  1567.22\n",
       "3   1610612761        Toronto  48  1567.22\n",
       "4   1610612751       Brooklyn  44  1528.23\n",
       "5   1610612764     Washington  44  1528.23\n",
       "6   1610612766      Charlotte  43  1518.65\n",
       "7   1610612737        Atlanta  38  1470.92\n",
       "8   1610612752       New York  37  1461.28\n",
       "9   1610612739      Cleveland  33  1421.84\n",
       "10  1610612765        Detroit  29  1380.16\n",
       "11  1610612738         Boston  25  1335.11\n",
       "12  1610612753        Orlando  23  1310.97\n",
       "13  1610612755   Philadelphia  19  1258.79\n",
       "14  1610612749      Milwaukee  15  1200.46\n",
       "0   1610612759    San Antonio  62  1726.17\n",
       "1   1610612760  Oklahoma City  59  1687.73\n",
       "2   1610612746  L.A. Clippers  57  1663.69\n",
       "3   1610612745        Houston  54  1629.67\n",
       "4   1610612757       Portland  54  1629.67\n",
       "5   1610612744   Golden State  51  1597.67\n",
       "6   1610612763        Memphis  50  1587.37\n",
       "7   1610612742         Dallas  49  1577.23\n",
       "8   1610612756        Phoenix  48  1567.22\n",
       "9   1610612750      Minnesota  40  1490.05\n",
       "10  1610612743         Denver  36  1451.57\n",
       "11  1610612740    New Orleans  34  1431.87\n",
       "12  1610612758     Sacramento  28  1369.25\n",
       "13  1610612747    L.A. Lakers  27  1358.12\n",
       "14  1610612762           Utah  25  1335.11"
      ],
      "text/html": "<div>\n<style scoped>\n    .dataframe tbody tr th:only-of-type {\n        vertical-align: middle;\n    }\n\n    .dataframe tbody tr th {\n        vertical-align: top;\n    }\n\n    .dataframe thead th {\n        text-align: right;\n    }\n</style>\n<table border=\"1\" class=\"dataframe\">\n  <thead>\n    <tr style=\"text-align: right;\">\n      <th></th>\n      <th>TEAM_ID</th>\n      <th>TEAM</th>\n      <th>W</th>\n      <th>ELO</th>\n    </tr>\n  </thead>\n  <tbody>\n    <tr>\n      <th>0</th>\n      <td>1610612754</td>\n      <td>Indiana</td>\n      <td>56</td>\n      <td>1652.10</td>\n    </tr>\n    <tr>\n      <th>1</th>\n      <td>1610612748</td>\n      <td>Miami</td>\n      <td>54</td>\n      <td>1629.67</td>\n    </tr>\n    <tr>\n      <th>2</th>\n      <td>1610612741</td>\n      <td>Chicago</td>\n      <td>48</td>\n      <td>1567.22</td>\n    </tr>\n    <tr>\n      <th>3</th>\n      <td>1610612761</td>\n      <td>Toronto</td>\n      <td>48</td>\n      <td>1567.22</td>\n    </tr>\n    <tr>\n      <th>4</th>\n      <td>1610612751</td>\n      <td>Brooklyn</td>\n      <td>44</td>\n      <td>1528.23</td>\n    </tr>\n    <tr>\n      <th>5</th>\n      <td>1610612764</td>\n      <td>Washington</td>\n      <td>44</td>\n      <td>1528.23</td>\n    </tr>\n    <tr>\n      <th>6</th>\n      <td>1610612766</td>\n      <td>Charlotte</td>\n      <td>43</td>\n      <td>1518.65</td>\n    </tr>\n    <tr>\n      <th>7</th>\n      <td>1610612737</td>\n      <td>Atlanta</td>\n      <td>38</td>\n      <td>1470.92</td>\n    </tr>\n    <tr>\n      <th>8</th>\n      <td>1610612752</td>\n      <td>New York</td>\n      <td>37</td>\n      <td>1461.28</td>\n    </tr>\n    <tr>\n      <th>9</th>\n      <td>1610612739</td>\n      <td>Cleveland</td>\n      <td>33</td>\n      <td>1421.84</td>\n    </tr>\n    <tr>\n      <th>10</th>\n      <td>1610612765</td>\n      <td>Detroit</td>\n      <td>29</td>\n      <td>1380.16</td>\n    </tr>\n    <tr>\n      <th>11</th>\n      <td>1610612738</td>\n      <td>Boston</td>\n      <td>25</td>\n      <td>1335.11</td>\n    </tr>\n    <tr>\n      <th>12</th>\n      <td>1610612753</td>\n      <td>Orlando</td>\n      <td>23</td>\n      <td>1310.97</td>\n    </tr>\n    <tr>\n      <th>13</th>\n      <td>1610612755</td>\n      <td>Philadelphia</td>\n      <td>19</td>\n      <td>1258.79</td>\n    </tr>\n    <tr>\n      <th>14</th>\n      <td>1610612749</td>\n      <td>Milwaukee</td>\n      <td>15</td>\n      <td>1200.46</td>\n    </tr>\n    <tr>\n      <th>0</th>\n      <td>1610612759</td>\n      <td>San Antonio</td>\n      <td>62</td>\n      <td>1726.17</td>\n    </tr>\n    <tr>\n      <th>1</th>\n      <td>1610612760</td>\n      <td>Oklahoma City</td>\n      <td>59</td>\n      <td>1687.73</td>\n    </tr>\n    <tr>\n      <th>2</th>\n      <td>1610612746</td>\n      <td>L.A. Clippers</td>\n      <td>57</td>\n      <td>1663.69</td>\n    </tr>\n    <tr>\n      <th>3</th>\n      <td>1610612745</td>\n      <td>Houston</td>\n      <td>54</td>\n      <td>1629.67</td>\n    </tr>\n    <tr>\n      <th>4</th>\n      <td>1610612757</td>\n      <td>Portland</td>\n      <td>54</td>\n      <td>1629.67</td>\n    </tr>\n    <tr>\n      <th>5</th>\n      <td>1610612744</td>\n      <td>Golden State</td>\n      <td>51</td>\n      <td>1597.67</td>\n    </tr>\n    <tr>\n      <th>6</th>\n      <td>1610612763</td>\n      <td>Memphis</td>\n      <td>50</td>\n      <td>1587.37</td>\n    </tr>\n    <tr>\n      <th>7</th>\n      <td>1610612742</td>\n      <td>Dallas</td>\n      <td>49</td>\n      <td>1577.23</td>\n    </tr>\n    <tr>\n      <th>8</th>\n      <td>1610612756</td>\n      <td>Phoenix</td>\n      <td>48</td>\n      <td>1567.22</td>\n    </tr>\n    <tr>\n      <th>9</th>\n      <td>1610612750</td>\n      <td>Minnesota</td>\n      <td>40</td>\n      <td>1490.05</td>\n    </tr>\n    <tr>\n      <th>10</th>\n      <td>1610612743</td>\n      <td>Denver</td>\n      <td>36</td>\n      <td>1451.57</td>\n    </tr>\n    <tr>\n      <th>11</th>\n      <td>1610612740</td>\n      <td>New Orleans</td>\n      <td>34</td>\n      <td>1431.87</td>\n    </tr>\n    <tr>\n      <th>12</th>\n      <td>1610612758</td>\n      <td>Sacramento</td>\n      <td>28</td>\n      <td>1369.25</td>\n    </tr>\n    <tr>\n      <th>13</th>\n      <td>1610612747</td>\n      <td>L.A. Lakers</td>\n      <td>27</td>\n      <td>1358.12</td>\n    </tr>\n    <tr>\n      <th>14</th>\n      <td>1610612762</td>\n      <td>Utah</td>\n      <td>25</td>\n      <td>1335.11</td>\n    </tr>\n  </tbody>\n</table>\n</div>"
     },
     "metadata": {},
     "execution_count": 11
    }
   ],
   "source": [
    "# Estimate each team's ELO at end of previous season\n",
    "standings['ELO'] = [elo_estimater(x) for x in list(standings.W)]\n",
    "standings"
   ]
  },
  {
   "cell_type": "code",
   "execution_count": 12,
   "metadata": {},
   "outputs": [],
   "source": [
    "# Pull list of unique team IDs from s2014 table\n",
    "team_ids = list(s2014_df.HOME_TEAM_ID.unique())\n",
    "\n",
    "s2013_end_ELOs = []\n",
    "\n",
    "# create mirroed list of ELOs\n",
    "for team in team_ids:\n",
    "    elo = float(standings.loc[standings.TEAM_ID == team].ELO)\n",
    "    s2013_end_ELOs.append(elo)\n",
    "\n",
    "# Calculate season start ELOs using decay function\n",
    "s2013_end_ELOs\n",
    "s2014_start_ELOs = [round((0.75*x) + (0.25*1505), 2) for x in s2013_end_ELOs]"
   ]
  },
  {
   "cell_type": "code",
   "execution_count": 13,
   "metadata": {},
   "outputs": [
    {
     "output_type": "execute_result",
     "data": {
      "text/plain": [
       "   1610612739  1610612744  1610612745  1610612737  1610612764  1610612763  \\\n",
       "0     1442.63      1574.5      1598.5     1479.44     1522.42     1566.78   \n",
       "\n",
       "   1610612741  1610612746  1610612751  1610612749  ...  1610612754  \\\n",
       "0     1551.66     1624.02     1522.42      1276.6  ...     1615.32   \n",
       "\n",
       "   1610612756  1610612766  1610612748  1610612760  1610612762  1610612758  \\\n",
       "0     1551.66     1515.24      1598.5     1642.05     1377.58     1403.19   \n",
       "\n",
       "   1610612765  1610612743  1610612753  \n",
       "0     1411.37     1464.93     1359.48  \n",
       "\n",
       "[1 rows x 30 columns]"
      ],
      "text/html": "<div>\n<style scoped>\n    .dataframe tbody tr th:only-of-type {\n        vertical-align: middle;\n    }\n\n    .dataframe tbody tr th {\n        vertical-align: top;\n    }\n\n    .dataframe thead th {\n        text-align: right;\n    }\n</style>\n<table border=\"1\" class=\"dataframe\">\n  <thead>\n    <tr style=\"text-align: right;\">\n      <th></th>\n      <th>1610612739</th>\n      <th>1610612744</th>\n      <th>1610612745</th>\n      <th>1610612737</th>\n      <th>1610612764</th>\n      <th>1610612763</th>\n      <th>1610612741</th>\n      <th>1610612746</th>\n      <th>1610612751</th>\n      <th>1610612749</th>\n      <th>...</th>\n      <th>1610612754</th>\n      <th>1610612756</th>\n      <th>1610612766</th>\n      <th>1610612748</th>\n      <th>1610612760</th>\n      <th>1610612762</th>\n      <th>1610612758</th>\n      <th>1610612765</th>\n      <th>1610612743</th>\n      <th>1610612753</th>\n    </tr>\n  </thead>\n  <tbody>\n    <tr>\n      <th>0</th>\n      <td>1442.63</td>\n      <td>1574.5</td>\n      <td>1598.5</td>\n      <td>1479.44</td>\n      <td>1522.42</td>\n      <td>1566.78</td>\n      <td>1551.66</td>\n      <td>1624.02</td>\n      <td>1522.42</td>\n      <td>1276.6</td>\n      <td>...</td>\n      <td>1615.32</td>\n      <td>1551.66</td>\n      <td>1515.24</td>\n      <td>1598.5</td>\n      <td>1642.05</td>\n      <td>1377.58</td>\n      <td>1403.19</td>\n      <td>1411.37</td>\n      <td>1464.93</td>\n      <td>1359.48</td>\n    </tr>\n  </tbody>\n</table>\n<p>1 rows × 30 columns</p>\n</div>"
     },
     "metadata": {},
     "execution_count": 13
    }
   ],
   "source": [
    "# Insert ELOs to ELO dataframe\n",
    "elo_by_date_df.loc[0] = s2014_start_ELOs\n",
    "\n",
    "elo_by_date_df"
   ]
  },
  {
   "cell_type": "code",
   "execution_count": 14,
   "metadata": {},
   "outputs": [
    {
     "output_type": "execute_result",
     "data": {
      "text/plain": [
       "          DATE  1610612739  1610612744  1610612745  1610612737  1610612764  \\\n",
       "0   2014-10-04     1442.63      1574.5      1598.5     1479.44     1522.42   \n",
       "1   2014-10-05         NaN         NaN         NaN         NaN         NaN   \n",
       "2   2014-10-06         NaN         NaN         NaN         NaN         NaN   \n",
       "3   2014-10-07         NaN         NaN         NaN         NaN         NaN   \n",
       "4   2014-10-08         NaN         NaN         NaN         NaN         NaN   \n",
       "..         ...         ...         ...         ...         ...         ...   \n",
       "251 2015-06-12         NaN         NaN         NaN         NaN         NaN   \n",
       "252 2015-06-13         NaN         NaN         NaN         NaN         NaN   \n",
       "253 2015-06-14         NaN         NaN         NaN         NaN         NaN   \n",
       "254 2015-06-15         NaN         NaN         NaN         NaN         NaN   \n",
       "255 2015-06-16         NaN         NaN         NaN         NaN         NaN   \n",
       "\n",
       "     1610612763  1610612741  1610612746  1610612751  ...  1610612754  \\\n",
       "0       1566.78     1551.66     1624.02     1522.42  ...     1615.32   \n",
       "1           NaN         NaN         NaN         NaN  ...         NaN   \n",
       "2           NaN         NaN         NaN         NaN  ...         NaN   \n",
       "3           NaN         NaN         NaN         NaN  ...         NaN   \n",
       "4           NaN         NaN         NaN         NaN  ...         NaN   \n",
       "..          ...         ...         ...         ...  ...         ...   \n",
       "251         NaN         NaN         NaN         NaN  ...         NaN   \n",
       "252         NaN         NaN         NaN         NaN  ...         NaN   \n",
       "253         NaN         NaN         NaN         NaN  ...         NaN   \n",
       "254         NaN         NaN         NaN         NaN  ...         NaN   \n",
       "255         NaN         NaN         NaN         NaN  ...         NaN   \n",
       "\n",
       "     1610612756  1610612766  1610612748  1610612760  1610612762  1610612758  \\\n",
       "0       1551.66     1515.24      1598.5     1642.05     1377.58     1403.19   \n",
       "1           NaN         NaN         NaN         NaN         NaN         NaN   \n",
       "2           NaN         NaN         NaN         NaN         NaN         NaN   \n",
       "3           NaN         NaN         NaN         NaN         NaN         NaN   \n",
       "4           NaN         NaN         NaN         NaN         NaN         NaN   \n",
       "..          ...         ...         ...         ...         ...         ...   \n",
       "251         NaN         NaN         NaN         NaN         NaN         NaN   \n",
       "252         NaN         NaN         NaN         NaN         NaN         NaN   \n",
       "253         NaN         NaN         NaN         NaN         NaN         NaN   \n",
       "254         NaN         NaN         NaN         NaN         NaN         NaN   \n",
       "255         NaN         NaN         NaN         NaN         NaN         NaN   \n",
       "\n",
       "     1610612765  1610612743  1610612753  \n",
       "0       1411.37     1464.93     1359.48  \n",
       "1           NaN         NaN         NaN  \n",
       "2           NaN         NaN         NaN  \n",
       "3           NaN         NaN         NaN  \n",
       "4           NaN         NaN         NaN  \n",
       "..          ...         ...         ...  \n",
       "251         NaN         NaN         NaN  \n",
       "252         NaN         NaN         NaN  \n",
       "253         NaN         NaN         NaN  \n",
       "254         NaN         NaN         NaN  \n",
       "255         NaN         NaN         NaN  \n",
       "\n",
       "[256 rows x 31 columns]"
      ],
      "text/html": "<div>\n<style scoped>\n    .dataframe tbody tr th:only-of-type {\n        vertical-align: middle;\n    }\n\n    .dataframe tbody tr th {\n        vertical-align: top;\n    }\n\n    .dataframe thead th {\n        text-align: right;\n    }\n</style>\n<table border=\"1\" class=\"dataframe\">\n  <thead>\n    <tr style=\"text-align: right;\">\n      <th></th>\n      <th>DATE</th>\n      <th>1610612739</th>\n      <th>1610612744</th>\n      <th>1610612745</th>\n      <th>1610612737</th>\n      <th>1610612764</th>\n      <th>1610612763</th>\n      <th>1610612741</th>\n      <th>1610612746</th>\n      <th>1610612751</th>\n      <th>...</th>\n      <th>1610612754</th>\n      <th>1610612756</th>\n      <th>1610612766</th>\n      <th>1610612748</th>\n      <th>1610612760</th>\n      <th>1610612762</th>\n      <th>1610612758</th>\n      <th>1610612765</th>\n      <th>1610612743</th>\n      <th>1610612753</th>\n    </tr>\n  </thead>\n  <tbody>\n    <tr>\n      <th>0</th>\n      <td>2014-10-04</td>\n      <td>1442.63</td>\n      <td>1574.5</td>\n      <td>1598.5</td>\n      <td>1479.44</td>\n      <td>1522.42</td>\n      <td>1566.78</td>\n      <td>1551.66</td>\n      <td>1624.02</td>\n      <td>1522.42</td>\n      <td>...</td>\n      <td>1615.32</td>\n      <td>1551.66</td>\n      <td>1515.24</td>\n      <td>1598.5</td>\n      <td>1642.05</td>\n      <td>1377.58</td>\n      <td>1403.19</td>\n      <td>1411.37</td>\n      <td>1464.93</td>\n      <td>1359.48</td>\n    </tr>\n    <tr>\n      <th>1</th>\n      <td>2014-10-05</td>\n      <td>NaN</td>\n      <td>NaN</td>\n      <td>NaN</td>\n      <td>NaN</td>\n      <td>NaN</td>\n      <td>NaN</td>\n      <td>NaN</td>\n      <td>NaN</td>\n      <td>NaN</td>\n      <td>...</td>\n      <td>NaN</td>\n      <td>NaN</td>\n      <td>NaN</td>\n      <td>NaN</td>\n      <td>NaN</td>\n      <td>NaN</td>\n      <td>NaN</td>\n      <td>NaN</td>\n      <td>NaN</td>\n      <td>NaN</td>\n    </tr>\n    <tr>\n      <th>2</th>\n      <td>2014-10-06</td>\n      <td>NaN</td>\n      <td>NaN</td>\n      <td>NaN</td>\n      <td>NaN</td>\n      <td>NaN</td>\n      <td>NaN</td>\n      <td>NaN</td>\n      <td>NaN</td>\n      <td>NaN</td>\n      <td>...</td>\n      <td>NaN</td>\n      <td>NaN</td>\n      <td>NaN</td>\n      <td>NaN</td>\n      <td>NaN</td>\n      <td>NaN</td>\n      <td>NaN</td>\n      <td>NaN</td>\n      <td>NaN</td>\n      <td>NaN</td>\n    </tr>\n    <tr>\n      <th>3</th>\n      <td>2014-10-07</td>\n      <td>NaN</td>\n      <td>NaN</td>\n      <td>NaN</td>\n      <td>NaN</td>\n      <td>NaN</td>\n      <td>NaN</td>\n      <td>NaN</td>\n      <td>NaN</td>\n      <td>NaN</td>\n      <td>...</td>\n      <td>NaN</td>\n      <td>NaN</td>\n      <td>NaN</td>\n      <td>NaN</td>\n      <td>NaN</td>\n      <td>NaN</td>\n      <td>NaN</td>\n      <td>NaN</td>\n      <td>NaN</td>\n      <td>NaN</td>\n    </tr>\n    <tr>\n      <th>4</th>\n      <td>2014-10-08</td>\n      <td>NaN</td>\n      <td>NaN</td>\n      <td>NaN</td>\n      <td>NaN</td>\n      <td>NaN</td>\n      <td>NaN</td>\n      <td>NaN</td>\n      <td>NaN</td>\n      <td>NaN</td>\n      <td>...</td>\n      <td>NaN</td>\n      <td>NaN</td>\n      <td>NaN</td>\n      <td>NaN</td>\n      <td>NaN</td>\n      <td>NaN</td>\n      <td>NaN</td>\n      <td>NaN</td>\n      <td>NaN</td>\n      <td>NaN</td>\n    </tr>\n    <tr>\n      <th>...</th>\n      <td>...</td>\n      <td>...</td>\n      <td>...</td>\n      <td>...</td>\n      <td>...</td>\n      <td>...</td>\n      <td>...</td>\n      <td>...</td>\n      <td>...</td>\n      <td>...</td>\n      <td>...</td>\n      <td>...</td>\n      <td>...</td>\n      <td>...</td>\n      <td>...</td>\n      <td>...</td>\n      <td>...</td>\n      <td>...</td>\n      <td>...</td>\n      <td>...</td>\n      <td>...</td>\n    </tr>\n    <tr>\n      <th>251</th>\n      <td>2015-06-12</td>\n      <td>NaN</td>\n      <td>NaN</td>\n      <td>NaN</td>\n      <td>NaN</td>\n      <td>NaN</td>\n      <td>NaN</td>\n      <td>NaN</td>\n      <td>NaN</td>\n      <td>NaN</td>\n      <td>...</td>\n      <td>NaN</td>\n      <td>NaN</td>\n      <td>NaN</td>\n      <td>NaN</td>\n      <td>NaN</td>\n      <td>NaN</td>\n      <td>NaN</td>\n      <td>NaN</td>\n      <td>NaN</td>\n      <td>NaN</td>\n    </tr>\n    <tr>\n      <th>252</th>\n      <td>2015-06-13</td>\n      <td>NaN</td>\n      <td>NaN</td>\n      <td>NaN</td>\n      <td>NaN</td>\n      <td>NaN</td>\n      <td>NaN</td>\n      <td>NaN</td>\n      <td>NaN</td>\n      <td>NaN</td>\n      <td>...</td>\n      <td>NaN</td>\n      <td>NaN</td>\n      <td>NaN</td>\n      <td>NaN</td>\n      <td>NaN</td>\n      <td>NaN</td>\n      <td>NaN</td>\n      <td>NaN</td>\n      <td>NaN</td>\n      <td>NaN</td>\n    </tr>\n    <tr>\n      <th>253</th>\n      <td>2015-06-14</td>\n      <td>NaN</td>\n      <td>NaN</td>\n      <td>NaN</td>\n      <td>NaN</td>\n      <td>NaN</td>\n      <td>NaN</td>\n      <td>NaN</td>\n      <td>NaN</td>\n      <td>NaN</td>\n      <td>...</td>\n      <td>NaN</td>\n      <td>NaN</td>\n      <td>NaN</td>\n      <td>NaN</td>\n      <td>NaN</td>\n      <td>NaN</td>\n      <td>NaN</td>\n      <td>NaN</td>\n      <td>NaN</td>\n      <td>NaN</td>\n    </tr>\n    <tr>\n      <th>254</th>\n      <td>2015-06-15</td>\n      <td>NaN</td>\n      <td>NaN</td>\n      <td>NaN</td>\n      <td>NaN</td>\n      <td>NaN</td>\n      <td>NaN</td>\n      <td>NaN</td>\n      <td>NaN</td>\n      <td>NaN</td>\n      <td>...</td>\n      <td>NaN</td>\n      <td>NaN</td>\n      <td>NaN</td>\n      <td>NaN</td>\n      <td>NaN</td>\n      <td>NaN</td>\n      <td>NaN</td>\n      <td>NaN</td>\n      <td>NaN</td>\n      <td>NaN</td>\n    </tr>\n    <tr>\n      <th>255</th>\n      <td>2015-06-16</td>\n      <td>NaN</td>\n      <td>NaN</td>\n      <td>NaN</td>\n      <td>NaN</td>\n      <td>NaN</td>\n      <td>NaN</td>\n      <td>NaN</td>\n      <td>NaN</td>\n      <td>NaN</td>\n      <td>...</td>\n      <td>NaN</td>\n      <td>NaN</td>\n      <td>NaN</td>\n      <td>NaN</td>\n      <td>NaN</td>\n      <td>NaN</td>\n      <td>NaN</td>\n      <td>NaN</td>\n      <td>NaN</td>\n      <td>NaN</td>\n    </tr>\n  </tbody>\n</table>\n<p>256 rows × 31 columns</p>\n</div>"
     },
     "metadata": {},
     "execution_count": 14
    }
   ],
   "source": [
    "# Add dayt before first game of season to NEW 'DATE' variable in ELO table and reorder variables so that DATE is first\n",
    "\n",
    "dates_df = pd.DataFrame({'DATE':pd.date_range(start=s2014_df.GAME_DATE_EST.min(), end=s2014_df.GAME_DATE_EST.max())})\n",
    "\n",
    "concat_df_labels = ['DATE']\n",
    "for id in list(elo_by_date_df):\n",
    "    concat_df_labels.append(id)\n",
    "\n",
    "elo_by_date_df = pd.concat([dates_df, elo_by_date_df], ignore_index=1, axis=1)\n",
    "elo_by_date_df.columns = concat_df_labels\n",
    "\n",
    "elo_by_date_df\n",
    "# elo_by_date_df['DATE'] = pd.date_range(start=s2014_df.GAME_DATE_EST.min(), end=s2014_df.GAME_DATE_EST.max())\n",
    "\n",
    "# cols = elo_by_date_df.columns.tolist()\n",
    "# cols = cols[-1:] + cols[:-1]\n",
    "\n",
    "# elo_by_date_df = elo_by_date_df[cols]\n",
    "# elo_by_date_df"
   ]
  },
  {
   "cell_type": "code",
   "execution_count": 15,
   "metadata": {},
   "outputs": [
    {
     "output_type": "execute_result",
     "data": {
      "text/plain": [
       "DATE          2014-10-04 00:00:00\n",
       "1610612739                1442.63\n",
       "1610612744                 1574.5\n",
       "1610612745                 1598.5\n",
       "1610612737                1479.44\n",
       "1610612764                1522.42\n",
       "1610612763                1566.78\n",
       "1610612741                1551.66\n",
       "1610612746                1624.02\n",
       "1610612751                1522.42\n",
       "1610612749                 1276.6\n",
       "1610612759                1670.88\n",
       "1610612757                 1598.5\n",
       "1610612738                1377.58\n",
       "1610612742                1559.17\n",
       "1610612740                1450.15\n",
       "1610612761                1551.66\n",
       "1610612750                1493.79\n",
       "1610612752                1472.21\n",
       "1610612755                1320.34\n",
       "1610612747                1394.84\n",
       "1610612754                1615.32\n",
       "1610612756                1551.66\n",
       "1610612766                1515.24\n",
       "1610612748                 1598.5\n",
       "1610612760                1642.05\n",
       "1610612762                1377.58\n",
       "1610612758                1403.19\n",
       "1610612765                1411.37\n",
       "1610612743                1464.93\n",
       "1610612753                1359.48\n",
       "Name: 0, dtype: object"
      ]
     },
     "metadata": {},
     "execution_count": 15
    }
   ],
   "source": [
    "elo_by_date_df.iloc[0]"
   ]
  },
  {
   "cell_type": "code",
   "execution_count": 16,
   "metadata": {},
   "outputs": [
    {
     "output_type": "execute_result",
     "data": {
      "text/plain": [
       "GAME_DATE_EST      2014-10-04 00:00:00\n",
       "HOME_TEAM_ID                1610612748\n",
       "VISITOR_TEAM_ID             1610612740\n",
       "SEASON                            2014\n",
       "TEAM_ID_home                1610612748\n",
       "PTS_home                            86\n",
       "PTS_away                            98\n",
       "HOME_TEAM_WINS                       0\n",
       "Name: 23519, dtype: object"
      ]
     },
     "metadata": {},
     "execution_count": 16
    }
   ],
   "source": [
    "# row being looked at ... will need to flip games data order to itterate through\n",
    "game_row = s2014_df.iloc[-1]\n",
    "game_row"
   ]
  },
  {
   "cell_type": "code",
   "execution_count": 17,
   "metadata": {},
   "outputs": [
    {
     "output_type": "execute_result",
     "data": {
      "text/plain": [
       "(Timestamp('2014-10-04 00:00:00'), 86.0, 98.0, 0)"
      ]
     },
     "metadata": {},
     "execution_count": 17
    }
   ],
   "source": [
    "# Iterrate through each game_row\n",
    "game_day = game_row.GAME_DATE_EST\n",
    "home_score = game_row.PTS_home\n",
    "away_score = game_row.PTS_away\n",
    "\n",
    "if home_score > away_score:\n",
    "    home_win = 1\n",
    "else:\n",
    "    home_win = 0\n",
    "\n",
    "game_day, home_score, away_score, home_win"
   ]
  },
  {
   "cell_type": "code",
   "execution_count": 25,
   "metadata": {},
   "outputs": [
    {
     "output_type": "execute_result",
     "data": {
      "text/plain": [
       "(1698.5, 1450.15)"
      ]
     },
     "metadata": {},
     "execution_count": 25
    }
   ],
   "source": [
    "# pull ELO for both teams on a game day ADD HOME COURT ADVANTAGE\n",
    "home_elo = elo_by_date_df[game_row.HOME_TEAM_ID][list(elo_by_date_df.DATE).index(game_day)] + 100\n",
    "away_elo = elo_by_date_df[game_row.VISITOR_TEAM_ID][list(elo_by_date_df.DATE).index(game_day)]\n",
    "\n",
    "home_elo, away_elo"
   ]
  },
  {
   "cell_type": "code",
   "execution_count": 26,
   "metadata": {},
   "outputs": [],
   "source": [
    "# functions for calculating ELOs\n",
    "def mov_multiplyer(elo_winner, elo_loser, score_winner, score_loser):\n",
    "    mov = abs(score_winner-score_loser)\n",
    "    elo_diff = elo_winner-elo_loser\n",
    "    return ((mov+3)**0.8)/(7.5+0.006*(elo_diff))\n",
    "\n",
    "def pr_winner_win(elo_winner, elo_loser):\n",
    "    elo_diff = elo_loser - elo_winner\n",
    "    return 1/(1+10**(elo_diff/400))\n",
    "\n",
    "def post_elo_home_winner(elo_winner, elo_loser, score_winner, score_loser):\n",
    "    return (elo_winner-100) + 20*(1-pr_winner_win(elo_winner, elo_loser))*mov_multiplyer(elo_winner, elo_loser, score_winner, score_loser)\n",
    "\n",
    "def post_elo_away_winner(elo_winner, elo_loser, score_winner, score_loser):\n",
    "    return elo_winner + 20*(1-pr_winner_win(elo_winner, elo_loser))*mov_multiplyer(elo_winner, elo_loser, score_winner, score_loser)"
   ]
  },
  {
   "cell_type": "code",
   "execution_count": 32,
   "metadata": {},
   "outputs": [
    {
     "output_type": "execute_result",
     "data": {
      "text/plain": [
       "(1575.0672046084771, 1473.582795391523)"
      ]
     },
     "metadata": {},
     "execution_count": 32
    }
   ],
   "source": [
    "# Calculate Winning team's NEW elo\n",
    "if home_win == 1:\n",
    "    # HOME WIN FUNCTION\n",
    "    post_game_home_elo = post_elo_home_winner(home_elo, away_elo, home_score, away_score)\n",
    "    post_game_away_elo = away_elo + (home_elo - post_game_home_elo)\n",
    "elif home_win == 0:\n",
    "    # AWAY WIN FUNCTION\n",
    "    post_game_away_elo = post_elo_away_winner(away_elo, home_elo, away_score, home_score)\n",
    "    post_game_home_elo = (home_elo - 100) + (away_elo - post_game_away_elo)\n",
    "\n",
    "post_game_home_elo, post_game_away_elo"
   ]
  },
  {
   "cell_type": "code",
   "execution_count": 33,
   "metadata": {},
   "outputs": [
    {
     "output_type": "execute_result",
     "data": {
      "text/plain": [
       "Timestamp('2014-10-05 00:00:00')"
      ]
     },
     "metadata": {},
     "execution_count": 33
    }
   ],
   "source": [
    "# Push new ELO values to game_day +1\n",
    "next_day = game_day + timedelta(days=1)\n",
    "next_day"
   ]
  },
  {
   "cell_type": "code",
   "execution_count": 35,
   "metadata": {},
   "outputs": [],
   "source": [
    "elo_by_date_df.loc[list(elo_by_date_df.DATE).index(next_day), game_row.HOME_TEAM_ID] = post_game_home_elo\n",
    "elo_by_date_df.loc[list(elo_by_date_df.DATE).index(next_day), game_row.VISITOR_TEAM_ID] = post_game_away_elo"
   ]
  },
  {
   "cell_type": "code",
   "execution_count": 36,
   "metadata": {},
   "outputs": [
    {
     "output_type": "execute_result",
     "data": {
      "text/plain": [
       "          DATE  1610612739  1610612744  1610612745  1610612737  1610612764  \\\n",
       "0   2014-10-04     1442.63      1574.5      1598.5     1479.44     1522.42   \n",
       "1   2014-10-05         NaN         NaN         NaN         NaN         NaN   \n",
       "2   2014-10-06         NaN         NaN         NaN         NaN         NaN   \n",
       "3   2014-10-07         NaN         NaN         NaN         NaN         NaN   \n",
       "4   2014-10-08         NaN         NaN         NaN         NaN         NaN   \n",
       "..         ...         ...         ...         ...         ...         ...   \n",
       "251 2015-06-12         NaN         NaN         NaN         NaN         NaN   \n",
       "252 2015-06-13         NaN         NaN         NaN         NaN         NaN   \n",
       "253 2015-06-14         NaN         NaN         NaN         NaN         NaN   \n",
       "254 2015-06-15         NaN         NaN         NaN         NaN         NaN   \n",
       "255 2015-06-16         NaN         NaN         NaN         NaN         NaN   \n",
       "\n",
       "     1610612763  1610612741  1610612746  1610612751  ...  1610612754  \\\n",
       "0       1566.78     1551.66     1624.02     1522.42  ...     1615.32   \n",
       "1           NaN         NaN         NaN         NaN  ...         NaN   \n",
       "2           NaN         NaN         NaN         NaN  ...         NaN   \n",
       "3           NaN         NaN         NaN         NaN  ...         NaN   \n",
       "4           NaN         NaN         NaN         NaN  ...         NaN   \n",
       "..          ...         ...         ...         ...  ...         ...   \n",
       "251         NaN         NaN         NaN         NaN  ...         NaN   \n",
       "252         NaN         NaN         NaN         NaN  ...         NaN   \n",
       "253         NaN         NaN         NaN         NaN  ...         NaN   \n",
       "254         NaN         NaN         NaN         NaN  ...         NaN   \n",
       "255         NaN         NaN         NaN         NaN  ...         NaN   \n",
       "\n",
       "     1610612756  1610612766   1610612748  1610612760  1610612762  1610612758  \\\n",
       "0       1551.66     1515.24  1598.500000     1642.05     1377.58     1403.19   \n",
       "1           NaN         NaN  1575.067205         NaN         NaN         NaN   \n",
       "2           NaN         NaN          NaN         NaN         NaN         NaN   \n",
       "3           NaN         NaN          NaN         NaN         NaN         NaN   \n",
       "4           NaN         NaN          NaN         NaN         NaN         NaN   \n",
       "..          ...         ...          ...         ...         ...         ...   \n",
       "251         NaN         NaN          NaN         NaN         NaN         NaN   \n",
       "252         NaN         NaN          NaN         NaN         NaN         NaN   \n",
       "253         NaN         NaN          NaN         NaN         NaN         NaN   \n",
       "254         NaN         NaN          NaN         NaN         NaN         NaN   \n",
       "255         NaN         NaN          NaN         NaN         NaN         NaN   \n",
       "\n",
       "     1610612765  1610612743  1610612753  \n",
       "0       1411.37     1464.93     1359.48  \n",
       "1           NaN         NaN         NaN  \n",
       "2           NaN         NaN         NaN  \n",
       "3           NaN         NaN         NaN  \n",
       "4           NaN         NaN         NaN  \n",
       "..          ...         ...         ...  \n",
       "251         NaN         NaN         NaN  \n",
       "252         NaN         NaN         NaN  \n",
       "253         NaN         NaN         NaN  \n",
       "254         NaN         NaN         NaN  \n",
       "255         NaN         NaN         NaN  \n",
       "\n",
       "[256 rows x 31 columns]"
      ],
      "text/html": "<div>\n<style scoped>\n    .dataframe tbody tr th:only-of-type {\n        vertical-align: middle;\n    }\n\n    .dataframe tbody tr th {\n        vertical-align: top;\n    }\n\n    .dataframe thead th {\n        text-align: right;\n    }\n</style>\n<table border=\"1\" class=\"dataframe\">\n  <thead>\n    <tr style=\"text-align: right;\">\n      <th></th>\n      <th>DATE</th>\n      <th>1610612739</th>\n      <th>1610612744</th>\n      <th>1610612745</th>\n      <th>1610612737</th>\n      <th>1610612764</th>\n      <th>1610612763</th>\n      <th>1610612741</th>\n      <th>1610612746</th>\n      <th>1610612751</th>\n      <th>...</th>\n      <th>1610612754</th>\n      <th>1610612756</th>\n      <th>1610612766</th>\n      <th>1610612748</th>\n      <th>1610612760</th>\n      <th>1610612762</th>\n      <th>1610612758</th>\n      <th>1610612765</th>\n      <th>1610612743</th>\n      <th>1610612753</th>\n    </tr>\n  </thead>\n  <tbody>\n    <tr>\n      <th>0</th>\n      <td>2014-10-04</td>\n      <td>1442.63</td>\n      <td>1574.5</td>\n      <td>1598.5</td>\n      <td>1479.44</td>\n      <td>1522.42</td>\n      <td>1566.78</td>\n      <td>1551.66</td>\n      <td>1624.02</td>\n      <td>1522.42</td>\n      <td>...</td>\n      <td>1615.32</td>\n      <td>1551.66</td>\n      <td>1515.24</td>\n      <td>1598.500000</td>\n      <td>1642.05</td>\n      <td>1377.58</td>\n      <td>1403.19</td>\n      <td>1411.37</td>\n      <td>1464.93</td>\n      <td>1359.48</td>\n    </tr>\n    <tr>\n      <th>1</th>\n      <td>2014-10-05</td>\n      <td>NaN</td>\n      <td>NaN</td>\n      <td>NaN</td>\n      <td>NaN</td>\n      <td>NaN</td>\n      <td>NaN</td>\n      <td>NaN</td>\n      <td>NaN</td>\n      <td>NaN</td>\n      <td>...</td>\n      <td>NaN</td>\n      <td>NaN</td>\n      <td>NaN</td>\n      <td>1575.067205</td>\n      <td>NaN</td>\n      <td>NaN</td>\n      <td>NaN</td>\n      <td>NaN</td>\n      <td>NaN</td>\n      <td>NaN</td>\n    </tr>\n    <tr>\n      <th>2</th>\n      <td>2014-10-06</td>\n      <td>NaN</td>\n      <td>NaN</td>\n      <td>NaN</td>\n      <td>NaN</td>\n      <td>NaN</td>\n      <td>NaN</td>\n      <td>NaN</td>\n      <td>NaN</td>\n      <td>NaN</td>\n      <td>...</td>\n      <td>NaN</td>\n      <td>NaN</td>\n      <td>NaN</td>\n      <td>NaN</td>\n      <td>NaN</td>\n      <td>NaN</td>\n      <td>NaN</td>\n      <td>NaN</td>\n      <td>NaN</td>\n      <td>NaN</td>\n    </tr>\n    <tr>\n      <th>3</th>\n      <td>2014-10-07</td>\n      <td>NaN</td>\n      <td>NaN</td>\n      <td>NaN</td>\n      <td>NaN</td>\n      <td>NaN</td>\n      <td>NaN</td>\n      <td>NaN</td>\n      <td>NaN</td>\n      <td>NaN</td>\n      <td>...</td>\n      <td>NaN</td>\n      <td>NaN</td>\n      <td>NaN</td>\n      <td>NaN</td>\n      <td>NaN</td>\n      <td>NaN</td>\n      <td>NaN</td>\n      <td>NaN</td>\n      <td>NaN</td>\n      <td>NaN</td>\n    </tr>\n    <tr>\n      <th>4</th>\n      <td>2014-10-08</td>\n      <td>NaN</td>\n      <td>NaN</td>\n      <td>NaN</td>\n      <td>NaN</td>\n      <td>NaN</td>\n      <td>NaN</td>\n      <td>NaN</td>\n      <td>NaN</td>\n      <td>NaN</td>\n      <td>...</td>\n      <td>NaN</td>\n      <td>NaN</td>\n      <td>NaN</td>\n      <td>NaN</td>\n      <td>NaN</td>\n      <td>NaN</td>\n      <td>NaN</td>\n      <td>NaN</td>\n      <td>NaN</td>\n      <td>NaN</td>\n    </tr>\n    <tr>\n      <th>...</th>\n      <td>...</td>\n      <td>...</td>\n      <td>...</td>\n      <td>...</td>\n      <td>...</td>\n      <td>...</td>\n      <td>...</td>\n      <td>...</td>\n      <td>...</td>\n      <td>...</td>\n      <td>...</td>\n      <td>...</td>\n      <td>...</td>\n      <td>...</td>\n      <td>...</td>\n      <td>...</td>\n      <td>...</td>\n      <td>...</td>\n      <td>...</td>\n      <td>...</td>\n      <td>...</td>\n    </tr>\n    <tr>\n      <th>251</th>\n      <td>2015-06-12</td>\n      <td>NaN</td>\n      <td>NaN</td>\n      <td>NaN</td>\n      <td>NaN</td>\n      <td>NaN</td>\n      <td>NaN</td>\n      <td>NaN</td>\n      <td>NaN</td>\n      <td>NaN</td>\n      <td>...</td>\n      <td>NaN</td>\n      <td>NaN</td>\n      <td>NaN</td>\n      <td>NaN</td>\n      <td>NaN</td>\n      <td>NaN</td>\n      <td>NaN</td>\n      <td>NaN</td>\n      <td>NaN</td>\n      <td>NaN</td>\n    </tr>\n    <tr>\n      <th>252</th>\n      <td>2015-06-13</td>\n      <td>NaN</td>\n      <td>NaN</td>\n      <td>NaN</td>\n      <td>NaN</td>\n      <td>NaN</td>\n      <td>NaN</td>\n      <td>NaN</td>\n      <td>NaN</td>\n      <td>NaN</td>\n      <td>...</td>\n      <td>NaN</td>\n      <td>NaN</td>\n      <td>NaN</td>\n      <td>NaN</td>\n      <td>NaN</td>\n      <td>NaN</td>\n      <td>NaN</td>\n      <td>NaN</td>\n      <td>NaN</td>\n      <td>NaN</td>\n    </tr>\n    <tr>\n      <th>253</th>\n      <td>2015-06-14</td>\n      <td>NaN</td>\n      <td>NaN</td>\n      <td>NaN</td>\n      <td>NaN</td>\n      <td>NaN</td>\n      <td>NaN</td>\n      <td>NaN</td>\n      <td>NaN</td>\n      <td>NaN</td>\n      <td>...</td>\n      <td>NaN</td>\n      <td>NaN</td>\n      <td>NaN</td>\n      <td>NaN</td>\n      <td>NaN</td>\n      <td>NaN</td>\n      <td>NaN</td>\n      <td>NaN</td>\n      <td>NaN</td>\n      <td>NaN</td>\n    </tr>\n    <tr>\n      <th>254</th>\n      <td>2015-06-15</td>\n      <td>NaN</td>\n      <td>NaN</td>\n      <td>NaN</td>\n      <td>NaN</td>\n      <td>NaN</td>\n      <td>NaN</td>\n      <td>NaN</td>\n      <td>NaN</td>\n      <td>NaN</td>\n      <td>...</td>\n      <td>NaN</td>\n      <td>NaN</td>\n      <td>NaN</td>\n      <td>NaN</td>\n      <td>NaN</td>\n      <td>NaN</td>\n      <td>NaN</td>\n      <td>NaN</td>\n      <td>NaN</td>\n      <td>NaN</td>\n    </tr>\n    <tr>\n      <th>255</th>\n      <td>2015-06-16</td>\n      <td>NaN</td>\n      <td>NaN</td>\n      <td>NaN</td>\n      <td>NaN</td>\n      <td>NaN</td>\n      <td>NaN</td>\n      <td>NaN</td>\n      <td>NaN</td>\n      <td>NaN</td>\n      <td>...</td>\n      <td>NaN</td>\n      <td>NaN</td>\n      <td>NaN</td>\n      <td>NaN</td>\n      <td>NaN</td>\n      <td>NaN</td>\n      <td>NaN</td>\n      <td>NaN</td>\n      <td>NaN</td>\n      <td>NaN</td>\n    </tr>\n  </tbody>\n</table>\n<p>256 rows × 31 columns</p>\n</div>"
     },
     "metadata": {},
     "execution_count": 36
    }
   ],
   "source": [
    "elo_by_date_df"
   ]
  },
  {
   "cell_type": "code",
   "execution_count": null,
   "metadata": {},
   "outputs": [],
   "source": []
  }
 ]
}