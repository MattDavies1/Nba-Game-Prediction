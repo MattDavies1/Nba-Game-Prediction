{
 "cells": [
  {
   "cell_type": "code",
   "execution_count": null,
   "metadata": {},
   "outputs": [],
   "source": [
    "import pandas as pd\n",
    "from nbapy import game, shot_chart, player, scoreboard, team\n",
    "import datetime"
   ]
  },
  {
   "cell_type": "code",
   "execution_count": null,
   "metadata": {},
   "outputs": [],
   "source": [
    "def datascrape(start):\n",
    "    start = datetime.datetime.strptime(start, \"%d-%m-%Y\")\n",
    "    #end = datetime.datetime.strptime(\"21-07-2014\", \"%d-%m-%Y\")\n",
    "    end = datetime.datetime.today()\n",
    "    dates = [start + datetime.timedelta(days=x) for x in range(0, (end-start).days)]\n",
    "    df = pd.DataFrame({\"date\": dates})\n",
    "    df[\"date\"] = df[\"date\"].astype(str)\n",
    "    df[['Year', 'Month', \"Day\"]] = df[\"date\"].str.split('-', 2, expand=True)\n",
    "    df[\"Month\"] = df[\"Month\"].str.lstrip('0')\n",
    "    df[\"Day\"] = df[\"Day\"].str.lstrip('0')\n",
    "    \n",
    "    #to limit to five\n",
    "    #df = df.head()\n",
    "    dates = []\n",
    "    for i, row in df.iterrows():\n",
    "        day = {}\n",
    "        day[\"year\"] = row[\"Year\"]\n",
    "        day[\"month\"] = row[\"Month\"]\n",
    "        day[\"day\"] = row[\"Day\"]\n",
    "        dates.append(day)\n",
    "    \n",
    "    init = pd.DataFrame({\n",
    "    \"GAME_DATE_EST_x\": [],\n",
    "    \"GAME_ID\": [],\n",
    "    \"TEAM_ABBREVIATION_x\": [],\n",
    "    \"TEAM_ABBREVIATION_y\": [],\n",
    "    \"PTS_x\": [],\n",
    "    \"PTS_y\": []\n",
    "    })\n",
    "    \n",
    "    for date in dates:\n",
    "        scores = scoreboard.Scoreboard(month=int(date[\"month\"]), day=int(date[\"day\"]), year=int(date[\"year\"]), league_id='00', offset=0)\n",
    "        df = scores.line_score()\n",
    "        if df.empty:\n",
    "            pass\n",
    "        else:\n",
    "            df_1 = df.drop_duplicates(subset=['GAME_ID'], keep='first')\n",
    "            df_2 = df.drop_duplicates(subset=['GAME_ID'], keep='last')\n",
    "            merged = df_1.merge(df_2, on=[\"GAME_ID\"])                                                                              #FG_PCT\tFT_PCT\tFG3_PCT\tAST\tREB\tTOV\n",
    "            merge = merged[[\"GAME_DATE_EST_x\", \"GAME_ID\", \"TEAM_ABBREVIATION_x\", \"TEAM_ID_x\", \"TEAM_ID_y\", \"TEAM_ABBREVIATION_y\", \"PTS_x\", \"PTS_y\", \"FG_PCT_x\", \"FG_PCT_y\", \"FT_PCT_x\", \"FT_PCT_y\", \"FG3_PCT_x\", \"FG3_PCT_y\", \"AST_x\", \"AST_y\", \"REB_x\", \"REB_y\", \"TOV_x\", \"TOV_y\"]]\n",
    "            init = pd.concat([init, merge], sort=True)\n",
    "    \n",
    "    return init"
   ]
  },
  {
   "cell_type": "code",
   "execution_count": null,
   "metadata": {
    "scrolled": true
   },
   "outputs": [],
   "source": [
    "df = datascrape(\"15-12-2020\")"
   ]
  },
  {
   "cell_type": "code",
   "execution_count": null,
   "metadata": {},
   "outputs": [],
   "source": [
    "#Rename columns\n",
    "df = df.rename(columns={\n",
    "            \"GAME_DATE_EST_x\": \"date\",\n",
    "            \"GAME_ID\": \"game_id\",\n",
    "            \"TEAM_ABBREVIATION_x\": \"away\",\n",
    "            \"TEAM_ABBREVIATION_y\": \"home\",\n",
    "            \"TEAM_ID_x\": \"away_id\",\n",
    "            \"TEAM_ID_y\": \"home_id\",\n",
    "            \"PTS_x\": \"away_pts\",\n",
    "            \"PTS_y\": \"home_pts\",\n",
    "            \"FG_PCT_x\": \"away_fg\",\n",
    "            \"FG_PCT_y\": \"home_fg\",\n",
    "            \"FT_PCT_x\": \"away_ft\",\n",
    "            \"FT_PCT_y\": \"home_ft\",\n",
    "            \"FG3_PCT_x\": \"away_fg3\",\n",
    "            \"FG3_PCT_y\": \"home_fg3\",\n",
    "            \"AST_x\": \"away_ast\",\n",
    "            \"AST_y\": \"home_ast\",\n",
    "            \"REB_x\": \"away_reb\",\n",
    "            \"REB_y\": \"home_reb\",\n",
    "            \"TOV_x\": \"away_tov\",\n",
    "            \"TOV_y\": \"home_tov\",\n",
    "            })\n",
    "\n",
    "df = df[[\"game_id\", \"date\", \"away\", \"home\",\"away_id\", \"home_id\",\"away_pts\",\"home_pts\", \"away_fg\",\"home_fg\", \"away_ft\",\n",
    "         \"home_ft\", \"away_fg3\", \"home_fg3\",\"away_ast\", \"home_ast\", \"away_reb\", \"home_reb\", \"away_tov\",\"home_tov\"]]\n"
   ]
  },
  {
   "cell_type": "code",
   "execution_count": null,
   "metadata": {},
   "outputs": [],
   "source": [
    "#Add catagorical for win\n",
    "df.loc[df[\"home_pts\"] > df[\"away_pts\"], \"home_win\"] = 1\n",
    "df.loc[df[\"home_pts\"] < df[\"away_pts\"], \"home_win\"] = 0"
   ]
  },
  {
   "cell_type": "code",
   "execution_count": null,
   "metadata": {},
   "outputs": [],
   "source": [
    "#Remove time\n",
    "df[\"date\"] = df[\"date\"].str.replace(\"T00:00:00\", \"\")"
   ]
  },
  {
   "cell_type": "code",
   "execution_count": null,
   "metadata": {},
   "outputs": [],
   "source": [
    "df = df.reset_index(drop=True).dropna()"
   ]
  },
  {
   "cell_type": "code",
   "execution_count": null,
   "metadata": {},
   "outputs": [],
   "source": [
    "df = df[[\"game_id\", \"date\", \"away\", \"home\",\"away_id\", \"home_id\", \"home_win\"]]\n",
    "\n",
    "df.head()"
   ]
  },
  {
   "cell_type": "code",
   "execution_count": null,
   "metadata": {},
   "outputs": [],
   "source": [
    "def home_log():\n",
    "    \n",
    "    from nba_api.stats.static import teams\n",
    "    nba_teams = teams.get_teams()\n",
    "    team_id = []\n",
    "    for t in nba_teams:\n",
    "        team_id.append(t[\"id\"])\n",
    "    \n",
    "    init = pd.DataFrame({\n",
    "        'GAME_ID': [],\n",
    "        'TEAM_ID': [],\n",
    "        'fg_pct_3_h': [],\n",
    "        'fg3_pct_3_h': [], \n",
    "        'ft_pct_3_h': [],\n",
    "        'oreb_3_h': [], \n",
    "        'dreb_3_h': [],\n",
    "        'ast_3_h': [],\n",
    "        'tov_3_h': [],\n",
    "        'stl_3_h': [], \n",
    "        'blk_3_h': [],\n",
    "        'pts_3_h': [],\n",
    "        'fg_pct_7_h': [],\n",
    "        'fg3_pct_7_h': [],\n",
    "        'ft_pct_7_h': [],\n",
    "        'oreb_7_h': [],\n",
    "        'dreb_7_h': [],\n",
    "        'ast_7_h': [],\n",
    "        'tov_7_h': [],\n",
    "        'stl_7_h': [],\n",
    "        'blk_7_h': [],\n",
    "        'pts_7_h': []\n",
    "        })\n",
    "    \n",
    "    for t in team_id:\n",
    "        game_log = team.GameLogs(t, location=\"Home\").logs()\n",
    "        df = game_log.sort_values(by=['GAME_ID'], ascending=True)\n",
    "        \n",
    "        \n",
    "        game_num = 3\n",
    "        for i in range(0, len(df)-game_num):\n",
    "            col = 11\n",
    "            df.loc[df.index[i+game_num], 'fg_pct_3_h'] = ((df.iloc[i,col] + df.iloc[i+1,col] + df.iloc[i+2, col])/game_num)\n",
    "            col = 14\n",
    "            df.loc[df.index[i+game_num], 'fg3_pct_3_h'] = ((df.iloc[i,col] + df.iloc[i+1,col] + df.iloc[i+2, col])/game_num)\n",
    "            col = 17\n",
    "            df.loc[df.index[i+game_num], 'ft_pct_3_h'] = ((df.iloc[i,col] + df.iloc[i+1,col] + df.iloc[i+2, col])/game_num)\n",
    "            col = 18\n",
    "            df.loc[df.index[i+game_num], 'oreb_3_h'] = ((df.iloc[i,col] + df.iloc[i+1,col] + df.iloc[i+2, col])/game_num)\n",
    "            col = 19\n",
    "            df.loc[df.index[i+game_num], 'dreb_3_h'] = ((df.iloc[i,col] + df.iloc[i+1,col] + df.iloc[i+2, col])/game_num)\n",
    "            col = 21\n",
    "            df.loc[df.index[i+game_num], 'ast_3_h'] = ((df.iloc[i,col] + df.iloc[i+1,col] + df.iloc[i+2, col])/game_num)\n",
    "            col = 22\n",
    "            df.loc[df.index[i+game_num], 'tov_3_h'] = ((df.iloc[i,col] + df.iloc[i+1,col] + df.iloc[i+2, col])/game_num)\n",
    "            col = 23\n",
    "            df.loc[df.index[i+game_num], 'stl_3_h'] = ((df.iloc[i,col] + df.iloc[i+1,col] + df.iloc[i+2, col])/game_num)\n",
    "            col = 24\n",
    "            df.loc[df.index[i+game_num], 'blk_3_h'] = ((df.iloc[i,col] + df.iloc[i+1,col] + df.iloc[i+2, col])/game_num)\n",
    "            col = 28\n",
    "            df.loc[df.index[i+game_num], 'pts_3_h'] = ((df.iloc[i,col] + df.iloc[i+1,col] + df.iloc[i+2, col])/game_num)\n",
    "\n",
    "        game_num = 7\n",
    "        for i in range(0, len(df)-game_num):\n",
    "            col = 11\n",
    "            df.loc[df.index[i+game_num], 'fg_pct_7_h'] = ((df.iloc[i,col] + df.iloc[i+1,col] + df.iloc[i+2, col]\n",
    "                                              + df.iloc[i+3, col] + df.iloc[i+4, col]\n",
    "                                              + df.iloc[i+5, col] + df.iloc[i+6, col])/game_num)\n",
    "            col = 14\n",
    "            df.loc[df.index[i+game_num], 'fg3_pct_7_h'] = ((df.iloc[i,col] + df.iloc[i+1,col] + df.iloc[i+2, col]\n",
    "                                              + df.iloc[i+3, col] + df.iloc[i+4, col]\n",
    "                                              + df.iloc[i+5, col] + df.iloc[i+6, col])/game_num)\n",
    "            col = 17\n",
    "            df.loc[df.index[i+game_num], 'ft_pct_7_h'] = ((df.iloc[i,col] + df.iloc[i+1,col] + df.iloc[i+2, col]\n",
    "                                              + df.iloc[i+3, col] + df.iloc[i+4, col]\n",
    "                                              + df.iloc[i+5, col] + df.iloc[i+6, col])/game_num)\n",
    "            col = 18\n",
    "            df.loc[df.index[i+game_num], 'oreb_7_h'] = ((df.iloc[i,col] + df.iloc[i+1,col] + df.iloc[i+2, col]\n",
    "                                              + df.iloc[i+3, col] + df.iloc[i+4, col]\n",
    "                                              + df.iloc[i+5, col] + df.iloc[i+6, col])/game_num)\n",
    "            col = 19\n",
    "            df.loc[df.index[i+game_num], 'dreb_7_h'] = ((df.iloc[i,col] + df.iloc[i+1,col] + df.iloc[i+2, col]\n",
    "                                              + df.iloc[i+3, col] + df.iloc[i+4, col]\n",
    "                                              + df.iloc[i+5, col] + df.iloc[i+6, col])/game_num)\n",
    "            col = 21\n",
    "            df.loc[df.index[i+game_num], 'ast_7_h'] = ((df.iloc[i,col] + df.iloc[i+1,col] + df.iloc[i+2, col]\n",
    "                                              + df.iloc[i+3, col] + df.iloc[i+4, col]\n",
    "                                              + df.iloc[i+5, col] + df.iloc[i+6, col])/game_num)\n",
    "            col = 22\n",
    "            df.loc[df.index[i+game_num], 'tov_7_h'] = ((df.iloc[i,col] + df.iloc[i+1,col] + df.iloc[i+2, col]\n",
    "                                              + df.iloc[i+3, col] + df.iloc[i+4, col]\n",
    "                                              + df.iloc[i+5, col] + df.iloc[i+6, col])/game_num)\n",
    "            col = 23\n",
    "            df.loc[df.index[i+game_num], 'stl_7_h'] = ((df.iloc[i,col] + df.iloc[i+1,col] + df.iloc[i+2, col]\n",
    "                                              + df.iloc[i+3, col] + df.iloc[i+4, col]\n",
    "                                              + df.iloc[i+5, col] + df.iloc[i+6, col])/game_num)\n",
    "            col = 24\n",
    "            df.loc[df.index[i+game_num], 'blk_7_h'] = ((df.iloc[i,col] + df.iloc[i+1,col] + df.iloc[i+2, col]\n",
    "                                              + df.iloc[i+3, col] + df.iloc[i+4, col]\n",
    "                                              + df.iloc[i+5, col] + df.iloc[i+6, col])/game_num)\n",
    "            col = 28\n",
    "            df.loc[df.index[i+game_num], 'pts_7_h'] = ((df.iloc[i,col] + df.iloc[i+1,col] + df.iloc[i+2, col]\n",
    "                                              + df.iloc[i+3, col] + df.iloc[i+4, col]\n",
    "                                              + df.iloc[i+5, col] + df.iloc[i+6, col])/game_num)\n",
    "        \n",
    "        df = df[['GAME_ID','TEAM_ID','fg_pct_3_h','fg3_pct_3_h', 'ft_pct_3_h', 'oreb_3_h', 'dreb_3_h', 'ast_3_h',\n",
    "                 'tov_3_h', 'stl_3_h', 'blk_3_h', 'pts_3_h', 'fg_pct_7_h', 'fg3_pct_7_h','ft_pct_7_h', 'oreb_7_h', \n",
    "                 'dreb_7_h', 'ast_7_h', 'tov_7_h', 'stl_7_h','blk_7_h', 'pts_7_h']]\n",
    "        \n",
    "        init = pd.concat([init, df])\n",
    "        \n",
    "        \n",
    "    return init"
   ]
  },
  {
   "cell_type": "code",
   "execution_count": null,
   "metadata": {},
   "outputs": [],
   "source": [
    "home_logs = home_log()"
   ]
  },
  {
   "cell_type": "code",
   "execution_count": null,
   "metadata": {},
   "outputs": [],
   "source": [
    "home_logs.drop_duplicates()"
   ]
  },
  {
   "cell_type": "code",
   "execution_count": null,
   "metadata": {},
   "outputs": [],
   "source": [
    "def away_log():\n",
    "    \n",
    "    from nba_api.stats.static import teams\n",
    "    nba_teams = teams.get_teams()\n",
    "    team_id = []\n",
    "    for t in nba_teams:\n",
    "        team_id.append(t[\"id\"])\n",
    "    \n",
    "    init = pd.DataFrame({\n",
    "        'GAME_ID': [],\n",
    "        'TEAM_ID': [],\n",
    "        'fg_pct_3_a': [],\n",
    "        'fg3_pct_3_a': [], \n",
    "        'ft_pct_3_a': [],\n",
    "        'oreb_3_a': [], \n",
    "        'dreb_3_a': [],\n",
    "        'ast_3_a': [],\n",
    "        'tov_3_a': [],\n",
    "        'stl_3_a': [], \n",
    "        'blk_3_a': [],\n",
    "        'pts_3_a': [],\n",
    "        'fg_pct_7_a': [],\n",
    "        'fg3_pct_7_a': [],\n",
    "        'ft_pct_7_a': [],\n",
    "        'oreb_7_a': [],\n",
    "        'dreb_7_a': [],\n",
    "        'ast_7_a': [],\n",
    "        'tov_7_a': [],\n",
    "        'stl_7_a': [],\n",
    "        'blk_7_a': [],\n",
    "        'pts_7_a': []\n",
    "        })\n",
    "    \n",
    "    for t in team_id:\n",
    "        game_log = team.GameLogs(t, location=\"Road\").logs()\n",
    "        df = game_log.sort_values(by=['GAME_ID'], ascending=True)\n",
    "        \n",
    "        game_num = 3\n",
    "        for i in range(0, len(df)-game_num):\n",
    "            col = 11\n",
    "            df.loc[df.index[i+game_num], 'fg_pct_3_a'] = ((df.iloc[i,col] + df.iloc[i+1,col] + df.iloc[i+2, col])/game_num)\n",
    "            col = 14\n",
    "            df.loc[df.index[i+game_num], 'fg3_pct_3_a'] = ((df.iloc[i,col] + df.iloc[i+1,col] + df.iloc[i+2, col])/game_num)\n",
    "            col = 17\n",
    "            df.loc[df.index[i+game_num], 'ft_pct_3_a'] = ((df.iloc[i,col] + df.iloc[i+1,col] + df.iloc[i+2, col])/game_num)\n",
    "            col = 18\n",
    "            df.loc[df.index[i+game_num], 'oreb_3_a'] = ((df.iloc[i,col] + df.iloc[i+1,col] + df.iloc[i+2, col])/game_num)\n",
    "            col = 19\n",
    "            df.loc[df.index[i+game_num], 'dreb_3_a'] = ((df.iloc[i,col] + df.iloc[i+1,col] + df.iloc[i+2, col])/game_num)\n",
    "            col = 21\n",
    "            df.loc[df.index[i+game_num], 'ast_3_a'] = ((df.iloc[i,col] + df.iloc[i+1,col] + df.iloc[i+2, col])/game_num)\n",
    "            col = 22\n",
    "            df.loc[df.index[i+game_num], 'tov_3_a'] = ((df.iloc[i,col] + df.iloc[i+1,col] + df.iloc[i+2, col])/game_num)\n",
    "            col = 23\n",
    "            df.loc[df.index[i+game_num], 'stl_3_a'] = ((df.iloc[i,col] + df.iloc[i+1,col] + df.iloc[i+2, col])/game_num)\n",
    "            col = 24\n",
    "            df.loc[df.index[i+game_num], 'blk_3_a'] = ((df.iloc[i,col] + df.iloc[i+1,col] + df.iloc[i+2, col])/game_num)\n",
    "            col = 28\n",
    "            df.loc[df.index[i+game_num], 'pts_3_a'] = ((df.iloc[i,col] + df.iloc[i+1,col] + df.iloc[i+2, col])/game_num)\n",
    "\n",
    "        game_num = 7\n",
    "        for i in range(0, len(df)-game_num):\n",
    "            col = 11\n",
    "            df.loc[df.index[i+game_num], 'fg_pct_7_a'] = ((df.iloc[i,col] + df.iloc[i+1,col] + df.iloc[i+2, col]\n",
    "                                              + df.iloc[i+3, col] + df.iloc[i+4, col]\n",
    "                                              + df.iloc[i+5, col] + df.iloc[i+6, col])/game_num)\n",
    "            col = 14\n",
    "            df.loc[df.index[i+game_num], 'fg3_pct_7_a'] = ((df.iloc[i,col] + df.iloc[i+1,col] + df.iloc[i+2, col]\n",
    "                                              + df.iloc[i+3, col] + df.iloc[i+4, col]\n",
    "                                              + df.iloc[i+5, col] + df.iloc[i+6, col])/game_num)\n",
    "            col = 17\n",
    "            df.loc[df.index[i+game_num], 'ft_pct_7_a'] = ((df.iloc[i,col] + df.iloc[i+1,col] + df.iloc[i+2, col]\n",
    "                                              + df.iloc[i+3, col] + df.iloc[i+4, col]\n",
    "                                              + df.iloc[i+5, col] + df.iloc[i+6, col])/game_num)\n",
    "            col = 18\n",
    "            df.loc[df.index[i+game_num], 'oreb_7_a'] = ((df.iloc[i,col] + df.iloc[i+1,col] + df.iloc[i+2, col]\n",
    "                                              + df.iloc[i+3, col] + df.iloc[i+4, col]\n",
    "                                              + df.iloc[i+5, col] + df.iloc[i+6, col])/game_num)\n",
    "            col = 19\n",
    "            df.loc[df.index[i+game_num], 'dreb_7_a'] = ((df.iloc[i,col] + df.iloc[i+1,col] + df.iloc[i+2, col]\n",
    "                                              + df.iloc[i+3, col] + df.iloc[i+4, col]\n",
    "                                              + df.iloc[i+5, col] + df.iloc[i+6, col])/game_num)\n",
    "            col = 21\n",
    "            df.loc[df.index[i+game_num], 'ast_7_a'] = ((df.iloc[i,col] + df.iloc[i+1,col] + df.iloc[i+2, col]\n",
    "                                              + df.iloc[i+3, col] + df.iloc[i+4, col]\n",
    "                                              + df.iloc[i+5, col] + df.iloc[i+6, col])/game_num)\n",
    "            col = 22\n",
    "            df.loc[df.index[i+game_num], 'tov_7_a'] = ((df.iloc[i,col] + df.iloc[i+1,col] + df.iloc[i+2, col]\n",
    "                                              + df.iloc[i+3, col] + df.iloc[i+4, col]\n",
    "                                              + df.iloc[i+5, col] + df.iloc[i+6, col])/game_num)\n",
    "            col = 23\n",
    "            df.loc[df.index[i+game_num], 'stl_7_a'] = ((df.iloc[i,col] + df.iloc[i+1,col] + df.iloc[i+2, col]\n",
    "                                              + df.iloc[i+3, col] + df.iloc[i+4, col]\n",
    "                                              + df.iloc[i+5, col] + df.iloc[i+6, col])/game_num)\n",
    "            col = 24\n",
    "            df.loc[df.index[i+game_num], 'blk_7_a'] = ((df.iloc[i,col] + df.iloc[i+1,col] + df.iloc[i+2, col]\n",
    "                                              + df.iloc[i+3, col] + df.iloc[i+4, col]\n",
    "                                              + df.iloc[i+5, col] + df.iloc[i+6, col])/game_num)\n",
    "            col = 28\n",
    "            df.loc[df.index[i+game_num], 'pts_7_a'] = ((df.iloc[i,col] + df.iloc[i+1,col] + df.iloc[i+2, col]\n",
    "                                              + df.iloc[i+3, col] + df.iloc[i+4, col]\n",
    "                                              + df.iloc[i+5, col] + df.iloc[i+6, col])/game_num)\n",
    "        \n",
    "        df = df[['GAME_ID','TEAM_ID','fg_pct_3_a','fg3_pct_3_a', 'ft_pct_3_a', 'oreb_3_a', 'dreb_3_a', 'ast_3_a',\n",
    "                 'tov_3_a', 'stl_3_a', 'blk_3_a', 'pts_3_a', 'fg_pct_7_a', 'fg3_pct_7_a','ft_pct_7_a', 'oreb_7_a', \n",
    "                 'dreb_7_a', 'ast_7_a', 'tov_7_a', 'stl_7_a','blk_7_a', 'pts_7_a']]\n",
    "        \n",
    "        init = pd.concat([init, df])\n",
    "        \n",
    "        \n",
    "    return init"
   ]
  },
  {
   "cell_type": "code",
   "execution_count": null,
   "metadata": {},
   "outputs": [],
   "source": [
    "away_logs = away_log()"
   ]
  },
  {
   "cell_type": "code",
   "execution_count": null,
   "metadata": {},
   "outputs": [],
   "source": [
    "away_logs"
   ]
  },
  {
   "cell_type": "code",
   "execution_count": null,
   "metadata": {},
   "outputs": [],
   "source": [
    "merged = home_logs.merge(away_logs, on=\"GAME_ID\")"
   ]
  },
  {
   "cell_type": "code",
   "execution_count": null,
   "metadata": {},
   "outputs": [],
   "source": [
    "merged"
   ]
  },
  {
   "cell_type": "code",
   "execution_count": null,
   "metadata": {},
   "outputs": [],
   "source": [
    "merged = merged.drop_duplicates()\n",
    "merged = merged.dropna()"
   ]
  },
  {
   "cell_type": "code",
   "execution_count": null,
   "metadata": {},
   "outputs": [],
   "source": [
    "final = df.merge(merged, left_on=\"game_id\", right_on=\"GAME_ID\", how=\"right\")\n",
    "final.columns"
   ]
  },
  {
   "cell_type": "code",
   "execution_count": null,
   "metadata": {},
   "outputs": [],
   "source": [
    "# Assign X (data) and y (target)\n",
    "X = final[['fg_pct_3_h', 'fg3_pct_3_h', 'ft_pct_3_h',\n",
    "       'oreb_3_h', 'dreb_3_h', 'ast_3_h', 'tov_3_h', 'stl_3_h', 'blk_3_h',\n",
    "       'pts_3_h', 'fg_pct_7_h', 'fg3_pct_7_h', 'ft_pct_7_h', 'oreb_7_h',\n",
    "       'dreb_7_h', 'ast_7_h', 'tov_7_h', 'stl_7_h', 'blk_7_h', 'pts_7_h',\n",
    "        'fg_pct_3_a', 'fg3_pct_3_a', 'ft_pct_3_a', 'oreb_3_a',\n",
    "       'dreb_3_a', 'ast_3_a', 'tov_3_a', 'stl_3_a', 'blk_3_a', 'pts_3_a',\n",
    "       'fg_pct_7_a', 'fg3_pct_7_a', 'ft_pct_7_a', 'oreb_7_a', 'dreb_7_a',\n",
    "       'ast_7_a', 'tov_7_a', 'stl_7_a', 'blk_7_a', 'pts_7_a']]\n",
    "# X = final[['fg_pct_3_h', 'fg3_pct_3_h', 'ft_pct_3_h',\n",
    "#        'oreb_3_h', 'dreb_3_h', 'ast_3_h', 'tov_3_h', \n",
    "#        'pts_3_h', 'fg_pct_7_h', 'fg3_pct_7_h', 'ft_pct_7_h', 'oreb_7_h',\n",
    "#        'dreb_7_h', 'ast_7_h', 'tov_7_h', 'pts_7_h',\n",
    "#         'fg_pct_3_a', 'fg3_pct_3_a', 'ft_pct_3_a', 'oreb_3_a',\n",
    "#        'dreb_3_a', 'ast_3_a', 'tov_3_a',  'pts_3_a',\n",
    "#        'fg_pct_7_a', 'fg3_pct_7_a', 'ft_pct_7_a', 'oreb_7_a', 'dreb_7_a',\n",
    "#        'ast_7_a', 'tov_7_a', 'pts_7_a']]\n",
    "y = final[\"home_win\"]\n",
    "feature_names = X.columns\n",
    "print(X.shape, y.shape)"
   ]
  },
  {
   "cell_type": "code",
   "execution_count": null,
   "metadata": {},
   "outputs": [],
   "source": [
    "from sklearn.model_selection import train_test_split\n",
    "\n",
    "X_train, X_test, y_train, y_test = train_test_split(X, y, random_state=1)"
   ]
  },
  {
   "cell_type": "code",
   "execution_count": null,
   "metadata": {},
   "outputs": [],
   "source": [
    "from sklearn import tree\n",
    "clf = tree.DecisionTreeClassifier()\n",
    "clf = clf.fit(X_train, y_train)\n",
    "clf.score(X_test, y_test)"
   ]
  },
  {
   "cell_type": "code",
   "execution_count": null,
   "metadata": {},
   "outputs": [],
   "source": [
    "from sklearn.ensemble import RandomForestClassifier\n",
    "rf = RandomForestClassifier(n_estimators=100)\n",
    "rf = rf.fit(X_train, y_train)\n",
    "rf.score(X_test, y_test)"
   ]
  },
  {
   "cell_type": "code",
   "execution_count": null,
   "metadata": {},
   "outputs": [],
   "source": [
    "predictions = rf.predict_proba(X_test)\n",
    "predictions"
   ]
  },
  {
   "cell_type": "code",
   "execution_count": null,
   "metadata": {},
   "outputs": [],
   "source": [
    "y_test"
   ]
  },
  {
   "cell_type": "code",
   "execution_count": null,
   "metadata": {},
   "outputs": [],
   "source": [
    "sorted(zip(rf.feature_importances_, feature_names), reverse=True)"
   ]
  },
  {
   "cell_type": "code",
   "execution_count": null,
   "metadata": {},
   "outputs": [],
   "source": [
    "import pickle\n",
    "# save the model to disk\n",
    "filename = '../../NBA-predictions/web/static/model/forest.sav'\n",
    "pickle.dump(rf, open(filename, 'wb'))"
   ]
  },
  {
   "cell_type": "code",
   "execution_count": null,
   "metadata": {},
   "outputs": [],
   "source": []
  },
  {
   "cell_type": "code",
   "execution_count": null,
   "metadata": {},
   "outputs": [],
   "source": []
  },
  {
   "cell_type": "code",
   "execution_count": null,
   "metadata": {},
   "outputs": [],
   "source": []
  },
  {
   "cell_type": "code",
   "execution_count": null,
   "metadata": {},
   "outputs": [],
   "source": []
  },
  {
   "cell_type": "code",
   "execution_count": null,
   "metadata": {},
   "outputs": [],
   "source": []
  },
  {
   "cell_type": "code",
   "execution_count": null,
   "metadata": {},
   "outputs": [],
   "source": []
  },
  {
   "cell_type": "code",
   "execution_count": null,
   "metadata": {},
   "outputs": [],
   "source": []
  }
 ],
 "metadata": {
  "kernelspec": {
   "display_name": "Python 3",
   "language": "python",
   "name": "python3"
  },
  "language_info": {
   "codemirror_mode": {
    "name": "ipython",
    "version": 3
   },
   "file_extension": ".py",
   "mimetype": "text/x-python",
   "name": "python",
   "nbconvert_exporter": "python",
   "pygments_lexer": "ipython3",
   "version": "3.8.3"
  }
 },
 "nbformat": 4,
 "nbformat_minor": 4
}
