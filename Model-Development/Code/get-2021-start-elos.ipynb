{
 "metadata": {
  "language_info": {
   "codemirror_mode": {
    "name": "ipython",
    "version": 3
   },
   "file_extension": ".py",
   "mimetype": "text/x-python",
   "name": "python",
   "nbconvert_exporter": "python",
   "pygments_lexer": "ipython3",
   "version": "3.8.3-final"
  },
  "orig_nbformat": 2,
  "kernelspec": {
   "name": "python3",
   "display_name": "Python 3",
   "language": "python"
  }
 },
 "nbformat": 4,
 "nbformat_minor": 2,
 "cells": [
  {
   "cell_type": "code",
   "execution_count": 1,
   "metadata": {},
   "outputs": [],
   "source": [
    "import pandas as pd\n",
    "import os\n",
    "from datetime import datetime, timedelta"
   ]
  },
  {
   "cell_type": "code",
   "execution_count": 2,
   "metadata": {},
   "outputs": [],
   "source": [
    "# functions for calculating ELOs\n",
    "def mov_multiplyer(elo_winner, elo_loser, score_winner, score_loser):\n",
    "    mov = abs(score_winner-score_loser)\n",
    "    elo_diff = elo_winner-elo_loser\n",
    "    return ((mov+3)**0.8)/(7.5+0.006*(elo_diff))\n",
    "\n",
    "def pr_winner_win(elo_winner, elo_loser):\n",
    "    elo_diff = elo_loser - elo_winner\n",
    "    return 1/(1+10**(elo_diff/400))\n",
    "\n",
    "def post_elo_home_winner(elo_winner, elo_loser, score_winner, score_loser):\n",
    "    return (elo_winner-100) + 20*(1-pr_winner_win(elo_winner, elo_loser))*mov_multiplyer(elo_winner, elo_loser, score_winner, score_loser)\n",
    "\n",
    "def post_elo_away_winner(elo_winner, elo_loser, score_winner, score_loser):\n",
    "    return elo_winner + 20*(1-pr_winner_win(elo_winner, elo_loser))*mov_multiplyer(elo_winner, elo_loser, score_winner, score_loser)"
   ]
  },
  {
   "cell_type": "code",
   "execution_count": 3,
   "metadata": {},
   "outputs": [
    {
     "output_type": "execute_result",
     "data": {
      "text/plain": [
       "       TEAM_ID           TEAM   W\n",
       "0   1610612749      Milwaukee  60\n",
       "1   1610612761        Toronto  58\n",
       "2   1610612755   Philadelphia  51\n",
       "3   1610612738         Boston  49\n",
       "4   1610612754        Indiana  48\n",
       "5   1610612751       Brooklyn  42\n",
       "6   1610612753        Orlando  42\n",
       "7   1610612765        Detroit  41\n",
       "8   1610612766      Charlotte  39\n",
       "9   1610612748          Miami  39\n",
       "10  1610612764     Washington  32\n",
       "11  1610612737        Atlanta  29\n",
       "12  1610612741        Chicago  22\n",
       "13  1610612739      Cleveland  19\n",
       "14  1610612752       New York  17\n",
       "0   1610612744   Golden State  57\n",
       "1   1610612743         Denver  54\n",
       "2   1610612745        Houston  53\n",
       "3   1610612757       Portland  53\n",
       "4   1610612762           Utah  50\n",
       "5   1610612760  Oklahoma City  49\n",
       "6   1610612746    LA Clippers  48\n",
       "7   1610612759    San Antonio  48\n",
       "8   1610612758     Sacramento  39\n",
       "9   1610612747    L.A. Lakers  37\n",
       "10  1610612750      Minnesota  36\n",
       "11  1610612742         Dallas  33\n",
       "12  1610612763        Memphis  33\n",
       "13  1610612740    New Orleans  33\n",
       "14  1610612756        Phoenix  19"
      ],
      "text/html": "<div>\n<style scoped>\n    .dataframe tbody tr th:only-of-type {\n        vertical-align: middle;\n    }\n\n    .dataframe tbody tr th {\n        vertical-align: top;\n    }\n\n    .dataframe thead th {\n        text-align: right;\n    }\n</style>\n<table border=\"1\" class=\"dataframe\">\n  <thead>\n    <tr style=\"text-align: right;\">\n      <th></th>\n      <th>TEAM_ID</th>\n      <th>TEAM</th>\n      <th>W</th>\n    </tr>\n  </thead>\n  <tbody>\n    <tr>\n      <th>0</th>\n      <td>1610612749</td>\n      <td>Milwaukee</td>\n      <td>60</td>\n    </tr>\n    <tr>\n      <th>1</th>\n      <td>1610612761</td>\n      <td>Toronto</td>\n      <td>58</td>\n    </tr>\n    <tr>\n      <th>2</th>\n      <td>1610612755</td>\n      <td>Philadelphia</td>\n      <td>51</td>\n    </tr>\n    <tr>\n      <th>3</th>\n      <td>1610612738</td>\n      <td>Boston</td>\n      <td>49</td>\n    </tr>\n    <tr>\n      <th>4</th>\n      <td>1610612754</td>\n      <td>Indiana</td>\n      <td>48</td>\n    </tr>\n    <tr>\n      <th>5</th>\n      <td>1610612751</td>\n      <td>Brooklyn</td>\n      <td>42</td>\n    </tr>\n    <tr>\n      <th>6</th>\n      <td>1610612753</td>\n      <td>Orlando</td>\n      <td>42</td>\n    </tr>\n    <tr>\n      <th>7</th>\n      <td>1610612765</td>\n      <td>Detroit</td>\n      <td>41</td>\n    </tr>\n    <tr>\n      <th>8</th>\n      <td>1610612766</td>\n      <td>Charlotte</td>\n      <td>39</td>\n    </tr>\n    <tr>\n      <th>9</th>\n      <td>1610612748</td>\n      <td>Miami</td>\n      <td>39</td>\n    </tr>\n    <tr>\n      <th>10</th>\n      <td>1610612764</td>\n      <td>Washington</td>\n      <td>32</td>\n    </tr>\n    <tr>\n      <th>11</th>\n      <td>1610612737</td>\n      <td>Atlanta</td>\n      <td>29</td>\n    </tr>\n    <tr>\n      <th>12</th>\n      <td>1610612741</td>\n      <td>Chicago</td>\n      <td>22</td>\n    </tr>\n    <tr>\n      <th>13</th>\n      <td>1610612739</td>\n      <td>Cleveland</td>\n      <td>19</td>\n    </tr>\n    <tr>\n      <th>14</th>\n      <td>1610612752</td>\n      <td>New York</td>\n      <td>17</td>\n    </tr>\n    <tr>\n      <th>0</th>\n      <td>1610612744</td>\n      <td>Golden State</td>\n      <td>57</td>\n    </tr>\n    <tr>\n      <th>1</th>\n      <td>1610612743</td>\n      <td>Denver</td>\n      <td>54</td>\n    </tr>\n    <tr>\n      <th>2</th>\n      <td>1610612745</td>\n      <td>Houston</td>\n      <td>53</td>\n    </tr>\n    <tr>\n      <th>3</th>\n      <td>1610612757</td>\n      <td>Portland</td>\n      <td>53</td>\n    </tr>\n    <tr>\n      <th>4</th>\n      <td>1610612762</td>\n      <td>Utah</td>\n      <td>50</td>\n    </tr>\n    <tr>\n      <th>5</th>\n      <td>1610612760</td>\n      <td>Oklahoma City</td>\n      <td>49</td>\n    </tr>\n    <tr>\n      <th>6</th>\n      <td>1610612746</td>\n      <td>LA Clippers</td>\n      <td>48</td>\n    </tr>\n    <tr>\n      <th>7</th>\n      <td>1610612759</td>\n      <td>San Antonio</td>\n      <td>48</td>\n    </tr>\n    <tr>\n      <th>8</th>\n      <td>1610612758</td>\n      <td>Sacramento</td>\n      <td>39</td>\n    </tr>\n    <tr>\n      <th>9</th>\n      <td>1610612747</td>\n      <td>L.A. Lakers</td>\n      <td>37</td>\n    </tr>\n    <tr>\n      <th>10</th>\n      <td>1610612750</td>\n      <td>Minnesota</td>\n      <td>36</td>\n    </tr>\n    <tr>\n      <th>11</th>\n      <td>1610612742</td>\n      <td>Dallas</td>\n      <td>33</td>\n    </tr>\n    <tr>\n      <th>12</th>\n      <td>1610612763</td>\n      <td>Memphis</td>\n      <td>33</td>\n    </tr>\n    <tr>\n      <th>13</th>\n      <td>1610612740</td>\n      <td>New Orleans</td>\n      <td>33</td>\n    </tr>\n    <tr>\n      <th>14</th>\n      <td>1610612756</td>\n      <td>Phoenix</td>\n      <td>19</td>\n    </tr>\n  </tbody>\n</table>\n</div>"
     },
     "metadata": {},
     "execution_count": 3
    }
   ],
   "source": [
    "# Import record of each team from 2018-19\n",
    "from nbapy import game, shot_chart, player, scoreboard, team\n",
    "east = scoreboard.Scoreboard(month=6, day=30, year=2019, league_id='00', offset=0).east_conf_standings_by_day()\n",
    "east = east[[\"TEAM_ID\", \"TEAM\", \"W\"]]\n",
    "west = scoreboard.Scoreboard(month=6, day=30, year=2019, league_id='00', offset=0).west_conf_standings_by_day()\n",
    "west = west[[\"TEAM_ID\", \"TEAM\", \"W\"]]\n",
    "standings = pd.concat([east, west])\n",
    "standings"
   ]
  },
  {
   "cell_type": "code",
   "execution_count": 4,
   "metadata": {},
   "outputs": [
    {
     "output_type": "execute_result",
     "data": {
      "text/plain": [
       "       TEAM_ID           TEAM   W      ELO\n",
       "0   1610612749      Milwaukee  60  1700.21\n",
       "1   1610612761        Toronto  58  1675.57\n",
       "2   1610612755   Philadelphia  51  1597.67\n",
       "3   1610612738         Boston  49  1577.23\n",
       "4   1610612754        Indiana  48  1567.22\n",
       "5   1610612751       Brooklyn  42  1509.11\n",
       "6   1610612753        Orlando  42  1509.11\n",
       "7   1610612765        Detroit  41  1499.58\n",
       "8   1610612766      Charlotte  39  1480.50\n",
       "9   1610612748          Miami  39  1480.50\n",
       "10  1610612764     Washington  32  1411.68\n",
       "11  1610612737        Atlanta  29  1380.16\n",
       "12  1610612741        Chicago  22  1298.44\n",
       "13  1610612739      Cleveland  19  1258.79\n",
       "14  1610612752       New York  17  1230.47\n",
       "15  1610612744   Golden State  57  1663.69\n",
       "16  1610612743         Denver  54  1629.67\n",
       "17  1610612745        Houston  53  1618.80\n",
       "18  1610612757       Portland  53  1618.80\n",
       "19  1610612762           Utah  50  1587.37\n",
       "20  1610612760  Oklahoma City  49  1577.23\n",
       "21  1610612746    LA Clippers  48  1567.22\n",
       "22  1610612759    San Antonio  48  1567.22\n",
       "23  1610612758     Sacramento  39  1480.50\n",
       "24  1610612747    L.A. Lakers  37  1461.28\n",
       "25  1610612750      Minnesota  36  1451.57\n",
       "26  1610612742         Dallas  33  1421.84\n",
       "27  1610612763        Memphis  33  1421.84\n",
       "28  1610612740    New Orleans  33  1421.84\n",
       "29  1610612756        Phoenix  19  1258.79"
      ],
      "text/html": "<div>\n<style scoped>\n    .dataframe tbody tr th:only-of-type {\n        vertical-align: middle;\n    }\n\n    .dataframe tbody tr th {\n        vertical-align: top;\n    }\n\n    .dataframe thead th {\n        text-align: right;\n    }\n</style>\n<table border=\"1\" class=\"dataframe\">\n  <thead>\n    <tr style=\"text-align: right;\">\n      <th></th>\n      <th>TEAM_ID</th>\n      <th>TEAM</th>\n      <th>W</th>\n      <th>ELO</th>\n    </tr>\n  </thead>\n  <tbody>\n    <tr>\n      <th>0</th>\n      <td>1610612749</td>\n      <td>Milwaukee</td>\n      <td>60</td>\n      <td>1700.21</td>\n    </tr>\n    <tr>\n      <th>1</th>\n      <td>1610612761</td>\n      <td>Toronto</td>\n      <td>58</td>\n      <td>1675.57</td>\n    </tr>\n    <tr>\n      <th>2</th>\n      <td>1610612755</td>\n      <td>Philadelphia</td>\n      <td>51</td>\n      <td>1597.67</td>\n    </tr>\n    <tr>\n      <th>3</th>\n      <td>1610612738</td>\n      <td>Boston</td>\n      <td>49</td>\n      <td>1577.23</td>\n    </tr>\n    <tr>\n      <th>4</th>\n      <td>1610612754</td>\n      <td>Indiana</td>\n      <td>48</td>\n      <td>1567.22</td>\n    </tr>\n    <tr>\n      <th>5</th>\n      <td>1610612751</td>\n      <td>Brooklyn</td>\n      <td>42</td>\n      <td>1509.11</td>\n    </tr>\n    <tr>\n      <th>6</th>\n      <td>1610612753</td>\n      <td>Orlando</td>\n      <td>42</td>\n      <td>1509.11</td>\n    </tr>\n    <tr>\n      <th>7</th>\n      <td>1610612765</td>\n      <td>Detroit</td>\n      <td>41</td>\n      <td>1499.58</td>\n    </tr>\n    <tr>\n      <th>8</th>\n      <td>1610612766</td>\n      <td>Charlotte</td>\n      <td>39</td>\n      <td>1480.50</td>\n    </tr>\n    <tr>\n      <th>9</th>\n      <td>1610612748</td>\n      <td>Miami</td>\n      <td>39</td>\n      <td>1480.50</td>\n    </tr>\n    <tr>\n      <th>10</th>\n      <td>1610612764</td>\n      <td>Washington</td>\n      <td>32</td>\n      <td>1411.68</td>\n    </tr>\n    <tr>\n      <th>11</th>\n      <td>1610612737</td>\n      <td>Atlanta</td>\n      <td>29</td>\n      <td>1380.16</td>\n    </tr>\n    <tr>\n      <th>12</th>\n      <td>1610612741</td>\n      <td>Chicago</td>\n      <td>22</td>\n      <td>1298.44</td>\n    </tr>\n    <tr>\n      <th>13</th>\n      <td>1610612739</td>\n      <td>Cleveland</td>\n      <td>19</td>\n      <td>1258.79</td>\n    </tr>\n    <tr>\n      <th>14</th>\n      <td>1610612752</td>\n      <td>New York</td>\n      <td>17</td>\n      <td>1230.47</td>\n    </tr>\n    <tr>\n      <th>15</th>\n      <td>1610612744</td>\n      <td>Golden State</td>\n      <td>57</td>\n      <td>1663.69</td>\n    </tr>\n    <tr>\n      <th>16</th>\n      <td>1610612743</td>\n      <td>Denver</td>\n      <td>54</td>\n      <td>1629.67</td>\n    </tr>\n    <tr>\n      <th>17</th>\n      <td>1610612745</td>\n      <td>Houston</td>\n      <td>53</td>\n      <td>1618.80</td>\n    </tr>\n    <tr>\n      <th>18</th>\n      <td>1610612757</td>\n      <td>Portland</td>\n      <td>53</td>\n      <td>1618.80</td>\n    </tr>\n    <tr>\n      <th>19</th>\n      <td>1610612762</td>\n      <td>Utah</td>\n      <td>50</td>\n      <td>1587.37</td>\n    </tr>\n    <tr>\n      <th>20</th>\n      <td>1610612760</td>\n      <td>Oklahoma City</td>\n      <td>49</td>\n      <td>1577.23</td>\n    </tr>\n    <tr>\n      <th>21</th>\n      <td>1610612746</td>\n      <td>LA Clippers</td>\n      <td>48</td>\n      <td>1567.22</td>\n    </tr>\n    <tr>\n      <th>22</th>\n      <td>1610612759</td>\n      <td>San Antonio</td>\n      <td>48</td>\n      <td>1567.22</td>\n    </tr>\n    <tr>\n      <th>23</th>\n      <td>1610612758</td>\n      <td>Sacramento</td>\n      <td>39</td>\n      <td>1480.50</td>\n    </tr>\n    <tr>\n      <th>24</th>\n      <td>1610612747</td>\n      <td>L.A. Lakers</td>\n      <td>37</td>\n      <td>1461.28</td>\n    </tr>\n    <tr>\n      <th>25</th>\n      <td>1610612750</td>\n      <td>Minnesota</td>\n      <td>36</td>\n      <td>1451.57</td>\n    </tr>\n    <tr>\n      <th>26</th>\n      <td>1610612742</td>\n      <td>Dallas</td>\n      <td>33</td>\n      <td>1421.84</td>\n    </tr>\n    <tr>\n      <th>27</th>\n      <td>1610612763</td>\n      <td>Memphis</td>\n      <td>33</td>\n      <td>1421.84</td>\n    </tr>\n    <tr>\n      <th>28</th>\n      <td>1610612740</td>\n      <td>New Orleans</td>\n      <td>33</td>\n      <td>1421.84</td>\n    </tr>\n    <tr>\n      <th>29</th>\n      <td>1610612756</td>\n      <td>Phoenix</td>\n      <td>19</td>\n      <td>1258.79</td>\n    </tr>\n  </tbody>\n</table>\n</div>"
     },
     "metadata": {},
     "execution_count": 4
    }
   ],
   "source": [
    "# Estimate ELOs based on last season record\n",
    "def elo_estimater(wins):\n",
    "    return round((0.0029*(wins**3))-(0.3574*(wins**2))+(24.208*wins)+(907.97),2)\n",
    "\n",
    "standings['ELO'] = [elo_estimater(x) for x in list(standings.W)]\n",
    "standings = standings.reset_index(drop=1)\n",
    "standings\n"
   ]
  },
  {
   "cell_type": "code",
   "execution_count": 9,
   "metadata": {},
   "outputs": [
    {
     "output_type": "execute_result",
     "data": {
      "text/plain": [
       "      Unnamed: 0       date   game_id home away     home_id     away_id  \\\n",
       "0              0 2019-10-22  21900001  NOP  TOR  1610612740  1610612761   \n",
       "1              1 2019-10-22  21900002  LAL  LAC  1610612747  1610612746   \n",
       "2              2 2019-10-23  21900003  CHI  CHA  1610612741  1610612766   \n",
       "3              3 2019-10-23  21900004  DET  IND  1610612765  1610612754   \n",
       "4              4 2019-10-23  21900005  CLE  ORL  1610612739  1610612753   \n",
       "...          ...        ...       ...  ...  ...         ...         ...   \n",
       "1135        1168 2020-10-02  41900402  MIA  LAL  1610612748  1610612747   \n",
       "1136        1169 2020-10-04  41900403  LAL  MIA  1610612747  1610612748   \n",
       "1137        1170 2020-10-06  41900404  LAL  MIA  1610612747  1610612748   \n",
       "1138        1171 2020-10-09  41900405  MIA  LAL  1610612748  1610612747   \n",
       "1139        1172 2020-10-11  41900406  LAL  MIA  1610612747  1610612748   \n",
       "\n",
       "      home_pts  away_pts  \n",
       "0        122.0     130.0  \n",
       "1        102.0     112.0  \n",
       "2        125.0     126.0  \n",
       "3        119.0     110.0  \n",
       "4         85.0      94.0  \n",
       "...        ...       ...  \n",
       "1135     114.0     124.0  \n",
       "1136     104.0     115.0  \n",
       "1137     102.0      96.0  \n",
       "1138     111.0     108.0  \n",
       "1139     106.0      93.0  \n",
       "\n",
       "[1139 rows x 9 columns]"
      ],
      "text/html": "<div>\n<style scoped>\n    .dataframe tbody tr th:only-of-type {\n        vertical-align: middle;\n    }\n\n    .dataframe tbody tr th {\n        vertical-align: top;\n    }\n\n    .dataframe thead th {\n        text-align: right;\n    }\n</style>\n<table border=\"1\" class=\"dataframe\">\n  <thead>\n    <tr style=\"text-align: right;\">\n      <th></th>\n      <th>Unnamed: 0</th>\n      <th>date</th>\n      <th>game_id</th>\n      <th>home</th>\n      <th>away</th>\n      <th>home_id</th>\n      <th>away_id</th>\n      <th>home_pts</th>\n      <th>away_pts</th>\n    </tr>\n  </thead>\n  <tbody>\n    <tr>\n      <th>0</th>\n      <td>0</td>\n      <td>2019-10-22</td>\n      <td>21900001</td>\n      <td>NOP</td>\n      <td>TOR</td>\n      <td>1610612740</td>\n      <td>1610612761</td>\n      <td>122.0</td>\n      <td>130.0</td>\n    </tr>\n    <tr>\n      <th>1</th>\n      <td>1</td>\n      <td>2019-10-22</td>\n      <td>21900002</td>\n      <td>LAL</td>\n      <td>LAC</td>\n      <td>1610612747</td>\n      <td>1610612746</td>\n      <td>102.0</td>\n      <td>112.0</td>\n    </tr>\n    <tr>\n      <th>2</th>\n      <td>2</td>\n      <td>2019-10-23</td>\n      <td>21900003</td>\n      <td>CHI</td>\n      <td>CHA</td>\n      <td>1610612741</td>\n      <td>1610612766</td>\n      <td>125.0</td>\n      <td>126.0</td>\n    </tr>\n    <tr>\n      <th>3</th>\n      <td>3</td>\n      <td>2019-10-23</td>\n      <td>21900004</td>\n      <td>DET</td>\n      <td>IND</td>\n      <td>1610612765</td>\n      <td>1610612754</td>\n      <td>119.0</td>\n      <td>110.0</td>\n    </tr>\n    <tr>\n      <th>4</th>\n      <td>4</td>\n      <td>2019-10-23</td>\n      <td>21900005</td>\n      <td>CLE</td>\n      <td>ORL</td>\n      <td>1610612739</td>\n      <td>1610612753</td>\n      <td>85.0</td>\n      <td>94.0</td>\n    </tr>\n    <tr>\n      <th>...</th>\n      <td>...</td>\n      <td>...</td>\n      <td>...</td>\n      <td>...</td>\n      <td>...</td>\n      <td>...</td>\n      <td>...</td>\n      <td>...</td>\n      <td>...</td>\n    </tr>\n    <tr>\n      <th>1135</th>\n      <td>1168</td>\n      <td>2020-10-02</td>\n      <td>41900402</td>\n      <td>MIA</td>\n      <td>LAL</td>\n      <td>1610612748</td>\n      <td>1610612747</td>\n      <td>114.0</td>\n      <td>124.0</td>\n    </tr>\n    <tr>\n      <th>1136</th>\n      <td>1169</td>\n      <td>2020-10-04</td>\n      <td>41900403</td>\n      <td>LAL</td>\n      <td>MIA</td>\n      <td>1610612747</td>\n      <td>1610612748</td>\n      <td>104.0</td>\n      <td>115.0</td>\n    </tr>\n    <tr>\n      <th>1137</th>\n      <td>1170</td>\n      <td>2020-10-06</td>\n      <td>41900404</td>\n      <td>LAL</td>\n      <td>MIA</td>\n      <td>1610612747</td>\n      <td>1610612748</td>\n      <td>102.0</td>\n      <td>96.0</td>\n    </tr>\n    <tr>\n      <th>1138</th>\n      <td>1171</td>\n      <td>2020-10-09</td>\n      <td>41900405</td>\n      <td>MIA</td>\n      <td>LAL</td>\n      <td>1610612748</td>\n      <td>1610612747</td>\n      <td>111.0</td>\n      <td>108.0</td>\n    </tr>\n    <tr>\n      <th>1139</th>\n      <td>1172</td>\n      <td>2020-10-11</td>\n      <td>41900406</td>\n      <td>LAL</td>\n      <td>MIA</td>\n      <td>1610612747</td>\n      <td>1610612748</td>\n      <td>106.0</td>\n      <td>93.0</td>\n    </tr>\n  </tbody>\n</table>\n<p>1139 rows × 9 columns</p>\n</div>"
     },
     "metadata": {},
     "execution_count": 9
    }
   ],
   "source": [
    "# Get games for 2019 into a table\n",
    "games_2019 = pd.read_csv(\"../Resources/init_games.csv\")\n",
    "games_2019.date = games_2019.date.astype('datetime64')\n",
    "games_2019.home_id = games_2019.home_id.astype('int64')\n",
    "games_2019.away_id = games_2019.away_id.astype('int64')\n",
    "games_2019 = games_2019[games_2019.home_id != 1610616834]\n",
    "games_2019"
   ]
  },
  {
   "cell_type": "code",
   "execution_count": 10,
   "metadata": {},
   "outputs": [
    {
     "output_type": "execute_result",
     "data": {
      "text/plain": [
       "   1610612749  1610612761  1610612755  1610612738  1610612754  1610612751  \\\n",
       "0     1651.41     1632.93      1574.5     1559.17     1551.66     1508.08   \n",
       "\n",
       "   1610612753  1610612765  1610612766  1610612748  ...  1610612760  \\\n",
       "0     1508.08     1500.93     1486.62     1486.62  ...     1559.17   \n",
       "\n",
       "   1610612746  1610612759  1610612758  1610612747  1610612750  1610612742  \\\n",
       "0     1551.66     1551.66     1486.62     1472.21     1464.93     1442.63   \n",
       "\n",
       "   1610612763  1610612740  1610612756  \n",
       "0     1442.63     1442.63     1320.34  \n",
       "\n",
       "[1 rows x 30 columns]"
      ],
      "text/html": "<div>\n<style scoped>\n    .dataframe tbody tr th:only-of-type {\n        vertical-align: middle;\n    }\n\n    .dataframe tbody tr th {\n        vertical-align: top;\n    }\n\n    .dataframe thead th {\n        text-align: right;\n    }\n</style>\n<table border=\"1\" class=\"dataframe\">\n  <thead>\n    <tr style=\"text-align: right;\">\n      <th></th>\n      <th>1610612749</th>\n      <th>1610612761</th>\n      <th>1610612755</th>\n      <th>1610612738</th>\n      <th>1610612754</th>\n      <th>1610612751</th>\n      <th>1610612753</th>\n      <th>1610612765</th>\n      <th>1610612766</th>\n      <th>1610612748</th>\n      <th>...</th>\n      <th>1610612760</th>\n      <th>1610612746</th>\n      <th>1610612759</th>\n      <th>1610612758</th>\n      <th>1610612747</th>\n      <th>1610612750</th>\n      <th>1610612742</th>\n      <th>1610612763</th>\n      <th>1610612740</th>\n      <th>1610612756</th>\n    </tr>\n  </thead>\n  <tbody>\n    <tr>\n      <th>0</th>\n      <td>1651.41</td>\n      <td>1632.93</td>\n      <td>1574.5</td>\n      <td>1559.17</td>\n      <td>1551.66</td>\n      <td>1508.08</td>\n      <td>1508.08</td>\n      <td>1500.93</td>\n      <td>1486.62</td>\n      <td>1486.62</td>\n      <td>...</td>\n      <td>1559.17</td>\n      <td>1551.66</td>\n      <td>1551.66</td>\n      <td>1486.62</td>\n      <td>1472.21</td>\n      <td>1464.93</td>\n      <td>1442.63</td>\n      <td>1442.63</td>\n      <td>1442.63</td>\n      <td>1320.34</td>\n    </tr>\n  </tbody>\n</table>\n<p>1 rows × 30 columns</p>\n</div>"
     },
     "metadata": {},
     "execution_count": 10
    }
   ],
   "source": [
    "team_ids = list(standings['TEAM_ID'])\n",
    "team_ids = [str(x) for x in team_ids]\n",
    "last_season_ELOs = list(standings['ELO'])\n",
    "\n",
    "season_start_elos = [round((0.75*x) + (0.25*1505), 2) for x in last_season_ELOs]\n",
    "\n",
    "elos_2019 = pd.DataFrame([season_start_elos], columns=team_ids)\n",
    "elos_2019\n"
   ]
  },
  {
   "cell_type": "code",
   "execution_count": 11,
   "metadata": {},
   "outputs": [
    {
     "output_type": "execute_result",
     "data": {
      "text/plain": [
       "          DATE  1610612749  1610612761  1610612755  1610612738  1610612754  \\\n",
       "0   2019-10-22     1651.41     1632.93      1574.5     1559.17     1551.66   \n",
       "1   2019-10-23         NaN         NaN         NaN         NaN         NaN   \n",
       "2   2019-10-24         NaN         NaN         NaN         NaN         NaN   \n",
       "3   2019-10-25         NaN         NaN         NaN         NaN         NaN   \n",
       "4   2019-10-26         NaN         NaN         NaN         NaN         NaN   \n",
       "..         ...         ...         ...         ...         ...         ...   \n",
       "352 2020-10-08         NaN         NaN         NaN         NaN         NaN   \n",
       "353 2020-10-09         NaN         NaN         NaN         NaN         NaN   \n",
       "354 2020-10-10         NaN         NaN         NaN         NaN         NaN   \n",
       "355 2020-10-11         NaN         NaN         NaN         NaN         NaN   \n",
       "356 2020-10-12         NaN         NaN         NaN         NaN         NaN   \n",
       "\n",
       "     1610612751  1610612753  1610612765  1610612766  ...  1610612760  \\\n",
       "0       1508.08     1508.08     1500.93     1486.62  ...     1559.17   \n",
       "1           NaN         NaN         NaN         NaN  ...         NaN   \n",
       "2           NaN         NaN         NaN         NaN  ...         NaN   \n",
       "3           NaN         NaN         NaN         NaN  ...         NaN   \n",
       "4           NaN         NaN         NaN         NaN  ...         NaN   \n",
       "..          ...         ...         ...         ...  ...         ...   \n",
       "352         NaN         NaN         NaN         NaN  ...         NaN   \n",
       "353         NaN         NaN         NaN         NaN  ...         NaN   \n",
       "354         NaN         NaN         NaN         NaN  ...         NaN   \n",
       "355         NaN         NaN         NaN         NaN  ...         NaN   \n",
       "356         NaN         NaN         NaN         NaN  ...         NaN   \n",
       "\n",
       "     1610612746  1610612759  1610612758  1610612747  1610612750  1610612742  \\\n",
       "0       1551.66     1551.66     1486.62     1472.21     1464.93     1442.63   \n",
       "1           NaN         NaN         NaN         NaN         NaN         NaN   \n",
       "2           NaN         NaN         NaN         NaN         NaN         NaN   \n",
       "3           NaN         NaN         NaN         NaN         NaN         NaN   \n",
       "4           NaN         NaN         NaN         NaN         NaN         NaN   \n",
       "..          ...         ...         ...         ...         ...         ...   \n",
       "352         NaN         NaN         NaN         NaN         NaN         NaN   \n",
       "353         NaN         NaN         NaN         NaN         NaN         NaN   \n",
       "354         NaN         NaN         NaN         NaN         NaN         NaN   \n",
       "355         NaN         NaN         NaN         NaN         NaN         NaN   \n",
       "356         NaN         NaN         NaN         NaN         NaN         NaN   \n",
       "\n",
       "     1610612763  1610612740  1610612756  \n",
       "0       1442.63     1442.63     1320.34  \n",
       "1           NaN         NaN         NaN  \n",
       "2           NaN         NaN         NaN  \n",
       "3           NaN         NaN         NaN  \n",
       "4           NaN         NaN         NaN  \n",
       "..          ...         ...         ...  \n",
       "352         NaN         NaN         NaN  \n",
       "353         NaN         NaN         NaN  \n",
       "354         NaN         NaN         NaN  \n",
       "355         NaN         NaN         NaN  \n",
       "356         NaN         NaN         NaN  \n",
       "\n",
       "[357 rows x 31 columns]"
      ],
      "text/html": "<div>\n<style scoped>\n    .dataframe tbody tr th:only-of-type {\n        vertical-align: middle;\n    }\n\n    .dataframe tbody tr th {\n        vertical-align: top;\n    }\n\n    .dataframe thead th {\n        text-align: right;\n    }\n</style>\n<table border=\"1\" class=\"dataframe\">\n  <thead>\n    <tr style=\"text-align: right;\">\n      <th></th>\n      <th>DATE</th>\n      <th>1610612749</th>\n      <th>1610612761</th>\n      <th>1610612755</th>\n      <th>1610612738</th>\n      <th>1610612754</th>\n      <th>1610612751</th>\n      <th>1610612753</th>\n      <th>1610612765</th>\n      <th>1610612766</th>\n      <th>...</th>\n      <th>1610612760</th>\n      <th>1610612746</th>\n      <th>1610612759</th>\n      <th>1610612758</th>\n      <th>1610612747</th>\n      <th>1610612750</th>\n      <th>1610612742</th>\n      <th>1610612763</th>\n      <th>1610612740</th>\n      <th>1610612756</th>\n    </tr>\n  </thead>\n  <tbody>\n    <tr>\n      <th>0</th>\n      <td>2019-10-22</td>\n      <td>1651.41</td>\n      <td>1632.93</td>\n      <td>1574.5</td>\n      <td>1559.17</td>\n      <td>1551.66</td>\n      <td>1508.08</td>\n      <td>1508.08</td>\n      <td>1500.93</td>\n      <td>1486.62</td>\n      <td>...</td>\n      <td>1559.17</td>\n      <td>1551.66</td>\n      <td>1551.66</td>\n      <td>1486.62</td>\n      <td>1472.21</td>\n      <td>1464.93</td>\n      <td>1442.63</td>\n      <td>1442.63</td>\n      <td>1442.63</td>\n      <td>1320.34</td>\n    </tr>\n    <tr>\n      <th>1</th>\n      <td>2019-10-23</td>\n      <td>NaN</td>\n      <td>NaN</td>\n      <td>NaN</td>\n      <td>NaN</td>\n      <td>NaN</td>\n      <td>NaN</td>\n      <td>NaN</td>\n      <td>NaN</td>\n      <td>NaN</td>\n      <td>...</td>\n      <td>NaN</td>\n      <td>NaN</td>\n      <td>NaN</td>\n      <td>NaN</td>\n      <td>NaN</td>\n      <td>NaN</td>\n      <td>NaN</td>\n      <td>NaN</td>\n      <td>NaN</td>\n      <td>NaN</td>\n    </tr>\n    <tr>\n      <th>2</th>\n      <td>2019-10-24</td>\n      <td>NaN</td>\n      <td>NaN</td>\n      <td>NaN</td>\n      <td>NaN</td>\n      <td>NaN</td>\n      <td>NaN</td>\n      <td>NaN</td>\n      <td>NaN</td>\n      <td>NaN</td>\n      <td>...</td>\n      <td>NaN</td>\n      <td>NaN</td>\n      <td>NaN</td>\n      <td>NaN</td>\n      <td>NaN</td>\n      <td>NaN</td>\n      <td>NaN</td>\n      <td>NaN</td>\n      <td>NaN</td>\n      <td>NaN</td>\n    </tr>\n    <tr>\n      <th>3</th>\n      <td>2019-10-25</td>\n      <td>NaN</td>\n      <td>NaN</td>\n      <td>NaN</td>\n      <td>NaN</td>\n      <td>NaN</td>\n      <td>NaN</td>\n      <td>NaN</td>\n      <td>NaN</td>\n      <td>NaN</td>\n      <td>...</td>\n      <td>NaN</td>\n      <td>NaN</td>\n      <td>NaN</td>\n      <td>NaN</td>\n      <td>NaN</td>\n      <td>NaN</td>\n      <td>NaN</td>\n      <td>NaN</td>\n      <td>NaN</td>\n      <td>NaN</td>\n    </tr>\n    <tr>\n      <th>4</th>\n      <td>2019-10-26</td>\n      <td>NaN</td>\n      <td>NaN</td>\n      <td>NaN</td>\n      <td>NaN</td>\n      <td>NaN</td>\n      <td>NaN</td>\n      <td>NaN</td>\n      <td>NaN</td>\n      <td>NaN</td>\n      <td>...</td>\n      <td>NaN</td>\n      <td>NaN</td>\n      <td>NaN</td>\n      <td>NaN</td>\n      <td>NaN</td>\n      <td>NaN</td>\n      <td>NaN</td>\n      <td>NaN</td>\n      <td>NaN</td>\n      <td>NaN</td>\n    </tr>\n    <tr>\n      <th>...</th>\n      <td>...</td>\n      <td>...</td>\n      <td>...</td>\n      <td>...</td>\n      <td>...</td>\n      <td>...</td>\n      <td>...</td>\n      <td>...</td>\n      <td>...</td>\n      <td>...</td>\n      <td>...</td>\n      <td>...</td>\n      <td>...</td>\n      <td>...</td>\n      <td>...</td>\n      <td>...</td>\n      <td>...</td>\n      <td>...</td>\n      <td>...</td>\n      <td>...</td>\n      <td>...</td>\n    </tr>\n    <tr>\n      <th>352</th>\n      <td>2020-10-08</td>\n      <td>NaN</td>\n      <td>NaN</td>\n      <td>NaN</td>\n      <td>NaN</td>\n      <td>NaN</td>\n      <td>NaN</td>\n      <td>NaN</td>\n      <td>NaN</td>\n      <td>NaN</td>\n      <td>...</td>\n      <td>NaN</td>\n      <td>NaN</td>\n      <td>NaN</td>\n      <td>NaN</td>\n      <td>NaN</td>\n      <td>NaN</td>\n      <td>NaN</td>\n      <td>NaN</td>\n      <td>NaN</td>\n      <td>NaN</td>\n    </tr>\n    <tr>\n      <th>353</th>\n      <td>2020-10-09</td>\n      <td>NaN</td>\n      <td>NaN</td>\n      <td>NaN</td>\n      <td>NaN</td>\n      <td>NaN</td>\n      <td>NaN</td>\n      <td>NaN</td>\n      <td>NaN</td>\n      <td>NaN</td>\n      <td>...</td>\n      <td>NaN</td>\n      <td>NaN</td>\n      <td>NaN</td>\n      <td>NaN</td>\n      <td>NaN</td>\n      <td>NaN</td>\n      <td>NaN</td>\n      <td>NaN</td>\n      <td>NaN</td>\n      <td>NaN</td>\n    </tr>\n    <tr>\n      <th>354</th>\n      <td>2020-10-10</td>\n      <td>NaN</td>\n      <td>NaN</td>\n      <td>NaN</td>\n      <td>NaN</td>\n      <td>NaN</td>\n      <td>NaN</td>\n      <td>NaN</td>\n      <td>NaN</td>\n      <td>NaN</td>\n      <td>...</td>\n      <td>NaN</td>\n      <td>NaN</td>\n      <td>NaN</td>\n      <td>NaN</td>\n      <td>NaN</td>\n      <td>NaN</td>\n      <td>NaN</td>\n      <td>NaN</td>\n      <td>NaN</td>\n      <td>NaN</td>\n    </tr>\n    <tr>\n      <th>355</th>\n      <td>2020-10-11</td>\n      <td>NaN</td>\n      <td>NaN</td>\n      <td>NaN</td>\n      <td>NaN</td>\n      <td>NaN</td>\n      <td>NaN</td>\n      <td>NaN</td>\n      <td>NaN</td>\n      <td>NaN</td>\n      <td>...</td>\n      <td>NaN</td>\n      <td>NaN</td>\n      <td>NaN</td>\n      <td>NaN</td>\n      <td>NaN</td>\n      <td>NaN</td>\n      <td>NaN</td>\n      <td>NaN</td>\n      <td>NaN</td>\n      <td>NaN</td>\n    </tr>\n    <tr>\n      <th>356</th>\n      <td>2020-10-12</td>\n      <td>NaN</td>\n      <td>NaN</td>\n      <td>NaN</td>\n      <td>NaN</td>\n      <td>NaN</td>\n      <td>NaN</td>\n      <td>NaN</td>\n      <td>NaN</td>\n      <td>NaN</td>\n      <td>...</td>\n      <td>NaN</td>\n      <td>NaN</td>\n      <td>NaN</td>\n      <td>NaN</td>\n      <td>NaN</td>\n      <td>NaN</td>\n      <td>NaN</td>\n      <td>NaN</td>\n      <td>NaN</td>\n      <td>NaN</td>\n    </tr>\n  </tbody>\n</table>\n<p>357 rows × 31 columns</p>\n</div>"
     },
     "metadata": {},
     "execution_count": 11
    }
   ],
   "source": [
    "\n",
    "dates_df = pd.DataFrame({'DATE':pd.date_range(start=games_2019.date.min(), end=games_2019.date.max()+timedelta(days=1))})\n",
    "\n",
    "concat_df_labels = ['DATE']\n",
    "for id in list(elos_2019):\n",
    "    concat_df_labels.append(id)\n",
    "\n",
    "elos_2019 = pd.concat([dates_df, elos_2019], ignore_index=1, axis=1)\n",
    "elos_2019.columns = concat_df_labels\n",
    "\n",
    "elos_2019\n"
   ]
  },
  {
   "cell_type": "code",
   "execution_count": 12,
   "metadata": {},
   "outputs": [],
   "source": [
    "\n",
    "for index, game_row in games_2019.iterrows():\n",
    "    # block1\n",
    "    game_day = game_row.date\n",
    "    home_score = game_row.home_pts\n",
    "    away_score = game_row.away_pts\n",
    "\n",
    "    if home_score > away_score:\n",
    "        home_win = 1\n",
    "    else:\n",
    "        home_win = 0\n",
    "\n",
    "    # print(game_day, home_score, away_score, home_win)\n",
    "\n",
    "    # block2\n",
    "    home_elo = [x for x in list(elos_2019[str(game_row.home_id)]) if x > 0][-1] + 100\n",
    "    away_elo = [x for x in list(elos_2019[str(game_row.away_id)]) if x > 0][-1]\n",
    "\n",
    "    # print(home_elo, away_elo)\n",
    "    # block3\n",
    "    if home_win == 1:\n",
    "        # HOME WIN FUNCTION\n",
    "        post_game_home_elo = round(post_elo_home_winner(home_elo, away_elo, home_score, away_score), 2)\n",
    "        post_game_away_elo = round(away_elo + ((home_elo - 100) - post_game_home_elo), 2)\n",
    "    elif home_win == 0:\n",
    "        # AWAY WIN FUNCTION\n",
    "        post_game_away_elo = round(post_elo_away_winner(away_elo, home_elo, away_score, home_score), 2)\n",
    "        post_game_home_elo = round((home_elo - 100) + (away_elo - post_game_away_elo), 2)\n",
    "\n",
    "    # print(post_game_home_elo, post_game_away_elo)\n",
    "    next_day = game_day + timedelta(days=1)\n",
    "    elos_2019.loc[list(elos_2019.DATE).index(next_day), str(game_row.home_id)] = post_game_home_elo\n",
    "    elos_2019.loc[list(elos_2019.DATE).index(next_day), str(game_row.away_id)] = post_game_away_elo\n"
   ]
  },
  {
   "cell_type": "code",
   "execution_count": 15,
   "metadata": {},
   "outputs": [
    {
     "output_type": "execute_result",
     "data": {
      "text/plain": [
       "          DATE  1610612749  1610612761  1610612755  1610612738  1610612754  \\\n",
       "0   2019-10-22     1651.41     1632.93     1574.50     1559.17     1551.66   \n",
       "1   2019-10-23     1651.41     1639.25     1574.50     1559.17     1551.66   \n",
       "2   2019-10-24     1651.41     1639.25     1591.59     1542.08     1543.61   \n",
       "3   2019-10-25     1655.29     1639.25     1591.59     1542.08     1543.61   \n",
       "4   2019-10-26     1655.29     1625.35     1591.59     1555.98     1543.61   \n",
       "..         ...         ...         ...         ...         ...         ...   \n",
       "352 2020-10-08     1626.96     1710.39     1510.45     1690.35     1522.07   \n",
       "353 2020-10-09     1626.96     1710.39     1510.45     1690.35     1522.07   \n",
       "354 2020-10-10     1626.96     1710.39     1510.45     1690.35     1522.07   \n",
       "355 2020-10-11     1626.96     1710.39     1510.45     1690.35     1522.07   \n",
       "356 2020-10-12     1626.96     1710.39     1510.45     1690.35     1522.07   \n",
       "\n",
       "     1610612751  1610612753  1610612765  1610612766  ...  1610612760  \\\n",
       "0       1508.08     1508.08     1500.93     1486.62  ...     1559.17   \n",
       "1       1508.08     1508.08     1500.93     1486.62  ...     1559.17   \n",
       "2       1504.84     1514.93     1508.98     1490.14  ...     1549.60   \n",
       "3       1504.84     1514.93     1494.46     1490.14  ...     1549.60   \n",
       "4       1508.86     1514.93     1494.46     1477.30  ...     1536.79   \n",
       "..          ...         ...         ...         ...  ...         ...   \n",
       "352     1483.01     1464.25     1333.44     1360.82  ...     1526.79   \n",
       "353     1483.01     1464.25     1333.44     1360.82  ...     1526.79   \n",
       "354     1483.01     1464.25     1333.44     1360.82  ...     1526.79   \n",
       "355     1483.01     1464.25     1333.44     1360.82  ...     1526.79   \n",
       "356     1483.01     1464.25     1333.44     1360.82  ...     1526.79   \n",
       "\n",
       "     1610612746  1610612759  1610612758  1610612747  1610612750  1610612742  \\\n",
       "0       1551.66     1551.66     1486.62     1472.21     1464.93     1442.63   \n",
       "1       1562.83     1551.66     1486.62     1461.04     1464.93     1442.63   \n",
       "2       1562.83     1556.75     1442.03     1461.04     1468.17     1454.98   \n",
       "3       1576.46     1556.75     1442.03     1461.04     1468.17     1454.98   \n",
       "4       1576.46     1556.75     1438.58     1479.28     1481.01     1460.14   \n",
       "..          ...         ...         ...         ...         ...         ...   \n",
       "352     1642.45     1512.80     1479.91     1699.16     1372.58     1526.92   \n",
       "353     1642.45     1512.80     1479.91     1699.16     1372.58     1526.92   \n",
       "354     1642.45     1512.80     1479.91     1694.26     1372.58     1526.92   \n",
       "355     1642.45     1512.80     1479.91     1694.26     1372.58     1526.92   \n",
       "356     1642.45     1512.80     1479.91     1700.58     1372.58     1526.92   \n",
       "\n",
       "     1610612763  1610612740  1610612756  \n",
       "0       1442.63     1442.63     1320.34  \n",
       "1       1442.63     1436.31     1320.34  \n",
       "2       1423.44     1436.31     1364.93  \n",
       "3       1423.44     1436.31     1364.93  \n",
       "4       1415.12     1431.15     1362.68  \n",
       "..          ...         ...         ...  \n",
       "352     1515.82     1498.60     1580.39  \n",
       "353     1515.82     1498.60     1580.39  \n",
       "354     1515.82     1498.60     1580.39  \n",
       "355     1515.82     1498.60     1580.39  \n",
       "356     1515.82     1498.60     1580.39  \n",
       "\n",
       "[357 rows x 31 columns]"
      ],
      "text/html": "<div>\n<style scoped>\n    .dataframe tbody tr th:only-of-type {\n        vertical-align: middle;\n    }\n\n    .dataframe tbody tr th {\n        vertical-align: top;\n    }\n\n    .dataframe thead th {\n        text-align: right;\n    }\n</style>\n<table border=\"1\" class=\"dataframe\">\n  <thead>\n    <tr style=\"text-align: right;\">\n      <th></th>\n      <th>DATE</th>\n      <th>1610612749</th>\n      <th>1610612761</th>\n      <th>1610612755</th>\n      <th>1610612738</th>\n      <th>1610612754</th>\n      <th>1610612751</th>\n      <th>1610612753</th>\n      <th>1610612765</th>\n      <th>1610612766</th>\n      <th>...</th>\n      <th>1610612760</th>\n      <th>1610612746</th>\n      <th>1610612759</th>\n      <th>1610612758</th>\n      <th>1610612747</th>\n      <th>1610612750</th>\n      <th>1610612742</th>\n      <th>1610612763</th>\n      <th>1610612740</th>\n      <th>1610612756</th>\n    </tr>\n  </thead>\n  <tbody>\n    <tr>\n      <th>0</th>\n      <td>2019-10-22</td>\n      <td>1651.41</td>\n      <td>1632.93</td>\n      <td>1574.50</td>\n      <td>1559.17</td>\n      <td>1551.66</td>\n      <td>1508.08</td>\n      <td>1508.08</td>\n      <td>1500.93</td>\n      <td>1486.62</td>\n      <td>...</td>\n      <td>1559.17</td>\n      <td>1551.66</td>\n      <td>1551.66</td>\n      <td>1486.62</td>\n      <td>1472.21</td>\n      <td>1464.93</td>\n      <td>1442.63</td>\n      <td>1442.63</td>\n      <td>1442.63</td>\n      <td>1320.34</td>\n    </tr>\n    <tr>\n      <th>1</th>\n      <td>2019-10-23</td>\n      <td>1651.41</td>\n      <td>1639.25</td>\n      <td>1574.50</td>\n      <td>1559.17</td>\n      <td>1551.66</td>\n      <td>1508.08</td>\n      <td>1508.08</td>\n      <td>1500.93</td>\n      <td>1486.62</td>\n      <td>...</td>\n      <td>1559.17</td>\n      <td>1562.83</td>\n      <td>1551.66</td>\n      <td>1486.62</td>\n      <td>1461.04</td>\n      <td>1464.93</td>\n      <td>1442.63</td>\n      <td>1442.63</td>\n      <td>1436.31</td>\n      <td>1320.34</td>\n    </tr>\n    <tr>\n      <th>2</th>\n      <td>2019-10-24</td>\n      <td>1651.41</td>\n      <td>1639.25</td>\n      <td>1591.59</td>\n      <td>1542.08</td>\n      <td>1543.61</td>\n      <td>1504.84</td>\n      <td>1514.93</td>\n      <td>1508.98</td>\n      <td>1490.14</td>\n      <td>...</td>\n      <td>1549.60</td>\n      <td>1562.83</td>\n      <td>1556.75</td>\n      <td>1442.03</td>\n      <td>1461.04</td>\n      <td>1468.17</td>\n      <td>1454.98</td>\n      <td>1423.44</td>\n      <td>1436.31</td>\n      <td>1364.93</td>\n    </tr>\n    <tr>\n      <th>3</th>\n      <td>2019-10-25</td>\n      <td>1655.29</td>\n      <td>1639.25</td>\n      <td>1591.59</td>\n      <td>1542.08</td>\n      <td>1543.61</td>\n      <td>1504.84</td>\n      <td>1514.93</td>\n      <td>1494.46</td>\n      <td>1490.14</td>\n      <td>...</td>\n      <td>1549.60</td>\n      <td>1576.46</td>\n      <td>1556.75</td>\n      <td>1442.03</td>\n      <td>1461.04</td>\n      <td>1468.17</td>\n      <td>1454.98</td>\n      <td>1423.44</td>\n      <td>1436.31</td>\n      <td>1364.93</td>\n    </tr>\n    <tr>\n      <th>4</th>\n      <td>2019-10-26</td>\n      <td>1655.29</td>\n      <td>1625.35</td>\n      <td>1591.59</td>\n      <td>1555.98</td>\n      <td>1543.61</td>\n      <td>1508.86</td>\n      <td>1514.93</td>\n      <td>1494.46</td>\n      <td>1477.30</td>\n      <td>...</td>\n      <td>1536.79</td>\n      <td>1576.46</td>\n      <td>1556.75</td>\n      <td>1438.58</td>\n      <td>1479.28</td>\n      <td>1481.01</td>\n      <td>1460.14</td>\n      <td>1415.12</td>\n      <td>1431.15</td>\n      <td>1362.68</td>\n    </tr>\n    <tr>\n      <th>...</th>\n      <td>...</td>\n      <td>...</td>\n      <td>...</td>\n      <td>...</td>\n      <td>...</td>\n      <td>...</td>\n      <td>...</td>\n      <td>...</td>\n      <td>...</td>\n      <td>...</td>\n      <td>...</td>\n      <td>...</td>\n      <td>...</td>\n      <td>...</td>\n      <td>...</td>\n      <td>...</td>\n      <td>...</td>\n      <td>...</td>\n      <td>...</td>\n      <td>...</td>\n      <td>...</td>\n    </tr>\n    <tr>\n      <th>352</th>\n      <td>2020-10-08</td>\n      <td>1626.96</td>\n      <td>1710.39</td>\n      <td>1510.45</td>\n      <td>1690.35</td>\n      <td>1522.07</td>\n      <td>1483.01</td>\n      <td>1464.25</td>\n      <td>1333.44</td>\n      <td>1360.82</td>\n      <td>...</td>\n      <td>1526.79</td>\n      <td>1642.45</td>\n      <td>1512.80</td>\n      <td>1479.91</td>\n      <td>1699.16</td>\n      <td>1372.58</td>\n      <td>1526.92</td>\n      <td>1515.82</td>\n      <td>1498.60</td>\n      <td>1580.39</td>\n    </tr>\n    <tr>\n      <th>353</th>\n      <td>2020-10-09</td>\n      <td>1626.96</td>\n      <td>1710.39</td>\n      <td>1510.45</td>\n      <td>1690.35</td>\n      <td>1522.07</td>\n      <td>1483.01</td>\n      <td>1464.25</td>\n      <td>1333.44</td>\n      <td>1360.82</td>\n      <td>...</td>\n      <td>1526.79</td>\n      <td>1642.45</td>\n      <td>1512.80</td>\n      <td>1479.91</td>\n      <td>1699.16</td>\n      <td>1372.58</td>\n      <td>1526.92</td>\n      <td>1515.82</td>\n      <td>1498.60</td>\n      <td>1580.39</td>\n    </tr>\n    <tr>\n      <th>354</th>\n      <td>2020-10-10</td>\n      <td>1626.96</td>\n      <td>1710.39</td>\n      <td>1510.45</td>\n      <td>1690.35</td>\n      <td>1522.07</td>\n      <td>1483.01</td>\n      <td>1464.25</td>\n      <td>1333.44</td>\n      <td>1360.82</td>\n      <td>...</td>\n      <td>1526.79</td>\n      <td>1642.45</td>\n      <td>1512.80</td>\n      <td>1479.91</td>\n      <td>1694.26</td>\n      <td>1372.58</td>\n      <td>1526.92</td>\n      <td>1515.82</td>\n      <td>1498.60</td>\n      <td>1580.39</td>\n    </tr>\n    <tr>\n      <th>355</th>\n      <td>2020-10-11</td>\n      <td>1626.96</td>\n      <td>1710.39</td>\n      <td>1510.45</td>\n      <td>1690.35</td>\n      <td>1522.07</td>\n      <td>1483.01</td>\n      <td>1464.25</td>\n      <td>1333.44</td>\n      <td>1360.82</td>\n      <td>...</td>\n      <td>1526.79</td>\n      <td>1642.45</td>\n      <td>1512.80</td>\n      <td>1479.91</td>\n      <td>1694.26</td>\n      <td>1372.58</td>\n      <td>1526.92</td>\n      <td>1515.82</td>\n      <td>1498.60</td>\n      <td>1580.39</td>\n    </tr>\n    <tr>\n      <th>356</th>\n      <td>2020-10-12</td>\n      <td>1626.96</td>\n      <td>1710.39</td>\n      <td>1510.45</td>\n      <td>1690.35</td>\n      <td>1522.07</td>\n      <td>1483.01</td>\n      <td>1464.25</td>\n      <td>1333.44</td>\n      <td>1360.82</td>\n      <td>...</td>\n      <td>1526.79</td>\n      <td>1642.45</td>\n      <td>1512.80</td>\n      <td>1479.91</td>\n      <td>1700.58</td>\n      <td>1372.58</td>\n      <td>1526.92</td>\n      <td>1515.82</td>\n      <td>1498.60</td>\n      <td>1580.39</td>\n    </tr>\n  </tbody>\n</table>\n<p>357 rows × 31 columns</p>\n</div>"
     },
     "metadata": {},
     "execution_count": 15
    }
   ],
   "source": [
    "elos_2019 = elos_2019.ffill(axis = 0)\n",
    "elos_2019"
   ]
  },
  {
   "cell_type": "code",
   "execution_count": 22,
   "metadata": {},
   "outputs": [
    {
     "output_type": "execute_result",
     "data": {
      "text/plain": [
       "(['DATE',\n",
       "  '1610612749',\n",
       "  '1610612761',\n",
       "  '1610612755',\n",
       "  '1610612738',\n",
       "  '1610612754',\n",
       "  '1610612751',\n",
       "  '1610612753',\n",
       "  '1610612765',\n",
       "  '1610612766',\n",
       "  '1610612748',\n",
       "  '1610612764',\n",
       "  '1610612737',\n",
       "  '1610612741',\n",
       "  '1610612739',\n",
       "  '1610612752',\n",
       "  '1610612744',\n",
       "  '1610612743',\n",
       "  '1610612745',\n",
       "  '1610612757',\n",
       "  '1610612762',\n",
       "  '1610612760',\n",
       "  '1610612746',\n",
       "  '1610612759',\n",
       "  '1610612758',\n",
       "  '1610612747',\n",
       "  '1610612750',\n",
       "  '1610612742',\n",
       "  '1610612763',\n",
       "  '1610612740',\n",
       "  '1610612756'],\n",
       " [Timestamp('2020-10-12 00:00:00'),\n",
       "  1626.96,\n",
       "  1710.39,\n",
       "  1510.45,\n",
       "  1690.35,\n",
       "  1522.07,\n",
       "  1483.01,\n",
       "  1464.25,\n",
       "  1333.44,\n",
       "  1360.82,\n",
       "  1632.54,\n",
       "  1364.76,\n",
       "  1357.67,\n",
       "  1345.09,\n",
       "  1345.11,\n",
       "  1335.26,\n",
       "  1347.12,\n",
       "  1571.9,\n",
       "  1548.83,\n",
       "  1508.9,\n",
       "  1564.62,\n",
       "  1526.79,\n",
       "  1642.45,\n",
       "  1512.8,\n",
       "  1479.91,\n",
       "  1700.58,\n",
       "  1372.58,\n",
       "  1526.92,\n",
       "  1515.82,\n",
       "  1498.6,\n",
       "  1580.39])"
      ]
     },
     "metadata": {},
     "execution_count": 22
    }
   ],
   "source": [
    "list(elos_2019), list(elos_2019.iloc[-1])"
   ]
  },
  {
   "cell_type": "code",
   "execution_count": null,
   "metadata": {},
   "outputs": [],
   "source": []
  }
 ]
}