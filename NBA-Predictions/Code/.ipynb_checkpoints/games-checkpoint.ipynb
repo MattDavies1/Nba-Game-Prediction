{
 "cells": [
  {
   "cell_type": "code",
   "execution_count": 2,
   "metadata": {},
   "outputs": [],
   "source": [
    "import pandas as pd\n",
    "from nbapy import game, shot_chart, player, scoreboard, team\n",
    "import datetime"
   ]
  },
  {
   "cell_type": "code",
   "execution_count": null,
   "metadata": {},
   "outputs": [],
   "source": []
  },
  {
   "cell_type": "code",
   "execution_count": 3,
   "metadata": {},
   "outputs": [],
   "source": [
    "def datascrape(start):\n",
    "    start = datetime.datetime.strptime(start, \"%d-%m-%Y\")\n",
    "    #end = datetime.datetime.strptime(\"21-07-2014\", \"%d-%m-%Y\")\n",
    "    end = datetime.datetime.today()\n",
    "    dates = [start + datetime.timedelta(days=x) for x in range(0, (end-start).days)]\n",
    "    df = pd.DataFrame({\"date\": dates})\n",
    "    df[\"date\"] = df[\"date\"].astype(str)\n",
    "    df[['Year', 'Month', \"Day\"]] = df[\"date\"].str.split('-', 2, expand=True)\n",
    "    df[\"Month\"] = df[\"Month\"].str.lstrip('0')\n",
    "    df[\"Day\"] = df[\"Day\"].str.lstrip('0')\n",
    "    \n",
    "    #to limit to five\n",
    "    #df = df.head()\n",
    "    dates = []\n",
    "    for i, row in df.iterrows():\n",
    "        day = {}\n",
    "        day[\"year\"] = row[\"Year\"]\n",
    "        day[\"month\"] = row[\"Month\"]\n",
    "        day[\"day\"] = row[\"Day\"]\n",
    "        dates.append(day)\n",
    "    \n",
    "    init = pd.DataFrame({\n",
    "    \"GAME_DATE_EST_x\": [],\n",
    "    \"GAME_ID\": [],\n",
    "    \"TEAM_ABBREVIATION_x\": [],\n",
    "    \"TEAM_ABBREVIATION_y\": [],\n",
    "    \"PTS_x\": [],\n",
    "    \"PTS_y\": []\n",
    "    })\n",
    "    \n",
    "    for date in dates:\n",
    "        scores = scoreboard.Scoreboard(month=int(date[\"month\"]), day=int(date[\"day\"]), year=int(date[\"year\"]), league_id='00', offset=0)\n",
    "        df = scores.line_score()\n",
    "        if df.empty:\n",
    "            pass\n",
    "        else:\n",
    "            df_1 = df.drop_duplicates(subset=['GAME_ID'], keep='first')\n",
    "            df_2 = df.drop_duplicates(subset=['GAME_ID'], keep='last')\n",
    "            merged = df_1.merge(df_2, on=[\"GAME_ID\"])                                                                              #FG_PCT\tFT_PCT\tFG3_PCT\tAST\tREB\tTOV\n",
    "            merge = merged[[\"GAME_DATE_EST_x\", \"GAME_ID\", \"TEAM_ABBREVIATION_x\", \"TEAM_ID_x\", \"TEAM_ID_y\", \"TEAM_ABBREVIATION_y\", \"PTS_x\", \"PTS_y\", \"FG_PCT_x\", \"FG_PCT_y\", \"FT_PCT_x\", \"FT_PCT_y\", \"FG3_PCT_x\", \"FG3_PCT_y\", \"AST_x\", \"AST_y\", \"REB_x\", \"REB_y\", \"TOV_x\", \"TOV_y\"]]\n",
    "            init = pd.concat([init, merge], sort=True)\n",
    "    \n",
    "    return init"
   ]
  },
  {
   "cell_type": "code",
   "execution_count": 4,
   "metadata": {
    "scrolled": true
   },
   "outputs": [],
   "source": [
    "df = datascrape(\"01-01-2021\")"
   ]
  },
  {
   "cell_type": "code",
   "execution_count": 5,
   "metadata": {},
   "outputs": [],
   "source": [
    "#Rename columns\n",
    "df = df.rename(columns={\n",
    "            \"GAME_DATE_EST_x\": \"date\",\n",
    "            \"GAME_ID\": \"game_id\",\n",
    "            \"TEAM_ABBREVIATION_x\": \"away\",\n",
    "            \"TEAM_ABBREVIATION_y\": \"home\",\n",
    "            \"TEAM_ID_x\": \"away_id\",\n",
    "            \"TEAM_ID_y\": \"home_id\",\n",
    "            \"PTS_x\": \"away_pts\",\n",
    "            \"PTS_y\": \"home_pts\",\n",
    "            \"FG_PCT_x\": \"away_fg\",\n",
    "            \"FG_PCT_y\": \"home_fg\",\n",
    "            \"FT_PCT_x\": \"away_ft\",\n",
    "            \"FT_PCT_y\": \"home_ft\",\n",
    "            \"FG3_PCT_x\": \"away_fg3\",\n",
    "            \"FG3_PCT_y\": \"home_fg3\",\n",
    "            \"AST_x\": \"away_ast\",\n",
    "            \"AST_y\": \"home_ast\",\n",
    "            \"REB_x\": \"away_reb\",\n",
    "            \"REB_y\": \"home_reb\",\n",
    "            \"TOV_x\": \"away_tov\",\n",
    "            \"TOV_y\": \"home_tov\",\n",
    "            })\n",
    "\n",
    "df = df[[\"game_id\", \"date\", \"away\", \"home\",\"away_id\", \"home_id\",\"away_pts\",\"home_pts\", \"away_fg\",\"home_fg\", \"away_ft\",\n",
    "         \"home_ft\", \"away_fg3\", \"home_fg3\",\"away_ast\", \"home_ast\", \"away_reb\", \"home_reb\", \"away_tov\",\"home_tov\"]]"
   ]
  },
  {
   "cell_type": "code",
   "execution_count": 6,
   "metadata": {},
   "outputs": [],
   "source": [
    "#Add catagorical for win\n",
    "df.loc[df[\"home_pts\"] > df[\"away_pts\"], \"home_win\"] = 1\n",
    "df.loc[df[\"home_pts\"] < df[\"away_pts\"], \"home_win\"] = 0"
   ]
  },
  {
   "cell_type": "code",
   "execution_count": 7,
   "metadata": {},
   "outputs": [],
   "source": [
    "#Remove time\n",
    "df[\"date\"] = df[\"date\"].str.replace(\"T00:00:00\", \"\")"
   ]
  },
  {
   "cell_type": "code",
   "execution_count": 8,
   "metadata": {},
   "outputs": [],
   "source": [
    "df = df.reset_index(drop=True).dropna()"
   ]
  },
  {
   "cell_type": "code",
   "execution_count": 9,
   "metadata": {},
   "outputs": [
    {
     "data": {
      "text/html": [
       "<div>\n",
       "<style scoped>\n",
       "    .dataframe tbody tr th:only-of-type {\n",
       "        vertical-align: middle;\n",
       "    }\n",
       "\n",
       "    .dataframe tbody tr th {\n",
       "        vertical-align: top;\n",
       "    }\n",
       "\n",
       "    .dataframe thead th {\n",
       "        text-align: right;\n",
       "    }\n",
       "</style>\n",
       "<table border=\"1\" class=\"dataframe\">\n",
       "  <thead>\n",
       "    <tr style=\"text-align: right;\">\n",
       "      <th></th>\n",
       "      <th>game_id</th>\n",
       "      <th>date</th>\n",
       "      <th>away</th>\n",
       "      <th>home</th>\n",
       "      <th>away_id</th>\n",
       "      <th>home_id</th>\n",
       "      <th>away_pts</th>\n",
       "      <th>home_pts</th>\n",
       "      <th>away_fg</th>\n",
       "      <th>home_fg</th>\n",
       "      <th>...</th>\n",
       "      <th>home_ft</th>\n",
       "      <th>away_fg3</th>\n",
       "      <th>home_fg3</th>\n",
       "      <th>away_ast</th>\n",
       "      <th>home_ast</th>\n",
       "      <th>away_reb</th>\n",
       "      <th>home_reb</th>\n",
       "      <th>away_tov</th>\n",
       "      <th>home_tov</th>\n",
       "      <th>home_win</th>\n",
       "    </tr>\n",
       "  </thead>\n",
       "  <tbody>\n",
       "    <tr>\n",
       "      <th>0</th>\n",
       "      <td>0022000069</td>\n",
       "      <td>2021-01-01</td>\n",
       "      <td>MEM</td>\n",
       "      <td>CHA</td>\n",
       "      <td>1.610613e+09</td>\n",
       "      <td>1.610613e+09</td>\n",
       "      <td>108.0</td>\n",
       "      <td>93.0</td>\n",
       "      <td>0.478</td>\n",
       "      <td>0.407</td>\n",
       "      <td>...</td>\n",
       "      <td>0.667</td>\n",
       "      <td>0.359</td>\n",
       "      <td>0.290</td>\n",
       "      <td>34.0</td>\n",
       "      <td>23.0</td>\n",
       "      <td>48.0</td>\n",
       "      <td>42.0</td>\n",
       "      <td>15.0</td>\n",
       "      <td>18.0</td>\n",
       "      <td>0.0</td>\n",
       "    </tr>\n",
       "    <tr>\n",
       "      <th>1</th>\n",
       "      <td>0022000070</td>\n",
       "      <td>2021-01-01</td>\n",
       "      <td>BOS</td>\n",
       "      <td>DET</td>\n",
       "      <td>1.610613e+09</td>\n",
       "      <td>1.610613e+09</td>\n",
       "      <td>93.0</td>\n",
       "      <td>96.0</td>\n",
       "      <td>0.470</td>\n",
       "      <td>0.409</td>\n",
       "      <td>...</td>\n",
       "      <td>0.650</td>\n",
       "      <td>0.258</td>\n",
       "      <td>0.324</td>\n",
       "      <td>20.0</td>\n",
       "      <td>18.0</td>\n",
       "      <td>44.0</td>\n",
       "      <td>48.0</td>\n",
       "      <td>19.0</td>\n",
       "      <td>19.0</td>\n",
       "      <td>1.0</td>\n",
       "    </tr>\n",
       "    <tr>\n",
       "      <th>2</th>\n",
       "      <td>0022000071</td>\n",
       "      <td>2021-01-01</td>\n",
       "      <td>MIA</td>\n",
       "      <td>DAL</td>\n",
       "      <td>1.610613e+09</td>\n",
       "      <td>1.610613e+09</td>\n",
       "      <td>83.0</td>\n",
       "      <td>93.0</td>\n",
       "      <td>0.372</td>\n",
       "      <td>0.410</td>\n",
       "      <td>...</td>\n",
       "      <td>0.739</td>\n",
       "      <td>0.212</td>\n",
       "      <td>0.324</td>\n",
       "      <td>20.0</td>\n",
       "      <td>18.0</td>\n",
       "      <td>41.0</td>\n",
       "      <td>49.0</td>\n",
       "      <td>14.0</td>\n",
       "      <td>16.0</td>\n",
       "      <td>1.0</td>\n",
       "    </tr>\n",
       "    <tr>\n",
       "      <th>3</th>\n",
       "      <td>0022000072</td>\n",
       "      <td>2021-01-01</td>\n",
       "      <td>ATL</td>\n",
       "      <td>BKN</td>\n",
       "      <td>1.610613e+09</td>\n",
       "      <td>1.610613e+09</td>\n",
       "      <td>114.0</td>\n",
       "      <td>96.0</td>\n",
       "      <td>0.462</td>\n",
       "      <td>0.407</td>\n",
       "      <td>...</td>\n",
       "      <td>0.826</td>\n",
       "      <td>0.410</td>\n",
       "      <td>0.189</td>\n",
       "      <td>24.0</td>\n",
       "      <td>19.0</td>\n",
       "      <td>48.0</td>\n",
       "      <td>45.0</td>\n",
       "      <td>9.0</td>\n",
       "      <td>15.0</td>\n",
       "      <td>0.0</td>\n",
       "    </tr>\n",
       "    <tr>\n",
       "      <th>4</th>\n",
       "      <td>0022000073</td>\n",
       "      <td>2021-01-01</td>\n",
       "      <td>CHI</td>\n",
       "      <td>MIL</td>\n",
       "      <td>1.610613e+09</td>\n",
       "      <td>1.610613e+09</td>\n",
       "      <td>96.0</td>\n",
       "      <td>126.0</td>\n",
       "      <td>0.437</td>\n",
       "      <td>0.494</td>\n",
       "      <td>...</td>\n",
       "      <td>0.667</td>\n",
       "      <td>0.231</td>\n",
       "      <td>0.489</td>\n",
       "      <td>18.0</td>\n",
       "      <td>27.0</td>\n",
       "      <td>42.0</td>\n",
       "      <td>44.0</td>\n",
       "      <td>20.0</td>\n",
       "      <td>17.0</td>\n",
       "      <td>1.0</td>\n",
       "    </tr>\n",
       "    <tr>\n",
       "      <th>...</th>\n",
       "      <td>...</td>\n",
       "      <td>...</td>\n",
       "      <td>...</td>\n",
       "      <td>...</td>\n",
       "      <td>...</td>\n",
       "      <td>...</td>\n",
       "      <td>...</td>\n",
       "      <td>...</td>\n",
       "      <td>...</td>\n",
       "      <td>...</td>\n",
       "      <td>...</td>\n",
       "      <td>...</td>\n",
       "      <td>...</td>\n",
       "      <td>...</td>\n",
       "      <td>...</td>\n",
       "      <td>...</td>\n",
       "      <td>...</td>\n",
       "      <td>...</td>\n",
       "      <td>...</td>\n",
       "      <td>...</td>\n",
       "      <td>...</td>\n",
       "    </tr>\n",
       "    <tr>\n",
       "      <th>500</th>\n",
       "      <td>0022000597</td>\n",
       "      <td>2021-03-14</td>\n",
       "      <td>CLE</td>\n",
       "      <td>ATL</td>\n",
       "      <td>1.610613e+09</td>\n",
       "      <td>1.610613e+09</td>\n",
       "      <td>82.0</td>\n",
       "      <td>100.0</td>\n",
       "      <td>0.383</td>\n",
       "      <td>0.451</td>\n",
       "      <td>...</td>\n",
       "      <td>0.923</td>\n",
       "      <td>0.267</td>\n",
       "      <td>0.414</td>\n",
       "      <td>19.0</td>\n",
       "      <td>21.0</td>\n",
       "      <td>34.0</td>\n",
       "      <td>49.0</td>\n",
       "      <td>13.0</td>\n",
       "      <td>15.0</td>\n",
       "      <td>1.0</td>\n",
       "    </tr>\n",
       "    <tr>\n",
       "      <th>501</th>\n",
       "      <td>0022000598</td>\n",
       "      <td>2021-03-14</td>\n",
       "      <td>BOS</td>\n",
       "      <td>HOU</td>\n",
       "      <td>1.610613e+09</td>\n",
       "      <td>1.610613e+09</td>\n",
       "      <td>134.0</td>\n",
       "      <td>107.0</td>\n",
       "      <td>0.554</td>\n",
       "      <td>0.385</td>\n",
       "      <td>...</td>\n",
       "      <td>0.677</td>\n",
       "      <td>0.486</td>\n",
       "      <td>0.320</td>\n",
       "      <td>29.0</td>\n",
       "      <td>23.0</td>\n",
       "      <td>55.0</td>\n",
       "      <td>37.0</td>\n",
       "      <td>14.0</td>\n",
       "      <td>11.0</td>\n",
       "      <td>0.0</td>\n",
       "    </tr>\n",
       "    <tr>\n",
       "      <th>502</th>\n",
       "      <td>0022000599</td>\n",
       "      <td>2021-03-14</td>\n",
       "      <td>POR</td>\n",
       "      <td>MIN</td>\n",
       "      <td>1.610613e+09</td>\n",
       "      <td>1.610613e+09</td>\n",
       "      <td>112.0</td>\n",
       "      <td>114.0</td>\n",
       "      <td>0.438</td>\n",
       "      <td>0.493</td>\n",
       "      <td>...</td>\n",
       "      <td>0.744</td>\n",
       "      <td>0.378</td>\n",
       "      <td>0.342</td>\n",
       "      <td>22.0</td>\n",
       "      <td>24.0</td>\n",
       "      <td>42.0</td>\n",
       "      <td>45.0</td>\n",
       "      <td>11.0</td>\n",
       "      <td>12.0</td>\n",
       "      <td>1.0</td>\n",
       "    </tr>\n",
       "    <tr>\n",
       "      <th>503</th>\n",
       "      <td>0022000600</td>\n",
       "      <td>2021-03-14</td>\n",
       "      <td>TOR</td>\n",
       "      <td>CHI</td>\n",
       "      <td>1.610613e+09</td>\n",
       "      <td>1.610613e+09</td>\n",
       "      <td>95.0</td>\n",
       "      <td>118.0</td>\n",
       "      <td>0.378</td>\n",
       "      <td>0.454</td>\n",
       "      <td>...</td>\n",
       "      <td>0.783</td>\n",
       "      <td>0.267</td>\n",
       "      <td>0.273</td>\n",
       "      <td>23.0</td>\n",
       "      <td>35.0</td>\n",
       "      <td>38.0</td>\n",
       "      <td>60.0</td>\n",
       "      <td>12.0</td>\n",
       "      <td>11.0</td>\n",
       "      <td>1.0</td>\n",
       "    </tr>\n",
       "    <tr>\n",
       "      <th>504</th>\n",
       "      <td>0022000601</td>\n",
       "      <td>2021-03-14</td>\n",
       "      <td>LAC</td>\n",
       "      <td>NOP</td>\n",
       "      <td>1.610613e+09</td>\n",
       "      <td>1.610613e+09</td>\n",
       "      <td>115.0</td>\n",
       "      <td>135.0</td>\n",
       "      <td>0.457</td>\n",
       "      <td>0.654</td>\n",
       "      <td>...</td>\n",
       "      <td>0.810</td>\n",
       "      <td>0.349</td>\n",
       "      <td>0.462</td>\n",
       "      <td>23.0</td>\n",
       "      <td>38.0</td>\n",
       "      <td>32.0</td>\n",
       "      <td>40.0</td>\n",
       "      <td>12.0</td>\n",
       "      <td>18.0</td>\n",
       "      <td>1.0</td>\n",
       "    </tr>\n",
       "  </tbody>\n",
       "</table>\n",
       "<p>504 rows × 21 columns</p>\n",
       "</div>"
      ],
      "text/plain": [
       "        game_id        date away home       away_id       home_id  away_pts  \\\n",
       "0    0022000069  2021-01-01  MEM  CHA  1.610613e+09  1.610613e+09     108.0   \n",
       "1    0022000070  2021-01-01  BOS  DET  1.610613e+09  1.610613e+09      93.0   \n",
       "2    0022000071  2021-01-01  MIA  DAL  1.610613e+09  1.610613e+09      83.0   \n",
       "3    0022000072  2021-01-01  ATL  BKN  1.610613e+09  1.610613e+09     114.0   \n",
       "4    0022000073  2021-01-01  CHI  MIL  1.610613e+09  1.610613e+09      96.0   \n",
       "..          ...         ...  ...  ...           ...           ...       ...   \n",
       "500  0022000597  2021-03-14  CLE  ATL  1.610613e+09  1.610613e+09      82.0   \n",
       "501  0022000598  2021-03-14  BOS  HOU  1.610613e+09  1.610613e+09     134.0   \n",
       "502  0022000599  2021-03-14  POR  MIN  1.610613e+09  1.610613e+09     112.0   \n",
       "503  0022000600  2021-03-14  TOR  CHI  1.610613e+09  1.610613e+09      95.0   \n",
       "504  0022000601  2021-03-14  LAC  NOP  1.610613e+09  1.610613e+09     115.0   \n",
       "\n",
       "     home_pts  away_fg  home_fg  ...  home_ft  away_fg3  home_fg3  away_ast  \\\n",
       "0        93.0    0.478    0.407  ...    0.667     0.359     0.290      34.0   \n",
       "1        96.0    0.470    0.409  ...    0.650     0.258     0.324      20.0   \n",
       "2        93.0    0.372    0.410  ...    0.739     0.212     0.324      20.0   \n",
       "3        96.0    0.462    0.407  ...    0.826     0.410     0.189      24.0   \n",
       "4       126.0    0.437    0.494  ...    0.667     0.231     0.489      18.0   \n",
       "..        ...      ...      ...  ...      ...       ...       ...       ...   \n",
       "500     100.0    0.383    0.451  ...    0.923     0.267     0.414      19.0   \n",
       "501     107.0    0.554    0.385  ...    0.677     0.486     0.320      29.0   \n",
       "502     114.0    0.438    0.493  ...    0.744     0.378     0.342      22.0   \n",
       "503     118.0    0.378    0.454  ...    0.783     0.267     0.273      23.0   \n",
       "504     135.0    0.457    0.654  ...    0.810     0.349     0.462      23.0   \n",
       "\n",
       "     home_ast  away_reb  home_reb  away_tov  home_tov  home_win  \n",
       "0        23.0      48.0      42.0      15.0      18.0       0.0  \n",
       "1        18.0      44.0      48.0      19.0      19.0       1.0  \n",
       "2        18.0      41.0      49.0      14.0      16.0       1.0  \n",
       "3        19.0      48.0      45.0       9.0      15.0       0.0  \n",
       "4        27.0      42.0      44.0      20.0      17.0       1.0  \n",
       "..        ...       ...       ...       ...       ...       ...  \n",
       "500      21.0      34.0      49.0      13.0      15.0       1.0  \n",
       "501      23.0      55.0      37.0      14.0      11.0       0.0  \n",
       "502      24.0      42.0      45.0      11.0      12.0       1.0  \n",
       "503      35.0      38.0      60.0      12.0      11.0       1.0  \n",
       "504      38.0      32.0      40.0      12.0      18.0       1.0  \n",
       "\n",
       "[504 rows x 21 columns]"
      ]
     },
     "execution_count": 9,
     "metadata": {},
     "output_type": "execute_result"
    }
   ],
   "source": [
    "df"
   ]
  },
  {
   "cell_type": "code",
   "execution_count": 10,
   "metadata": {},
   "outputs": [
    {
     "name": "stdout",
     "output_type": "stream",
     "text": [
      "(504, 12) (504,)\n"
     ]
    }
   ],
   "source": [
    "# Assign X (data) and y (target)\n",
    "X = df[[\"away_fg\",\"home_fg\", \"away_ft\", \"home_ft\", \"away_fg3\", \"home_fg3\",\"away_ast\", \"home_ast\", \"away_reb\", \"home_reb\", \"away_tov\",\"home_tov\"]]\n",
    "y = df[\"home_win\"]\n",
    "feature_names = X.columns\n",
    "print(X.shape, y.shape)"
   ]
  },
  {
   "cell_type": "code",
   "execution_count": 11,
   "metadata": {},
   "outputs": [],
   "source": [
    "from sklearn.model_selection import train_test_split\n",
    "\n",
    "X_train, X_test, y_train, y_test = train_test_split(X, y, random_state=42)"
   ]
  },
  {
   "cell_type": "code",
   "execution_count": 12,
   "metadata": {},
   "outputs": [
    {
     "data": {
      "text/plain": [
       "0.7857142857142857"
      ]
     },
     "execution_count": 12,
     "metadata": {},
     "output_type": "execute_result"
    }
   ],
   "source": [
    "from sklearn import tree\n",
    "clf = tree.DecisionTreeClassifier()\n",
    "clf = clf.fit(X_train, y_train)\n",
    "clf.score(X_test, y_test)"
   ]
  },
  {
   "cell_type": "code",
   "execution_count": 31,
   "metadata": {},
   "outputs": [
    {
     "data": {
      "text/plain": [
       "0.8650793650793651"
      ]
     },
     "execution_count": 31,
     "metadata": {},
     "output_type": "execute_result"
    }
   ],
   "source": [
    "from sklearn.ensemble import RandomForestClassifier\n",
    "rf = RandomForestClassifier(n_estimators=200)\n",
    "rf = rf.fit(X_train, y_train)\n",
    "rf.score(X_test, y_test)"
   ]
  },
  {
   "cell_type": "code",
   "execution_count": 32,
   "metadata": {},
   "outputs": [
    {
     "data": {
      "text/plain": [
       "array([1., 0., 1., 0., 1., 0., 0., 1., 0., 1., 0., 0., 1., 1., 1., 0., 0.,\n",
       "       1., 1., 0., 1., 1., 1., 1., 1., 1., 1., 0., 0., 1., 1., 1., 1., 1.,\n",
       "       1., 0., 1., 1., 1., 0., 0., 0., 0., 1., 0., 1., 1., 1., 1., 0., 0.,\n",
       "       0., 0., 0., 0., 0., 0., 1., 1., 1., 0., 1., 0., 0., 1., 1., 1., 1.,\n",
       "       1., 0., 1., 1., 0., 0., 1., 1., 1., 0., 0., 0., 1., 1., 0., 1., 0.,\n",
       "       1., 1., 0., 0., 0., 0., 1., 1., 1., 0., 1., 1., 1., 1., 0., 1., 0.,\n",
       "       0., 1., 1., 0., 0., 0., 1., 0., 0., 0., 1., 1., 0., 1., 1., 1., 1.,\n",
       "       1., 0., 0., 1., 0., 0., 1.])"
      ]
     },
     "execution_count": 32,
     "metadata": {},
     "output_type": "execute_result"
    }
   ],
   "source": [
    "predictions = rf.predict(X_test)\n",
    "predictions"
   ]
  },
  {
   "cell_type": "code",
   "execution_count": 33,
   "metadata": {},
   "outputs": [
    {
     "data": {
      "text/plain": [
       "173    1.0\n",
       "274    0.0\n",
       "490    1.0\n",
       "72     0.0\n",
       "305    1.0\n",
       "      ... \n",
       "250    0.0\n",
       "417    1.0\n",
       "117    0.0\n",
       "42     0.0\n",
       "321    1.0\n",
       "Name: home_win, Length: 126, dtype: float64"
      ]
     },
     "execution_count": 33,
     "metadata": {},
     "output_type": "execute_result"
    }
   ],
   "source": [
    "y_test"
   ]
  },
  {
   "cell_type": "code",
   "execution_count": 34,
   "metadata": {},
   "outputs": [],
   "source": [
    "score_df = pd.DataFrame({\"Prediction\": predictions, \"Actual\": y_test}).reset_index(drop=True)"
   ]
  },
  {
   "cell_type": "code",
   "execution_count": 35,
   "metadata": {},
   "outputs": [],
   "source": [
    "score_df.loc[score_df[\"Prediction\"] == score_df[\"Actual\"], \"Correct\"] = 1"
   ]
  },
  {
   "cell_type": "code",
   "execution_count": 42,
   "metadata": {},
   "outputs": [
    {
     "name": "stdout",
     "output_type": "stream",
     "text": [
      "109.0 126\n"
     ]
    }
   ],
   "source": [
    "print(score_df[\"Correct\"].sum(), len(score_df))"
   ]
  },
  {
   "cell_type": "code",
   "execution_count": 14,
   "metadata": {},
   "outputs": [
    {
     "data": {
      "text/plain": [
       "[(0.1943579753596666, 'away_fg'),\n",
       " (0.18774140307251078, 'home_fg'),\n",
       " (0.1087111628446921, 'home_fg3'),\n",
       " (0.10308163767730465, 'away_fg3'),\n",
       " (0.07020610738584772, 'away_reb'),\n",
       " (0.06380635797248203, 'away_ast'),\n",
       " (0.050003876030800434, 'home_reb'),\n",
       " (0.04942160858459792, 'home_ast'),\n",
       " (0.044877203703644904, 'away_ft'),\n",
       " (0.04450664378251408, 'away_tov'),\n",
       " (0.04398651972933659, 'home_ft'),\n",
       " (0.0392995038566021, 'home_tov')]"
      ]
     },
     "execution_count": 14,
     "metadata": {},
     "output_type": "execute_result"
    }
   ],
   "source": [
    "sorted(zip(rf.feature_importances_, feature_names), reverse=True)"
   ]
  },
  {
   "cell_type": "code",
   "execution_count": 33,
   "metadata": {},
   "outputs": [],
   "source": [
    "from sklearn.preprocessing import StandardScaler\n",
    "\n",
    "# Create a StandardScater model and fit it to the training data\n",
    "\n",
    "X_scaler = StandardScaler().fit(X_train)\n",
    "y_scaler = StandardScaler().fit(y_train)"
   ]
  },
  {
   "cell_type": "code",
   "execution_count": 34,
   "metadata": {},
   "outputs": [],
   "source": [
    "X_train_scaled = X_scaler.transform(X_train)\n",
    "X_test_scaled = X_scaler.transform(X_test)\n",
    "y_train_scaled = y_scaler.transform(y_train)\n",
    "y_test_scaled = y_scaler.transform(y_test)"
   ]
  },
  {
   "cell_type": "code",
   "execution_count": 18,
   "metadata": {},
   "outputs": [
    {
     "data": {
      "text/plain": [
       "LinearRegression()"
      ]
     },
     "execution_count": 18,
     "metadata": {},
     "output_type": "execute_result"
    }
   ],
   "source": [
    "from sklearn.linear_model import LinearRegression\n",
    "model = LinearRegression()\n",
    "model.fit(X_train, y_train)"
   ]
  },
  {
   "cell_type": "code",
   "execution_count": 19,
   "metadata": {},
   "outputs": [
    {
     "name": "stdout",
     "output_type": "stream",
     "text": [
      "Training Data Score: 0.5899935109082002\n",
      "Testing Data Score: 0.5908381745647693\n"
     ]
    }
   ],
   "source": [
    "print(f\"Training Data Score: {model.score(X_train, y_train)}\")\n",
    "print(f\"Testing Data Score: {model.score(X_test, y_test)}\")"
   ]
  },
  {
   "cell_type": "code",
   "execution_count": 20,
   "metadata": {},
   "outputs": [
    {
     "name": "stdout",
     "output_type": "stream",
     "text": [
      "First 10 Predictions:   [ 0.86288827  0.33392024  0.57508435  0.07464113  0.61119147 -0.0903795\n",
      " -0.25376853  1.15173845  0.47046752  0.21276697]\n",
      "First 10 Actual labels: [1.0, 0.0, 1.0, 0.0, 1.0, 0.0, 0.0, 1.0, 1.0, 0.0]\n"
     ]
    }
   ],
   "source": [
    "predictions = model.predict(X_test)\n",
    "print(f\"First 10 Predictions:   {predictions[:10]}\")\n",
    "print(f\"First 10 Actual labels: {y_test[:10].tolist()}\")"
   ]
  },
  {
   "cell_type": "code",
   "execution_count": null,
   "metadata": {},
   "outputs": [],
   "source": []
  },
  {
   "cell_type": "code",
   "execution_count": null,
   "metadata": {},
   "outputs": [],
   "source": []
  },
  {
   "cell_type": "code",
   "execution_count": null,
   "metadata": {},
   "outputs": [],
   "source": []
  },
  {
   "cell_type": "code",
   "execution_count": null,
   "metadata": {},
   "outputs": [],
   "source": []
  }
 ],
 "metadata": {
  "kernelspec": {
   "display_name": "Python 3",
   "language": "python",
   "name": "python3"
  },
  "language_info": {
   "codemirror_mode": {
    "name": "ipython",
    "version": 3
   },
   "file_extension": ".py",
   "mimetype": "text/x-python",
   "name": "python",
   "nbconvert_exporter": "python",
   "pygments_lexer": "ipython3",
   "version": "3.8.3"
  }
 },
 "nbformat": 4,
 "nbformat_minor": 4
}
