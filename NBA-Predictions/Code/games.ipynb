{
 "cells": [
  {
   "cell_type": "code",
   "execution_count": 17,
   "metadata": {},
   "outputs": [],
   "source": [
    "import pandas as pd\n",
    "from nbapy import game, shot_chart, player, scoreboard, team\n",
    "import datetime"
   ]
  },
  {
   "cell_type": "code",
   "execution_count": null,
   "metadata": {},
   "outputs": [],
   "source": []
  },
  {
   "cell_type": "code",
   "execution_count": 18,
   "metadata": {},
   "outputs": [],
   "source": [
    "def datascrape(start):\n",
    "    start = datetime.datetime.strptime(start, \"%d-%m-%Y\")\n",
    "    #end = datetime.datetime.strptime(\"21-07-2014\", \"%d-%m-%Y\")\n",
    "    end = datetime.datetime.today()\n",
    "    dates = [start + datetime.timedelta(days=x) for x in range(0, (end-start).days)]\n",
    "    df = pd.DataFrame({\"date\": dates})\n",
    "    df[\"date\"] = df[\"date\"].astype(str)\n",
    "    df[['Year', 'Month', \"Day\"]] = df[\"date\"].str.split('-', 2, expand=True)\n",
    "    df[\"Month\"] = df[\"Month\"].str.lstrip('0')\n",
    "    df[\"Day\"] = df[\"Day\"].str.lstrip('0')\n",
    "    \n",
    "    #to limit to five\n",
    "    #df = df.head()\n",
    "    dates = []\n",
    "    for i, row in df.iterrows():\n",
    "        day = {}\n",
    "        day[\"year\"] = row[\"Year\"]\n",
    "        day[\"month\"] = row[\"Month\"]\n",
    "        day[\"day\"] = row[\"Day\"]\n",
    "        dates.append(day)\n",
    "    \n",
    "    init = pd.DataFrame({\n",
    "    \"GAME_DATE_EST_x\": [],\n",
    "    \"GAME_ID\": [],\n",
    "    \"TEAM_ABBREVIATION_x\": [],\n",
    "    \"TEAM_ABBREVIATION_y\": [],\n",
    "    \"PTS_x\": [],\n",
    "    \"PTS_y\": []\n",
    "    })\n",
    "    \n",
    "    for date in dates:\n",
    "        scores = scoreboard.Scoreboard(month=int(date[\"month\"]), day=int(date[\"day\"]), year=int(date[\"year\"]), league_id='00', offset=0)\n",
    "        df = scores.line_score()\n",
    "        if df.empty:\n",
    "            pass\n",
    "        else:\n",
    "            df_1 = df.drop_duplicates(subset=['GAME_ID'], keep='first')\n",
    "            df_2 = df.drop_duplicates(subset=['GAME_ID'], keep='last')\n",
    "            merged = df_1.merge(df_2, on=[\"GAME_ID\"])                                                                              #FG_PCT\tFT_PCT\tFG3_PCT\tAST\tREB\tTOV\n",
    "            merge = merged[[\"GAME_DATE_EST_x\", \"GAME_ID\", \"TEAM_ABBREVIATION_x\", \"TEAM_ID_x\", \"TEAM_ID_y\", \"TEAM_ABBREVIATION_y\", \"PTS_x\", \"PTS_y\", \"FG_PCT_x\", \"FG_PCT_y\", \"FT_PCT_x\", \"FT_PCT_y\", \"FG3_PCT_x\", \"FG3_PCT_y\", \"AST_x\", \"AST_y\", \"REB_x\", \"REB_y\", \"TOV_x\", \"TOV_y\"]]\n",
    "            init = pd.concat([init, merge], sort=True)\n",
    "    \n",
    "    return init"
   ]
  },
  {
   "cell_type": "code",
   "execution_count": 19,
   "metadata": {
    "scrolled": true
   },
   "outputs": [],
   "source": [
    "df = datascrape(\"20-12-2020\")\n"
   ]
  },
  {
   "cell_type": "code",
   "execution_count": 20,
   "metadata": {},
   "outputs": [],
   "source": [
    "#Rename columns\n",
    "df = df.rename(columns={\n",
    "            \"GAME_DATE_EST_x\": \"date\",\n",
    "            \"GAME_ID\": \"game_id\",\n",
    "            \"TEAM_ABBREVIATION_x\": \"away\",\n",
    "            \"TEAM_ABBREVIATION_y\": \"home\",\n",
    "            \"TEAM_ID_x\": \"away_id\",\n",
    "            \"TEAM_ID_y\": \"home_id\",\n",
    "            \"PTS_x\": \"away_pts\",\n",
    "            \"PTS_y\": \"home_pts\",\n",
    "            \"FG_PCT_x\": \"away_fg\",\n",
    "            \"FG_PCT_y\": \"home_fg\",\n",
    "            \"FT_PCT_x\": \"away_ft\",\n",
    "            \"FT_PCT_y\": \"home_ft\",\n",
    "            \"FG3_PCT_x\": \"away_fg3\",\n",
    "            \"FG3_PCT_y\": \"home_fg3\",\n",
    "            \"AST_x\": \"away_ast\",\n",
    "            \"AST_y\": \"home_ast\",\n",
    "            \"REB_x\": \"away_reb\",\n",
    "            \"REB_y\": \"home_reb\",\n",
    "            \"TOV_x\": \"away_tov\",\n",
    "            \"TOV_y\": \"home_tov\",\n",
    "            })\n",
    "\n",
    "df = df[[\"game_id\", \"date\", \"away\", \"home\",\"away_id\", \"home_id\",\"away_pts\",\"home_pts\", \"away_fg\",\"home_fg\", \"away_ft\",\n",
    "         \"home_ft\", \"away_fg3\", \"home_fg3\",\"away_ast\", \"home_ast\", \"away_reb\", \"home_reb\", \"away_tov\",\"home_tov\"]]"
   ]
  },
  {
   "cell_type": "code",
   "execution_count": 21,
   "metadata": {},
   "outputs": [],
   "source": [
    "#Add catagorical for win\n",
    "df.loc[df[\"home_pts\"] > df[\"away_pts\"], \"home_win\"] = 1\n",
    "df.loc[df[\"home_pts\"] < df[\"away_pts\"], \"home_win\"] = 0"
   ]
  },
  {
   "cell_type": "code",
   "execution_count": 22,
   "metadata": {},
   "outputs": [],
   "source": [
    "#Remove time\n",
    "df[\"date\"] = df[\"date\"].str.replace(\"T00:00:00\", \"\")"
   ]
  },
  {
   "cell_type": "code",
   "execution_count": 40,
   "metadata": {},
   "outputs": [],
   "source": [
    "df = df.reset_index(drop=True).dropna()"
   ]
  },
  {
   "cell_type": "code",
   "execution_count": 52,
   "metadata": {},
   "outputs": [
    {
     "data": {
      "text/html": [
       "<div>\n",
       "<style scoped>\n",
       "    .dataframe tbody tr th:only-of-type {\n",
       "        vertical-align: middle;\n",
       "    }\n",
       "\n",
       "    .dataframe tbody tr th {\n",
       "        vertical-align: top;\n",
       "    }\n",
       "\n",
       "    .dataframe thead th {\n",
       "        text-align: right;\n",
       "    }\n",
       "</style>\n",
       "<table border=\"1\" class=\"dataframe\">\n",
       "  <thead>\n",
       "    <tr style=\"text-align: right;\">\n",
       "      <th></th>\n",
       "      <th>game_id</th>\n",
       "      <th>date</th>\n",
       "      <th>away</th>\n",
       "      <th>home</th>\n",
       "      <th>away_id</th>\n",
       "      <th>home_id</th>\n",
       "      <th>away_pts</th>\n",
       "      <th>home_pts</th>\n",
       "      <th>away_fg</th>\n",
       "      <th>home_fg</th>\n",
       "      <th>...</th>\n",
       "      <th>home_ft</th>\n",
       "      <th>away_fg3</th>\n",
       "      <th>home_fg3</th>\n",
       "      <th>away_ast</th>\n",
       "      <th>home_ast</th>\n",
       "      <th>away_reb</th>\n",
       "      <th>home_reb</th>\n",
       "      <th>away_tov</th>\n",
       "      <th>home_tov</th>\n",
       "      <th>home_win</th>\n",
       "    </tr>\n",
       "  </thead>\n",
       "  <tbody>\n",
       "    <tr>\n",
       "      <th>0</th>\n",
       "      <td>0022000001</td>\n",
       "      <td>2020-12-22</td>\n",
       "      <td>GSW</td>\n",
       "      <td>BKN</td>\n",
       "      <td>1.610613e+09</td>\n",
       "      <td>1.610613e+09</td>\n",
       "      <td>99.0</td>\n",
       "      <td>125.0</td>\n",
       "      <td>0.374</td>\n",
       "      <td>0.457</td>\n",
       "      <td>...</td>\n",
       "      <td>0.813</td>\n",
       "      <td>0.303</td>\n",
       "      <td>0.429</td>\n",
       "      <td>26.0</td>\n",
       "      <td>24.0</td>\n",
       "      <td>47.0</td>\n",
       "      <td>57.0</td>\n",
       "      <td>18.0</td>\n",
       "      <td>20.0</td>\n",
       "      <td>1.0</td>\n",
       "    </tr>\n",
       "    <tr>\n",
       "      <th>1</th>\n",
       "      <td>0022000002</td>\n",
       "      <td>2020-12-22</td>\n",
       "      <td>LAC</td>\n",
       "      <td>LAL</td>\n",
       "      <td>1.610613e+09</td>\n",
       "      <td>1.610613e+09</td>\n",
       "      <td>116.0</td>\n",
       "      <td>109.0</td>\n",
       "      <td>0.473</td>\n",
       "      <td>0.469</td>\n",
       "      <td>...</td>\n",
       "      <td>0.774</td>\n",
       "      <td>0.350</td>\n",
       "      <td>0.310</td>\n",
       "      <td>22.0</td>\n",
       "      <td>22.0</td>\n",
       "      <td>40.0</td>\n",
       "      <td>45.0</td>\n",
       "      <td>16.0</td>\n",
       "      <td>19.0</td>\n",
       "      <td>0.0</td>\n",
       "    </tr>\n",
       "    <tr>\n",
       "      <th>2</th>\n",
       "      <td>0022000010</td>\n",
       "      <td>2020-12-23</td>\n",
       "      <td>CHA</td>\n",
       "      <td>CLE</td>\n",
       "      <td>1.610613e+09</td>\n",
       "      <td>1.610613e+09</td>\n",
       "      <td>114.0</td>\n",
       "      <td>121.0</td>\n",
       "      <td>0.500</td>\n",
       "      <td>0.529</td>\n",
       "      <td>...</td>\n",
       "      <td>0.750</td>\n",
       "      <td>0.364</td>\n",
       "      <td>0.467</td>\n",
       "      <td>29.0</td>\n",
       "      <td>34.0</td>\n",
       "      <td>32.0</td>\n",
       "      <td>50.0</td>\n",
       "      <td>15.0</td>\n",
       "      <td>18.0</td>\n",
       "      <td>1.0</td>\n",
       "    </tr>\n",
       "    <tr>\n",
       "      <th>3</th>\n",
       "      <td>0022000011</td>\n",
       "      <td>2020-12-23</td>\n",
       "      <td>NYK</td>\n",
       "      <td>IND</td>\n",
       "      <td>1.610613e+09</td>\n",
       "      <td>1.610613e+09</td>\n",
       "      <td>107.0</td>\n",
       "      <td>121.0</td>\n",
       "      <td>0.459</td>\n",
       "      <td>0.489</td>\n",
       "      <td>...</td>\n",
       "      <td>0.724</td>\n",
       "      <td>0.429</td>\n",
       "      <td>0.235</td>\n",
       "      <td>25.0</td>\n",
       "      <td>28.0</td>\n",
       "      <td>40.0</td>\n",
       "      <td>50.0</td>\n",
       "      <td>16.0</td>\n",
       "      <td>13.0</td>\n",
       "      <td>1.0</td>\n",
       "    </tr>\n",
       "    <tr>\n",
       "      <th>4</th>\n",
       "      <td>0022000012</td>\n",
       "      <td>2020-12-23</td>\n",
       "      <td>MIA</td>\n",
       "      <td>ORL</td>\n",
       "      <td>1.610613e+09</td>\n",
       "      <td>1.610613e+09</td>\n",
       "      <td>107.0</td>\n",
       "      <td>113.0</td>\n",
       "      <td>0.506</td>\n",
       "      <td>0.477</td>\n",
       "      <td>...</td>\n",
       "      <td>0.633</td>\n",
       "      <td>0.350</td>\n",
       "      <td>0.357</td>\n",
       "      <td>25.0</td>\n",
       "      <td>23.0</td>\n",
       "      <td>43.0</td>\n",
       "      <td>41.0</td>\n",
       "      <td>22.0</td>\n",
       "      <td>17.0</td>\n",
       "      <td>1.0</td>\n",
       "    </tr>\n",
       "    <tr>\n",
       "      <th>...</th>\n",
       "      <td>...</td>\n",
       "      <td>...</td>\n",
       "      <td>...</td>\n",
       "      <td>...</td>\n",
       "      <td>...</td>\n",
       "      <td>...</td>\n",
       "      <td>...</td>\n",
       "      <td>...</td>\n",
       "      <td>...</td>\n",
       "      <td>...</td>\n",
       "      <td>...</td>\n",
       "      <td>...</td>\n",
       "      <td>...</td>\n",
       "      <td>...</td>\n",
       "      <td>...</td>\n",
       "      <td>...</td>\n",
       "      <td>...</td>\n",
       "      <td>...</td>\n",
       "      <td>...</td>\n",
       "      <td>...</td>\n",
       "      <td>...</td>\n",
       "    </tr>\n",
       "    <tr>\n",
       "      <th>567</th>\n",
       "      <td>0022000597</td>\n",
       "      <td>2021-03-14</td>\n",
       "      <td>CLE</td>\n",
       "      <td>ATL</td>\n",
       "      <td>1.610613e+09</td>\n",
       "      <td>1.610613e+09</td>\n",
       "      <td>82.0</td>\n",
       "      <td>100.0</td>\n",
       "      <td>0.383</td>\n",
       "      <td>0.457</td>\n",
       "      <td>...</td>\n",
       "      <td>0.923</td>\n",
       "      <td>0.267</td>\n",
       "      <td>0.414</td>\n",
       "      <td>19.0</td>\n",
       "      <td>21.0</td>\n",
       "      <td>34.0</td>\n",
       "      <td>48.0</td>\n",
       "      <td>13.0</td>\n",
       "      <td>15.0</td>\n",
       "      <td>1.0</td>\n",
       "    </tr>\n",
       "    <tr>\n",
       "      <th>568</th>\n",
       "      <td>0022000598</td>\n",
       "      <td>2021-03-14</td>\n",
       "      <td>BOS</td>\n",
       "      <td>HOU</td>\n",
       "      <td>1.610613e+09</td>\n",
       "      <td>1.610613e+09</td>\n",
       "      <td>134.0</td>\n",
       "      <td>107.0</td>\n",
       "      <td>0.554</td>\n",
       "      <td>0.385</td>\n",
       "      <td>...</td>\n",
       "      <td>0.677</td>\n",
       "      <td>0.486</td>\n",
       "      <td>0.320</td>\n",
       "      <td>29.0</td>\n",
       "      <td>23.0</td>\n",
       "      <td>55.0</td>\n",
       "      <td>37.0</td>\n",
       "      <td>14.0</td>\n",
       "      <td>11.0</td>\n",
       "      <td>0.0</td>\n",
       "    </tr>\n",
       "    <tr>\n",
       "      <th>569</th>\n",
       "      <td>0022000599</td>\n",
       "      <td>2021-03-14</td>\n",
       "      <td>POR</td>\n",
       "      <td>MIN</td>\n",
       "      <td>1.610613e+09</td>\n",
       "      <td>1.610613e+09</td>\n",
       "      <td>112.0</td>\n",
       "      <td>114.0</td>\n",
       "      <td>0.438</td>\n",
       "      <td>0.493</td>\n",
       "      <td>...</td>\n",
       "      <td>0.744</td>\n",
       "      <td>0.378</td>\n",
       "      <td>0.342</td>\n",
       "      <td>22.0</td>\n",
       "      <td>24.0</td>\n",
       "      <td>42.0</td>\n",
       "      <td>45.0</td>\n",
       "      <td>11.0</td>\n",
       "      <td>12.0</td>\n",
       "      <td>1.0</td>\n",
       "    </tr>\n",
       "    <tr>\n",
       "      <th>570</th>\n",
       "      <td>0022000600</td>\n",
       "      <td>2021-03-14</td>\n",
       "      <td>TOR</td>\n",
       "      <td>CHI</td>\n",
       "      <td>1.610613e+09</td>\n",
       "      <td>1.610613e+09</td>\n",
       "      <td>95.0</td>\n",
       "      <td>118.0</td>\n",
       "      <td>0.382</td>\n",
       "      <td>0.454</td>\n",
       "      <td>...</td>\n",
       "      <td>0.783</td>\n",
       "      <td>0.267</td>\n",
       "      <td>0.273</td>\n",
       "      <td>23.0</td>\n",
       "      <td>35.0</td>\n",
       "      <td>37.0</td>\n",
       "      <td>60.0</td>\n",
       "      <td>12.0</td>\n",
       "      <td>11.0</td>\n",
       "      <td>1.0</td>\n",
       "    </tr>\n",
       "    <tr>\n",
       "      <th>571</th>\n",
       "      <td>0022000601</td>\n",
       "      <td>2021-03-14</td>\n",
       "      <td>LAC</td>\n",
       "      <td>NOP</td>\n",
       "      <td>1.610613e+09</td>\n",
       "      <td>1.610613e+09</td>\n",
       "      <td>115.0</td>\n",
       "      <td>135.0</td>\n",
       "      <td>0.457</td>\n",
       "      <td>0.654</td>\n",
       "      <td>...</td>\n",
       "      <td>0.810</td>\n",
       "      <td>0.349</td>\n",
       "      <td>0.462</td>\n",
       "      <td>23.0</td>\n",
       "      <td>38.0</td>\n",
       "      <td>32.0</td>\n",
       "      <td>40.0</td>\n",
       "      <td>12.0</td>\n",
       "      <td>18.0</td>\n",
       "      <td>1.0</td>\n",
       "    </tr>\n",
       "  </tbody>\n",
       "</table>\n",
       "<p>571 rows × 21 columns</p>\n",
       "</div>"
      ],
      "text/plain": [
       "        game_id        date away home       away_id       home_id  away_pts  \\\n",
       "0    0022000001  2020-12-22  GSW  BKN  1.610613e+09  1.610613e+09      99.0   \n",
       "1    0022000002  2020-12-22  LAC  LAL  1.610613e+09  1.610613e+09     116.0   \n",
       "2    0022000010  2020-12-23  CHA  CLE  1.610613e+09  1.610613e+09     114.0   \n",
       "3    0022000011  2020-12-23  NYK  IND  1.610613e+09  1.610613e+09     107.0   \n",
       "4    0022000012  2020-12-23  MIA  ORL  1.610613e+09  1.610613e+09     107.0   \n",
       "..          ...         ...  ...  ...           ...           ...       ...   \n",
       "567  0022000597  2021-03-14  CLE  ATL  1.610613e+09  1.610613e+09      82.0   \n",
       "568  0022000598  2021-03-14  BOS  HOU  1.610613e+09  1.610613e+09     134.0   \n",
       "569  0022000599  2021-03-14  POR  MIN  1.610613e+09  1.610613e+09     112.0   \n",
       "570  0022000600  2021-03-14  TOR  CHI  1.610613e+09  1.610613e+09      95.0   \n",
       "571  0022000601  2021-03-14  LAC  NOP  1.610613e+09  1.610613e+09     115.0   \n",
       "\n",
       "     home_pts  away_fg  home_fg  ...  home_ft  away_fg3  home_fg3  away_ast  \\\n",
       "0       125.0    0.374    0.457  ...    0.813     0.303     0.429      26.0   \n",
       "1       109.0    0.473    0.469  ...    0.774     0.350     0.310      22.0   \n",
       "2       121.0    0.500    0.529  ...    0.750     0.364     0.467      29.0   \n",
       "3       121.0    0.459    0.489  ...    0.724     0.429     0.235      25.0   \n",
       "4       113.0    0.506    0.477  ...    0.633     0.350     0.357      25.0   \n",
       "..        ...      ...      ...  ...      ...       ...       ...       ...   \n",
       "567     100.0    0.383    0.457  ...    0.923     0.267     0.414      19.0   \n",
       "568     107.0    0.554    0.385  ...    0.677     0.486     0.320      29.0   \n",
       "569     114.0    0.438    0.493  ...    0.744     0.378     0.342      22.0   \n",
       "570     118.0    0.382    0.454  ...    0.783     0.267     0.273      23.0   \n",
       "571     135.0    0.457    0.654  ...    0.810     0.349     0.462      23.0   \n",
       "\n",
       "     home_ast  away_reb  home_reb  away_tov  home_tov  home_win  \n",
       "0        24.0      47.0      57.0      18.0      20.0       1.0  \n",
       "1        22.0      40.0      45.0      16.0      19.0       0.0  \n",
       "2        34.0      32.0      50.0      15.0      18.0       1.0  \n",
       "3        28.0      40.0      50.0      16.0      13.0       1.0  \n",
       "4        23.0      43.0      41.0      22.0      17.0       1.0  \n",
       "..        ...       ...       ...       ...       ...       ...  \n",
       "567      21.0      34.0      48.0      13.0      15.0       1.0  \n",
       "568      23.0      55.0      37.0      14.0      11.0       0.0  \n",
       "569      24.0      42.0      45.0      11.0      12.0       1.0  \n",
       "570      35.0      37.0      60.0      12.0      11.0       1.0  \n",
       "571      38.0      32.0      40.0      12.0      18.0       1.0  \n",
       "\n",
       "[571 rows x 21 columns]"
      ]
     },
     "execution_count": 52,
     "metadata": {},
     "output_type": "execute_result"
    }
   ],
   "source": [
    "df"
   ]
  },
  {
   "cell_type": "code",
   "execution_count": 53,
   "metadata": {},
   "outputs": [
    {
     "name": "stdout",
     "output_type": "stream",
     "text": [
      "(571, 12) (571, 1)\n"
     ]
    }
   ],
   "source": [
    "# Assign X (data) and y (target)\n",
    "X = df[[\"away_fg\",\"home_fg\", \"away_ft\", \"home_ft\", \"away_fg3\", \"home_fg3\",\"away_ast\", \"home_ast\", \"away_reb\", \"home_reb\", \"away_tov\",\"home_tov\"]]\n",
    "y = df[\"home_win\"].values.reshape(-1, 1)\n",
    "print(X.shape, y.shape)"
   ]
  },
  {
   "cell_type": "code",
   "execution_count": 54,
   "metadata": {},
   "outputs": [],
   "source": [
    "from sklearn.model_selection import train_test_split\n",
    "\n",
    "X_train, X_test, y_train, y_test = train_test_split(X, y, random_state=1)"
   ]
  },
  {
   "cell_type": "code",
   "execution_count": 55,
   "metadata": {},
   "outputs": [],
   "source": [
    "from sklearn.preprocessing import StandardScaler\n",
    "\n",
    "# Create a StandardScater model and fit it to the training data\n",
    "\n",
    "### BEGIN SOLUTION\n",
    "X_scaler = StandardScaler().fit(X_train)\n",
    "y_scaler = StandardScaler().fit(y_train)"
   ]
  },
  {
   "cell_type": "code",
   "execution_count": 56,
   "metadata": {},
   "outputs": [],
   "source": [
    "X_train_scaled = X_scaler.transform(X_train)\n",
    "X_test_scaled = X_scaler.transform(X_test)\n",
    "y_train_scaled = y_scaler.transform(y_train)\n",
    "y_test_scaled = y_scaler.transform(y_test)\n",
    "### END SOLUTION"
   ]
  },
  {
   "cell_type": "code",
   "execution_count": 57,
   "metadata": {},
   "outputs": [
    {
     "data": {
      "text/plain": [
       "LinearRegression()"
      ]
     },
     "execution_count": 57,
     "metadata": {},
     "output_type": "execute_result"
    }
   ],
   "source": [
    "from sklearn.linear_model import LinearRegression\n",
    "model = LinearRegression()\n",
    "model.fit(X_train_scaled, y_train_scaled)"
   ]
  },
  {
   "cell_type": "code",
   "execution_count": null,
   "metadata": {},
   "outputs": [],
   "source": []
  },
  {
   "cell_type": "code",
   "execution_count": null,
   "metadata": {},
   "outputs": [],
   "source": []
  },
  {
   "cell_type": "code",
   "execution_count": null,
   "metadata": {},
   "outputs": [],
   "source": []
  },
  {
   "cell_type": "code",
   "execution_count": null,
   "metadata": {},
   "outputs": [],
   "source": []
  },
  {
   "cell_type": "code",
   "execution_count": null,
   "metadata": {},
   "outputs": [],
   "source": []
  },
  {
   "cell_type": "code",
   "execution_count": 43,
   "metadata": {},
   "outputs": [
    {
     "data": {
      "text/plain": [
       "LinearRegression()"
      ]
     },
     "execution_count": 43,
     "metadata": {},
     "output_type": "execute_result"
    }
   ],
   "source": []
  },
  {
   "cell_type": "code",
   "execution_count": 44,
   "metadata": {},
   "outputs": [
    {
     "data": {
      "text/plain": [
       "LinearRegression()"
      ]
     },
     "execution_count": 44,
     "metadata": {},
     "output_type": "execute_result"
    }
   ],
   "source": []
  },
  {
   "cell_type": "code",
   "execution_count": 58,
   "metadata": {},
   "outputs": [
    {
     "name": "stdout",
     "output_type": "stream",
     "text": [
      "Training Data Score: 0.5903905220650796\n",
      "Testing Data Score: 0.5706905443449757\n"
     ]
    }
   ],
   "source": [
    "print(f\"Training Data Score: {model.score(X_train_scaled, y_train_scaled)}\")\n",
    "print(f\"Testing Data Score: {model.score(X_test_scaled, y_test_scaled)}\")"
   ]
  },
  {
   "cell_type": "code",
   "execution_count": 59,
   "metadata": {},
   "outputs": [
    {
     "name": "stdout",
     "output_type": "stream",
     "text": [
      "First 10 Predictions:   [[0.32934992]\n",
      " [0.94143168]\n",
      " [0.50935306]\n",
      " [0.38255093]\n",
      " [0.27333128]\n",
      " [0.67663817]\n",
      " [0.447466  ]\n",
      " [0.31976172]\n",
      " [0.80686541]\n",
      " [0.37314363]]\n",
      "First 10 Actual labels: [[0.0], [1.0], [0.0], [1.0], [0.0], [1.0], [0.0], [0.0], [1.0], [0.0]]\n"
     ]
    }
   ],
   "source": [
    "predictions = classifier.predict(X_test)\n",
    "print(f\"First 10 Predictions:   {predictions[:10]}\")\n",
    "print(f\"First 10 Actual labels: {y_test[:10].tolist()}\")"
   ]
  },
  {
   "cell_type": "code",
   "execution_count": 51,
   "metadata": {},
   "outputs": [
    {
     "ename": "ValueError",
     "evalue": "If using all scalar values, you must pass an index",
     "output_type": "error",
     "traceback": [
      "\u001b[0;31m---------------------------------------------------------------------------\u001b[0m",
      "\u001b[0;31mValueError\u001b[0m                                Traceback (most recent call last)",
      "\u001b[0;32m<ipython-input-51-ba645485adc9>\u001b[0m in \u001b[0;36m<module>\u001b[0;34m\u001b[0m\n\u001b[0;32m----> 1\u001b[0;31m \u001b[0mpd\u001b[0m\u001b[0;34m.\u001b[0m\u001b[0mDataFrame\u001b[0m\u001b[0;34m(\u001b[0m\u001b[0;34m{\u001b[0m\u001b[0;34m\"Prediction\"\u001b[0m\u001b[0;34m:\u001b[0m \u001b[0mpredictions\u001b[0m\u001b[0;34m,\u001b[0m \u001b[0;34m\"Actual\"\u001b[0m\u001b[0;34m:\u001b[0m \u001b[0my_test\u001b[0m\u001b[0;34m}\u001b[0m\u001b[0;34m,\u001b[0m \u001b[0mindex\u001b[0m\u001b[0;34m=\u001b[0m\u001b[0;32mNone\u001b[0m\u001b[0;34m)\u001b[0m\u001b[0;34m\u001b[0m\u001b[0;34m\u001b[0m\u001b[0m\n\u001b[0m",
      "\u001b[0;32m/opt/anaconda3/lib/python3.8/site-packages/pandas/core/frame.py\u001b[0m in \u001b[0;36m__init__\u001b[0;34m(self, data, index, columns, dtype, copy)\u001b[0m\n\u001b[1;32m    409\u001b[0m             )\n\u001b[1;32m    410\u001b[0m         \u001b[0;32melif\u001b[0m \u001b[0misinstance\u001b[0m\u001b[0;34m(\u001b[0m\u001b[0mdata\u001b[0m\u001b[0;34m,\u001b[0m \u001b[0mdict\u001b[0m\u001b[0;34m)\u001b[0m\u001b[0;34m:\u001b[0m\u001b[0;34m\u001b[0m\u001b[0;34m\u001b[0m\u001b[0m\n\u001b[0;32m--> 411\u001b[0;31m             \u001b[0mmgr\u001b[0m \u001b[0;34m=\u001b[0m \u001b[0minit_dict\u001b[0m\u001b[0;34m(\u001b[0m\u001b[0mdata\u001b[0m\u001b[0;34m,\u001b[0m \u001b[0mindex\u001b[0m\u001b[0;34m,\u001b[0m \u001b[0mcolumns\u001b[0m\u001b[0;34m,\u001b[0m \u001b[0mdtype\u001b[0m\u001b[0;34m=\u001b[0m\u001b[0mdtype\u001b[0m\u001b[0;34m)\u001b[0m\u001b[0;34m\u001b[0m\u001b[0;34m\u001b[0m\u001b[0m\n\u001b[0m\u001b[1;32m    412\u001b[0m         \u001b[0;32melif\u001b[0m \u001b[0misinstance\u001b[0m\u001b[0;34m(\u001b[0m\u001b[0mdata\u001b[0m\u001b[0;34m,\u001b[0m \u001b[0mma\u001b[0m\u001b[0;34m.\u001b[0m\u001b[0mMaskedArray\u001b[0m\u001b[0;34m)\u001b[0m\u001b[0;34m:\u001b[0m\u001b[0;34m\u001b[0m\u001b[0;34m\u001b[0m\u001b[0m\n\u001b[1;32m    413\u001b[0m             \u001b[0;32mimport\u001b[0m \u001b[0mnumpy\u001b[0m\u001b[0;34m.\u001b[0m\u001b[0mma\u001b[0m\u001b[0;34m.\u001b[0m\u001b[0mmrecords\u001b[0m \u001b[0;32mas\u001b[0m \u001b[0mmrecords\u001b[0m\u001b[0;34m\u001b[0m\u001b[0;34m\u001b[0m\u001b[0m\n",
      "\u001b[0;32m/opt/anaconda3/lib/python3.8/site-packages/pandas/core/internals/construction.py\u001b[0m in \u001b[0;36minit_dict\u001b[0;34m(data, index, columns, dtype)\u001b[0m\n\u001b[1;32m    255\u001b[0m             \u001b[0marr\u001b[0m \u001b[0;32mif\u001b[0m \u001b[0;32mnot\u001b[0m \u001b[0mis_datetime64tz_dtype\u001b[0m\u001b[0;34m(\u001b[0m\u001b[0marr\u001b[0m\u001b[0;34m)\u001b[0m \u001b[0;32melse\u001b[0m \u001b[0marr\u001b[0m\u001b[0;34m.\u001b[0m\u001b[0mcopy\u001b[0m\u001b[0;34m(\u001b[0m\u001b[0;34m)\u001b[0m \u001b[0;32mfor\u001b[0m \u001b[0marr\u001b[0m \u001b[0;32min\u001b[0m \u001b[0marrays\u001b[0m\u001b[0;34m\u001b[0m\u001b[0;34m\u001b[0m\u001b[0m\n\u001b[1;32m    256\u001b[0m         ]\n\u001b[0;32m--> 257\u001b[0;31m     \u001b[0;32mreturn\u001b[0m \u001b[0marrays_to_mgr\u001b[0m\u001b[0;34m(\u001b[0m\u001b[0marrays\u001b[0m\u001b[0;34m,\u001b[0m \u001b[0mdata_names\u001b[0m\u001b[0;34m,\u001b[0m \u001b[0mindex\u001b[0m\u001b[0;34m,\u001b[0m \u001b[0mcolumns\u001b[0m\u001b[0;34m,\u001b[0m \u001b[0mdtype\u001b[0m\u001b[0;34m=\u001b[0m\u001b[0mdtype\u001b[0m\u001b[0;34m)\u001b[0m\u001b[0;34m\u001b[0m\u001b[0;34m\u001b[0m\u001b[0m\n\u001b[0m\u001b[1;32m    258\u001b[0m \u001b[0;34m\u001b[0m\u001b[0m\n\u001b[1;32m    259\u001b[0m \u001b[0;34m\u001b[0m\u001b[0m\n",
      "\u001b[0;32m/opt/anaconda3/lib/python3.8/site-packages/pandas/core/internals/construction.py\u001b[0m in \u001b[0;36marrays_to_mgr\u001b[0;34m(arrays, arr_names, index, columns, dtype)\u001b[0m\n\u001b[1;32m     75\u001b[0m     \u001b[0;31m# figure out the index, if necessary\u001b[0m\u001b[0;34m\u001b[0m\u001b[0;34m\u001b[0m\u001b[0;34m\u001b[0m\u001b[0m\n\u001b[1;32m     76\u001b[0m     \u001b[0;32mif\u001b[0m \u001b[0mindex\u001b[0m \u001b[0;32mis\u001b[0m \u001b[0;32mNone\u001b[0m\u001b[0;34m:\u001b[0m\u001b[0;34m\u001b[0m\u001b[0;34m\u001b[0m\u001b[0m\n\u001b[0;32m---> 77\u001b[0;31m         \u001b[0mindex\u001b[0m \u001b[0;34m=\u001b[0m \u001b[0mextract_index\u001b[0m\u001b[0;34m(\u001b[0m\u001b[0marrays\u001b[0m\u001b[0;34m)\u001b[0m\u001b[0;34m\u001b[0m\u001b[0;34m\u001b[0m\u001b[0m\n\u001b[0m\u001b[1;32m     78\u001b[0m     \u001b[0;32melse\u001b[0m\u001b[0;34m:\u001b[0m\u001b[0;34m\u001b[0m\u001b[0;34m\u001b[0m\u001b[0m\n\u001b[1;32m     79\u001b[0m         \u001b[0mindex\u001b[0m \u001b[0;34m=\u001b[0m \u001b[0mensure_index\u001b[0m\u001b[0;34m(\u001b[0m\u001b[0mindex\u001b[0m\u001b[0;34m)\u001b[0m\u001b[0;34m\u001b[0m\u001b[0;34m\u001b[0m\u001b[0m\n",
      "\u001b[0;32m/opt/anaconda3/lib/python3.8/site-packages/pandas/core/internals/construction.py\u001b[0m in \u001b[0;36mextract_index\u001b[0;34m(data)\u001b[0m\n\u001b[1;32m    356\u001b[0m \u001b[0;34m\u001b[0m\u001b[0m\n\u001b[1;32m    357\u001b[0m         \u001b[0;32mif\u001b[0m \u001b[0;32mnot\u001b[0m \u001b[0mindexes\u001b[0m \u001b[0;32mand\u001b[0m \u001b[0;32mnot\u001b[0m \u001b[0mraw_lengths\u001b[0m\u001b[0;34m:\u001b[0m\u001b[0;34m\u001b[0m\u001b[0;34m\u001b[0m\u001b[0m\n\u001b[0;32m--> 358\u001b[0;31m             \u001b[0;32mraise\u001b[0m \u001b[0mValueError\u001b[0m\u001b[0;34m(\u001b[0m\u001b[0;34m\"If using all scalar values, you must pass an index\"\u001b[0m\u001b[0;34m)\u001b[0m\u001b[0;34m\u001b[0m\u001b[0;34m\u001b[0m\u001b[0m\n\u001b[0m\u001b[1;32m    359\u001b[0m \u001b[0;34m\u001b[0m\u001b[0m\n\u001b[1;32m    360\u001b[0m         \u001b[0;32mif\u001b[0m \u001b[0mhave_series\u001b[0m\u001b[0;34m:\u001b[0m\u001b[0;34m\u001b[0m\u001b[0;34m\u001b[0m\u001b[0m\n",
      "\u001b[0;31mValueError\u001b[0m: If using all scalar values, you must pass an index"
     ]
    }
   ],
   "source": [
    "pd.DataFrame({\"Prediction\": predictions, \"Actual\": y_test})"
   ]
  },
  {
   "cell_type": "code",
   "execution_count": null,
   "metadata": {},
   "outputs": [],
   "source": []
  },
  {
   "cell_type": "code",
   "execution_count": null,
   "metadata": {},
   "outputs": [],
   "source": []
  },
  {
   "cell_type": "code",
   "execution_count": null,
   "metadata": {},
   "outputs": [],
   "source": []
  },
  {
   "cell_type": "code",
   "execution_count": null,
   "metadata": {},
   "outputs": [],
   "source": []
  }
 ],
 "metadata": {
  "kernelspec": {
   "display_name": "Python 3",
   "language": "python",
   "name": "python3"
  },
  "language_info": {
   "codemirror_mode": {
    "name": "ipython",
    "version": 3
   },
   "file_extension": ".py",
   "mimetype": "text/x-python",
   "name": "python",
   "nbconvert_exporter": "python",
   "pygments_lexer": "ipython3",
   "version": "3.8.3"
  }
 },
 "nbformat": 4,
 "nbformat_minor": 4
}
